{
 "cells": [
  {
   "cell_type": "markdown",
   "metadata": {},
   "source": [
    "# 1. Завантаження та огляд даних"
   ]
  },
  {
   "cell_type": "code",
   "execution_count": 25,
   "metadata": {
    "collapsed": true
   },
   "outputs": [],
   "source": [
    "import pandas as pd\n",
    "import numpy as np\n",
    "import seaborn as sns\n",
    "import matplotlib.pyplot as plt\n",
    "%matplotlib inline"
   ]
  },
  {
   "cell_type": "code",
   "execution_count": 26,
   "metadata": {
    "collapsed": true
   },
   "outputs": [],
   "source": [
    "df = pd.read_csv('train.csv')"
   ]
  },
  {
   "cell_type": "code",
   "execution_count": 27,
   "metadata": {},
   "outputs": [
    {
     "data": {
      "text/html": [
       "<div>\n",
       "<style scoped>\n",
       "    .dataframe tbody tr th:only-of-type {\n",
       "        vertical-align: middle;\n",
       "    }\n",
       "\n",
       "    .dataframe tbody tr th {\n",
       "        vertical-align: top;\n",
       "    }\n",
       "\n",
       "    .dataframe thead th {\n",
       "        text-align: right;\n",
       "    }\n",
       "</style>\n",
       "<table border=\"1\" class=\"dataframe\">\n",
       "  <thead>\n",
       "    <tr style=\"text-align: right;\">\n",
       "      <th></th>\n",
       "      <th>Id</th>\n",
       "      <th>MSSubClass</th>\n",
       "      <th>MSZoning</th>\n",
       "      <th>LotFrontage</th>\n",
       "      <th>LotArea</th>\n",
       "      <th>Street</th>\n",
       "      <th>Alley</th>\n",
       "      <th>LotShape</th>\n",
       "      <th>LandContour</th>\n",
       "      <th>Utilities</th>\n",
       "      <th>...</th>\n",
       "      <th>PoolArea</th>\n",
       "      <th>PoolQC</th>\n",
       "      <th>Fence</th>\n",
       "      <th>MiscFeature</th>\n",
       "      <th>MiscVal</th>\n",
       "      <th>MoSold</th>\n",
       "      <th>YrSold</th>\n",
       "      <th>SaleType</th>\n",
       "      <th>SaleCondition</th>\n",
       "      <th>SalePrice</th>\n",
       "    </tr>\n",
       "  </thead>\n",
       "  <tbody>\n",
       "    <tr>\n",
       "      <th>0</th>\n",
       "      <td>1</td>\n",
       "      <td>60</td>\n",
       "      <td>RL</td>\n",
       "      <td>65.0</td>\n",
       "      <td>8450</td>\n",
       "      <td>Pave</td>\n",
       "      <td>NaN</td>\n",
       "      <td>Reg</td>\n",
       "      <td>Lvl</td>\n",
       "      <td>AllPub</td>\n",
       "      <td>...</td>\n",
       "      <td>0</td>\n",
       "      <td>NaN</td>\n",
       "      <td>NaN</td>\n",
       "      <td>NaN</td>\n",
       "      <td>0</td>\n",
       "      <td>2</td>\n",
       "      <td>2008</td>\n",
       "      <td>WD</td>\n",
       "      <td>Normal</td>\n",
       "      <td>208500</td>\n",
       "    </tr>\n",
       "    <tr>\n",
       "      <th>1</th>\n",
       "      <td>2</td>\n",
       "      <td>20</td>\n",
       "      <td>RL</td>\n",
       "      <td>80.0</td>\n",
       "      <td>9600</td>\n",
       "      <td>Pave</td>\n",
       "      <td>NaN</td>\n",
       "      <td>Reg</td>\n",
       "      <td>Lvl</td>\n",
       "      <td>AllPub</td>\n",
       "      <td>...</td>\n",
       "      <td>0</td>\n",
       "      <td>NaN</td>\n",
       "      <td>NaN</td>\n",
       "      <td>NaN</td>\n",
       "      <td>0</td>\n",
       "      <td>5</td>\n",
       "      <td>2007</td>\n",
       "      <td>WD</td>\n",
       "      <td>Normal</td>\n",
       "      <td>181500</td>\n",
       "    </tr>\n",
       "    <tr>\n",
       "      <th>2</th>\n",
       "      <td>3</td>\n",
       "      <td>60</td>\n",
       "      <td>RL</td>\n",
       "      <td>68.0</td>\n",
       "      <td>11250</td>\n",
       "      <td>Pave</td>\n",
       "      <td>NaN</td>\n",
       "      <td>IR1</td>\n",
       "      <td>Lvl</td>\n",
       "      <td>AllPub</td>\n",
       "      <td>...</td>\n",
       "      <td>0</td>\n",
       "      <td>NaN</td>\n",
       "      <td>NaN</td>\n",
       "      <td>NaN</td>\n",
       "      <td>0</td>\n",
       "      <td>9</td>\n",
       "      <td>2008</td>\n",
       "      <td>WD</td>\n",
       "      <td>Normal</td>\n",
       "      <td>223500</td>\n",
       "    </tr>\n",
       "    <tr>\n",
       "      <th>3</th>\n",
       "      <td>4</td>\n",
       "      <td>70</td>\n",
       "      <td>RL</td>\n",
       "      <td>60.0</td>\n",
       "      <td>9550</td>\n",
       "      <td>Pave</td>\n",
       "      <td>NaN</td>\n",
       "      <td>IR1</td>\n",
       "      <td>Lvl</td>\n",
       "      <td>AllPub</td>\n",
       "      <td>...</td>\n",
       "      <td>0</td>\n",
       "      <td>NaN</td>\n",
       "      <td>NaN</td>\n",
       "      <td>NaN</td>\n",
       "      <td>0</td>\n",
       "      <td>2</td>\n",
       "      <td>2006</td>\n",
       "      <td>WD</td>\n",
       "      <td>Abnorml</td>\n",
       "      <td>140000</td>\n",
       "    </tr>\n",
       "    <tr>\n",
       "      <th>4</th>\n",
       "      <td>5</td>\n",
       "      <td>60</td>\n",
       "      <td>RL</td>\n",
       "      <td>84.0</td>\n",
       "      <td>14260</td>\n",
       "      <td>Pave</td>\n",
       "      <td>NaN</td>\n",
       "      <td>IR1</td>\n",
       "      <td>Lvl</td>\n",
       "      <td>AllPub</td>\n",
       "      <td>...</td>\n",
       "      <td>0</td>\n",
       "      <td>NaN</td>\n",
       "      <td>NaN</td>\n",
       "      <td>NaN</td>\n",
       "      <td>0</td>\n",
       "      <td>12</td>\n",
       "      <td>2008</td>\n",
       "      <td>WD</td>\n",
       "      <td>Normal</td>\n",
       "      <td>250000</td>\n",
       "    </tr>\n",
       "  </tbody>\n",
       "</table>\n",
       "<p>5 rows × 81 columns</p>\n",
       "</div>"
      ],
      "text/plain": [
       "   Id  MSSubClass MSZoning  LotFrontage  LotArea Street Alley LotShape  \\\n",
       "0   1          60       RL         65.0     8450   Pave   NaN      Reg   \n",
       "1   2          20       RL         80.0     9600   Pave   NaN      Reg   \n",
       "2   3          60       RL         68.0    11250   Pave   NaN      IR1   \n",
       "3   4          70       RL         60.0     9550   Pave   NaN      IR1   \n",
       "4   5          60       RL         84.0    14260   Pave   NaN      IR1   \n",
       "\n",
       "  LandContour Utilities  ... PoolArea PoolQC Fence MiscFeature MiscVal MoSold  \\\n",
       "0         Lvl    AllPub  ...        0    NaN   NaN         NaN       0      2   \n",
       "1         Lvl    AllPub  ...        0    NaN   NaN         NaN       0      5   \n",
       "2         Lvl    AllPub  ...        0    NaN   NaN         NaN       0      9   \n",
       "3         Lvl    AllPub  ...        0    NaN   NaN         NaN       0      2   \n",
       "4         Lvl    AllPub  ...        0    NaN   NaN         NaN       0     12   \n",
       "\n",
       "  YrSold  SaleType  SaleCondition  SalePrice  \n",
       "0   2008        WD         Normal     208500  \n",
       "1   2007        WD         Normal     181500  \n",
       "2   2008        WD         Normal     223500  \n",
       "3   2006        WD        Abnorml     140000  \n",
       "4   2008        WD         Normal     250000  \n",
       "\n",
       "[5 rows x 81 columns]"
      ]
     },
     "execution_count": 27,
     "metadata": {},
     "output_type": "execute_result"
    }
   ],
   "source": [
    "df.head()"
   ]
  },
  {
   "cell_type": "code",
   "execution_count": 28,
   "metadata": {},
   "outputs": [
    {
     "data": {
      "text/html": [
       "<div>\n",
       "<style scoped>\n",
       "    .dataframe tbody tr th:only-of-type {\n",
       "        vertical-align: middle;\n",
       "    }\n",
       "\n",
       "    .dataframe tbody tr th {\n",
       "        vertical-align: top;\n",
       "    }\n",
       "\n",
       "    .dataframe thead th {\n",
       "        text-align: right;\n",
       "    }\n",
       "</style>\n",
       "<table border=\"1\" class=\"dataframe\">\n",
       "  <thead>\n",
       "    <tr style=\"text-align: right;\">\n",
       "      <th></th>\n",
       "      <th>Id</th>\n",
       "      <th>MSSubClass</th>\n",
       "      <th>LotFrontage</th>\n",
       "      <th>LotArea</th>\n",
       "      <th>OverallQual</th>\n",
       "      <th>OverallCond</th>\n",
       "      <th>YearBuilt</th>\n",
       "      <th>YearRemodAdd</th>\n",
       "      <th>MasVnrArea</th>\n",
       "      <th>BsmtFinSF1</th>\n",
       "      <th>...</th>\n",
       "      <th>WoodDeckSF</th>\n",
       "      <th>OpenPorchSF</th>\n",
       "      <th>EnclosedPorch</th>\n",
       "      <th>3SsnPorch</th>\n",
       "      <th>ScreenPorch</th>\n",
       "      <th>PoolArea</th>\n",
       "      <th>MiscVal</th>\n",
       "      <th>MoSold</th>\n",
       "      <th>YrSold</th>\n",
       "      <th>SalePrice</th>\n",
       "    </tr>\n",
       "  </thead>\n",
       "  <tbody>\n",
       "    <tr>\n",
       "      <th>count</th>\n",
       "      <td>1460.000000</td>\n",
       "      <td>1460.000000</td>\n",
       "      <td>1201.000000</td>\n",
       "      <td>1460.000000</td>\n",
       "      <td>1460.000000</td>\n",
       "      <td>1460.000000</td>\n",
       "      <td>1460.000000</td>\n",
       "      <td>1460.000000</td>\n",
       "      <td>1452.000000</td>\n",
       "      <td>1460.000000</td>\n",
       "      <td>...</td>\n",
       "      <td>1460.000000</td>\n",
       "      <td>1460.000000</td>\n",
       "      <td>1460.000000</td>\n",
       "      <td>1460.000000</td>\n",
       "      <td>1460.000000</td>\n",
       "      <td>1460.000000</td>\n",
       "      <td>1460.000000</td>\n",
       "      <td>1460.000000</td>\n",
       "      <td>1460.000000</td>\n",
       "      <td>1460.000000</td>\n",
       "    </tr>\n",
       "    <tr>\n",
       "      <th>mean</th>\n",
       "      <td>730.500000</td>\n",
       "      <td>56.897260</td>\n",
       "      <td>70.049958</td>\n",
       "      <td>10516.828082</td>\n",
       "      <td>6.099315</td>\n",
       "      <td>5.575342</td>\n",
       "      <td>1971.267808</td>\n",
       "      <td>1984.865753</td>\n",
       "      <td>103.685262</td>\n",
       "      <td>443.639726</td>\n",
       "      <td>...</td>\n",
       "      <td>94.244521</td>\n",
       "      <td>46.660274</td>\n",
       "      <td>21.954110</td>\n",
       "      <td>3.409589</td>\n",
       "      <td>15.060959</td>\n",
       "      <td>2.758904</td>\n",
       "      <td>43.489041</td>\n",
       "      <td>6.321918</td>\n",
       "      <td>2007.815753</td>\n",
       "      <td>180921.195890</td>\n",
       "    </tr>\n",
       "    <tr>\n",
       "      <th>std</th>\n",
       "      <td>421.610009</td>\n",
       "      <td>42.300571</td>\n",
       "      <td>24.284752</td>\n",
       "      <td>9981.264932</td>\n",
       "      <td>1.382997</td>\n",
       "      <td>1.112799</td>\n",
       "      <td>30.202904</td>\n",
       "      <td>20.645407</td>\n",
       "      <td>181.066207</td>\n",
       "      <td>456.098091</td>\n",
       "      <td>...</td>\n",
       "      <td>125.338794</td>\n",
       "      <td>66.256028</td>\n",
       "      <td>61.119149</td>\n",
       "      <td>29.317331</td>\n",
       "      <td>55.757415</td>\n",
       "      <td>40.177307</td>\n",
       "      <td>496.123024</td>\n",
       "      <td>2.703626</td>\n",
       "      <td>1.328095</td>\n",
       "      <td>79442.502883</td>\n",
       "    </tr>\n",
       "    <tr>\n",
       "      <th>min</th>\n",
       "      <td>1.000000</td>\n",
       "      <td>20.000000</td>\n",
       "      <td>21.000000</td>\n",
       "      <td>1300.000000</td>\n",
       "      <td>1.000000</td>\n",
       "      <td>1.000000</td>\n",
       "      <td>1872.000000</td>\n",
       "      <td>1950.000000</td>\n",
       "      <td>0.000000</td>\n",
       "      <td>0.000000</td>\n",
       "      <td>...</td>\n",
       "      <td>0.000000</td>\n",
       "      <td>0.000000</td>\n",
       "      <td>0.000000</td>\n",
       "      <td>0.000000</td>\n",
       "      <td>0.000000</td>\n",
       "      <td>0.000000</td>\n",
       "      <td>0.000000</td>\n",
       "      <td>1.000000</td>\n",
       "      <td>2006.000000</td>\n",
       "      <td>34900.000000</td>\n",
       "    </tr>\n",
       "    <tr>\n",
       "      <th>25%</th>\n",
       "      <td>365.750000</td>\n",
       "      <td>20.000000</td>\n",
       "      <td>59.000000</td>\n",
       "      <td>7553.500000</td>\n",
       "      <td>5.000000</td>\n",
       "      <td>5.000000</td>\n",
       "      <td>1954.000000</td>\n",
       "      <td>1967.000000</td>\n",
       "      <td>0.000000</td>\n",
       "      <td>0.000000</td>\n",
       "      <td>...</td>\n",
       "      <td>0.000000</td>\n",
       "      <td>0.000000</td>\n",
       "      <td>0.000000</td>\n",
       "      <td>0.000000</td>\n",
       "      <td>0.000000</td>\n",
       "      <td>0.000000</td>\n",
       "      <td>0.000000</td>\n",
       "      <td>5.000000</td>\n",
       "      <td>2007.000000</td>\n",
       "      <td>129975.000000</td>\n",
       "    </tr>\n",
       "    <tr>\n",
       "      <th>50%</th>\n",
       "      <td>730.500000</td>\n",
       "      <td>50.000000</td>\n",
       "      <td>69.000000</td>\n",
       "      <td>9478.500000</td>\n",
       "      <td>6.000000</td>\n",
       "      <td>5.000000</td>\n",
       "      <td>1973.000000</td>\n",
       "      <td>1994.000000</td>\n",
       "      <td>0.000000</td>\n",
       "      <td>383.500000</td>\n",
       "      <td>...</td>\n",
       "      <td>0.000000</td>\n",
       "      <td>25.000000</td>\n",
       "      <td>0.000000</td>\n",
       "      <td>0.000000</td>\n",
       "      <td>0.000000</td>\n",
       "      <td>0.000000</td>\n",
       "      <td>0.000000</td>\n",
       "      <td>6.000000</td>\n",
       "      <td>2008.000000</td>\n",
       "      <td>163000.000000</td>\n",
       "    </tr>\n",
       "    <tr>\n",
       "      <th>75%</th>\n",
       "      <td>1095.250000</td>\n",
       "      <td>70.000000</td>\n",
       "      <td>80.000000</td>\n",
       "      <td>11601.500000</td>\n",
       "      <td>7.000000</td>\n",
       "      <td>6.000000</td>\n",
       "      <td>2000.000000</td>\n",
       "      <td>2004.000000</td>\n",
       "      <td>166.000000</td>\n",
       "      <td>712.250000</td>\n",
       "      <td>...</td>\n",
       "      <td>168.000000</td>\n",
       "      <td>68.000000</td>\n",
       "      <td>0.000000</td>\n",
       "      <td>0.000000</td>\n",
       "      <td>0.000000</td>\n",
       "      <td>0.000000</td>\n",
       "      <td>0.000000</td>\n",
       "      <td>8.000000</td>\n",
       "      <td>2009.000000</td>\n",
       "      <td>214000.000000</td>\n",
       "    </tr>\n",
       "    <tr>\n",
       "      <th>max</th>\n",
       "      <td>1460.000000</td>\n",
       "      <td>190.000000</td>\n",
       "      <td>313.000000</td>\n",
       "      <td>215245.000000</td>\n",
       "      <td>10.000000</td>\n",
       "      <td>9.000000</td>\n",
       "      <td>2010.000000</td>\n",
       "      <td>2010.000000</td>\n",
       "      <td>1600.000000</td>\n",
       "      <td>5644.000000</td>\n",
       "      <td>...</td>\n",
       "      <td>857.000000</td>\n",
       "      <td>547.000000</td>\n",
       "      <td>552.000000</td>\n",
       "      <td>508.000000</td>\n",
       "      <td>480.000000</td>\n",
       "      <td>738.000000</td>\n",
       "      <td>15500.000000</td>\n",
       "      <td>12.000000</td>\n",
       "      <td>2010.000000</td>\n",
       "      <td>755000.000000</td>\n",
       "    </tr>\n",
       "  </tbody>\n",
       "</table>\n",
       "<p>8 rows × 38 columns</p>\n",
       "</div>"
      ],
      "text/plain": [
       "                Id   MSSubClass  LotFrontage        LotArea  OverallQual  \\\n",
       "count  1460.000000  1460.000000  1201.000000    1460.000000  1460.000000   \n",
       "mean    730.500000    56.897260    70.049958   10516.828082     6.099315   \n",
       "std     421.610009    42.300571    24.284752    9981.264932     1.382997   \n",
       "min       1.000000    20.000000    21.000000    1300.000000     1.000000   \n",
       "25%     365.750000    20.000000    59.000000    7553.500000     5.000000   \n",
       "50%     730.500000    50.000000    69.000000    9478.500000     6.000000   \n",
       "75%    1095.250000    70.000000    80.000000   11601.500000     7.000000   \n",
       "max    1460.000000   190.000000   313.000000  215245.000000    10.000000   \n",
       "\n",
       "       OverallCond    YearBuilt  YearRemodAdd   MasVnrArea   BsmtFinSF1  ...  \\\n",
       "count  1460.000000  1460.000000   1460.000000  1452.000000  1460.000000  ...   \n",
       "mean      5.575342  1971.267808   1984.865753   103.685262   443.639726  ...   \n",
       "std       1.112799    30.202904     20.645407   181.066207   456.098091  ...   \n",
       "min       1.000000  1872.000000   1950.000000     0.000000     0.000000  ...   \n",
       "25%       5.000000  1954.000000   1967.000000     0.000000     0.000000  ...   \n",
       "50%       5.000000  1973.000000   1994.000000     0.000000   383.500000  ...   \n",
       "75%       6.000000  2000.000000   2004.000000   166.000000   712.250000  ...   \n",
       "max       9.000000  2010.000000   2010.000000  1600.000000  5644.000000  ...   \n",
       "\n",
       "        WoodDeckSF  OpenPorchSF  EnclosedPorch    3SsnPorch  ScreenPorch  \\\n",
       "count  1460.000000  1460.000000    1460.000000  1460.000000  1460.000000   \n",
       "mean     94.244521    46.660274      21.954110     3.409589    15.060959   \n",
       "std     125.338794    66.256028      61.119149    29.317331    55.757415   \n",
       "min       0.000000     0.000000       0.000000     0.000000     0.000000   \n",
       "25%       0.000000     0.000000       0.000000     0.000000     0.000000   \n",
       "50%       0.000000    25.000000       0.000000     0.000000     0.000000   \n",
       "75%     168.000000    68.000000       0.000000     0.000000     0.000000   \n",
       "max     857.000000   547.000000     552.000000   508.000000   480.000000   \n",
       "\n",
       "          PoolArea       MiscVal       MoSold       YrSold      SalePrice  \n",
       "count  1460.000000   1460.000000  1460.000000  1460.000000    1460.000000  \n",
       "mean      2.758904     43.489041     6.321918  2007.815753  180921.195890  \n",
       "std      40.177307    496.123024     2.703626     1.328095   79442.502883  \n",
       "min       0.000000      0.000000     1.000000  2006.000000   34900.000000  \n",
       "25%       0.000000      0.000000     5.000000  2007.000000  129975.000000  \n",
       "50%       0.000000      0.000000     6.000000  2008.000000  163000.000000  \n",
       "75%       0.000000      0.000000     8.000000  2009.000000  214000.000000  \n",
       "max     738.000000  15500.000000    12.000000  2010.000000  755000.000000  \n",
       "\n",
       "[8 rows x 38 columns]"
      ]
     },
     "execution_count": 28,
     "metadata": {},
     "output_type": "execute_result"
    }
   ],
   "source": [
    "df.describe()"
   ]
  },
  {
   "cell_type": "code",
   "execution_count": 29,
   "metadata": {},
   "outputs": [
    {
     "data": {
      "text/plain": [
       "(1460, 81)"
      ]
     },
     "execution_count": 29,
     "metadata": {},
     "output_type": "execute_result"
    }
   ],
   "source": [
    "df.shape"
   ]
  },
  {
   "cell_type": "code",
   "execution_count": 30,
   "metadata": {
    "scrolled": true
   },
   "outputs": [
    {
     "name": "stdout",
     "output_type": "stream",
     "text": [
      "<class 'pandas.core.frame.DataFrame'>\n",
      "RangeIndex: 1460 entries, 0 to 1459\n",
      "Data columns (total 81 columns):\n",
      " #   Column         Non-Null Count  Dtype  \n",
      "---  ------         --------------  -----  \n",
      " 0   Id             1460 non-null   int64  \n",
      " 1   MSSubClass     1460 non-null   int64  \n",
      " 2   MSZoning       1460 non-null   object \n",
      " 3   LotFrontage    1201 non-null   float64\n",
      " 4   LotArea        1460 non-null   int64  \n",
      " 5   Street         1460 non-null   object \n",
      " 6   Alley          91 non-null     object \n",
      " 7   LotShape       1460 non-null   object \n",
      " 8   LandContour    1460 non-null   object \n",
      " 9   Utilities      1460 non-null   object \n",
      " 10  LotConfig      1460 non-null   object \n",
      " 11  LandSlope      1460 non-null   object \n",
      " 12  Neighborhood   1460 non-null   object \n",
      " 13  Condition1     1460 non-null   object \n",
      " 14  Condition2     1460 non-null   object \n",
      " 15  BldgType       1460 non-null   object \n",
      " 16  HouseStyle     1460 non-null   object \n",
      " 17  OverallQual    1460 non-null   int64  \n",
      " 18  OverallCond    1460 non-null   int64  \n",
      " 19  YearBuilt      1460 non-null   int64  \n",
      " 20  YearRemodAdd   1460 non-null   int64  \n",
      " 21  RoofStyle      1460 non-null   object \n",
      " 22  RoofMatl       1460 non-null   object \n",
      " 23  Exterior1st    1460 non-null   object \n",
      " 24  Exterior2nd    1460 non-null   object \n",
      " 25  MasVnrType     1452 non-null   object \n",
      " 26  MasVnrArea     1452 non-null   float64\n",
      " 27  ExterQual      1460 non-null   object \n",
      " 28  ExterCond      1460 non-null   object \n",
      " 29  Foundation     1460 non-null   object \n",
      " 30  BsmtQual       1423 non-null   object \n",
      " 31  BsmtCond       1423 non-null   object \n",
      " 32  BsmtExposure   1422 non-null   object \n",
      " 33  BsmtFinType1   1423 non-null   object \n",
      " 34  BsmtFinSF1     1460 non-null   int64  \n",
      " 35  BsmtFinType2   1422 non-null   object \n",
      " 36  BsmtFinSF2     1460 non-null   int64  \n",
      " 37  BsmtUnfSF      1460 non-null   int64  \n",
      " 38  TotalBsmtSF    1460 non-null   int64  \n",
      " 39  Heating        1460 non-null   object \n",
      " 40  HeatingQC      1460 non-null   object \n",
      " 41  CentralAir     1460 non-null   object \n",
      " 42  Electrical     1459 non-null   object \n",
      " 43  1stFlrSF       1460 non-null   int64  \n",
      " 44  2ndFlrSF       1460 non-null   int64  \n",
      " 45  LowQualFinSF   1460 non-null   int64  \n",
      " 46  GrLivArea      1460 non-null   int64  \n",
      " 47  BsmtFullBath   1460 non-null   int64  \n",
      " 48  BsmtHalfBath   1460 non-null   int64  \n",
      " 49  FullBath       1460 non-null   int64  \n",
      " 50  HalfBath       1460 non-null   int64  \n",
      " 51  BedroomAbvGr   1460 non-null   int64  \n",
      " 52  KitchenAbvGr   1460 non-null   int64  \n",
      " 53  KitchenQual    1460 non-null   object \n",
      " 54  TotRmsAbvGrd   1460 non-null   int64  \n",
      " 55  Functional     1460 non-null   object \n",
      " 56  Fireplaces     1460 non-null   int64  \n",
      " 57  FireplaceQu    770 non-null    object \n",
      " 58  GarageType     1379 non-null   object \n",
      " 59  GarageYrBlt    1379 non-null   float64\n",
      " 60  GarageFinish   1379 non-null   object \n",
      " 61  GarageCars     1460 non-null   int64  \n",
      " 62  GarageArea     1460 non-null   int64  \n",
      " 63  GarageQual     1379 non-null   object \n",
      " 64  GarageCond     1379 non-null   object \n",
      " 65  PavedDrive     1460 non-null   object \n",
      " 66  WoodDeckSF     1460 non-null   int64  \n",
      " 67  OpenPorchSF    1460 non-null   int64  \n",
      " 68  EnclosedPorch  1460 non-null   int64  \n",
      " 69  3SsnPorch      1460 non-null   int64  \n",
      " 70  ScreenPorch    1460 non-null   int64  \n",
      " 71  PoolArea       1460 non-null   int64  \n",
      " 72  PoolQC         7 non-null      object \n",
      " 73  Fence          281 non-null    object \n",
      " 74  MiscFeature    54 non-null     object \n",
      " 75  MiscVal        1460 non-null   int64  \n",
      " 76  MoSold         1460 non-null   int64  \n",
      " 77  YrSold         1460 non-null   int64  \n",
      " 78  SaleType       1460 non-null   object \n",
      " 79  SaleCondition  1460 non-null   object \n",
      " 80  SalePrice      1460 non-null   int64  \n",
      "dtypes: float64(3), int64(35), object(43)\n",
      "memory usage: 924.0+ KB\n"
     ]
    }
   ],
   "source": [
    "df.info()"
   ]
  },
  {
   "cell_type": "markdown",
   "metadata": {},
   "source": [
    "Дані мають ознаки із пропусками та не числовим типом. Пропущені значення потрібно буде або заповнити, або викинути колонку із малою кількістю даних, якщо вона буде мало інформативною. Об'єкти з текстовим типом даних замінимо на бінарні шляхом створення додаткових ознак."
   ]
  },
  {
   "cell_type": "markdown",
   "metadata": {},
   "source": [
    "# 2. Попередній аналіз та перетворення даних"
   ]
  },
  {
   "cell_type": "markdown",
   "metadata": {},
   "source": [
    "# 2.1 Аналіз даних"
   ]
  },
  {
   "cell_type": "code",
   "execution_count": 31,
   "metadata": {},
   "outputs": [
    {
     "data": {
      "text/plain": [
       "<AxesSubplot:>"
      ]
     },
     "execution_count": 31,
     "metadata": {},
     "output_type": "execute_result"
    },
    {
     "data": {
      "image/png": "[encoded data removed]",
      "text/plain": [
       "<Figure size 864x864 with 2 Axes>"
      ]
     },
     "metadata": {},
     "output_type": "display_data"
    }
   ],
   "source": [
    "fig = plt.subplots(figsize = (12,12))\n",
    "sns.heatmap(df.corr(), )"
   ]
  },
  {
   "cell_type": "markdown",
   "metadata": {},
   "source": [
    "Досить велика кількість ознак корелює із ціною. Також наявна колінеарність серед ознак, що може стати проблемою при побудові моделі."
   ]
  },
  {
   "cell_type": "markdown",
   "metadata": {},
   "source": [
    "Виведемо ознаки, які найбільше корелюють із ціною будинку."
   ]
  },
  {
   "cell_type": "code",
   "execution_count": 32,
   "metadata": {},
   "outputs": [
    {
     "data": {
      "text/plain": [
       "<AxesSubplot:>"
      ]
     },
     "execution_count": 32,
     "metadata": {},
     "output_type": "execute_result"
    },
    {
     "data": {
      "image/png": "[encoded data removed]",
      "text/plain": [
       "<Figure size 576x432 with 2 Axes>"
      ]
     },
     "metadata": {},
     "output_type": "display_data"
    }
   ],
   "source": [
    "fig = plt.subplots(figsize = (8,6))\n",
    "\n",
    "sns.heatmap(df.corr()[['SalePrice']].sort_values(by='SalePrice',ascending = False),  vmin=-0.5, vmax=0.5, annot=True, cmap='BrBG')"
   ]
  },
  {
   "cell_type": "markdown",
   "metadata": {},
   "source": [
    "Прогнозовано, що на ціну будинку найбільшу впливає його площа та площа гаража."
   ]
  },
  {
   "cell_type": "markdown",
   "metadata": {},
   "source": [
    "Поглянемо на розподіл цін на будинки"
   ]
  },
  {
   "cell_type": "code",
   "execution_count": 33,
   "metadata": {},
   "outputs": [
    {
     "data": {
      "text/plain": [
       "<AxesSubplot:xlabel='SalePrice', ylabel='Count'>"
      ]
     },
     "execution_count": 33,
     "metadata": {},
     "output_type": "execute_result"
    },
    {
     "data": {
      "image/png": "[encoded data removed]",
      "text/plain": [
       "<Figure size 432x288 with 1 Axes>"
      ]
     },
     "metadata": {},
     "output_type": "display_data"
    }
   ],
   "source": [
    "sns.histplot(df.SalePrice, kde = True)"
   ]
  },
  {
   "cell_type": "code",
   "execution_count": 34,
   "metadata": {
    "collapsed": true
   },
   "outputs": [],
   "source": [
    "y = np.log1p(df['SalePrice']).values"
   ]
  },
  {
   "cell_type": "code",
   "execution_count": 35,
   "metadata": {},
   "outputs": [
    {
     "data": {
      "text/plain": [
       "<AxesSubplot:ylabel='Count'>"
      ]
     },
     "execution_count": 35,
     "metadata": {},
     "output_type": "execute_result"
    },
    {
     "data": {
      "image/png": "[encoded data removed]",
      "text/plain": [
       "<Figure size 432x288 with 1 Axes>"
      ]
     },
     "metadata": {},
     "output_type": "display_data"
    }
   ],
   "source": [
    "sns.histplot(y, kde = True)"
   ]
  },
  {
   "cell_type": "markdown",
   "metadata": {},
   "source": [
    "Розподіл не є нормальним. Також наявні викиди з високими цінами. Перевіримо, це помилки в даних, чи хороші будинки"
   ]
  },
  {
   "cell_type": "code",
   "execution_count": 36,
   "metadata": {},
   "outputs": [
    {
     "data": {
      "text/html": [
       "<div>\n",
       "<style scoped>\n",
       "    .dataframe tbody tr th:only-of-type {\n",
       "        vertical-align: middle;\n",
       "    }\n",
       "\n",
       "    .dataframe tbody tr th {\n",
       "        vertical-align: top;\n",
       "    }\n",
       "\n",
       "    .dataframe thead th {\n",
       "        text-align: right;\n",
       "    }\n",
       "</style>\n",
       "<table border=\"1\" class=\"dataframe\">\n",
       "  <thead>\n",
       "    <tr style=\"text-align: right;\">\n",
       "      <th></th>\n",
       "      <th>YearBuilt</th>\n",
       "      <th>GrLivArea</th>\n",
       "      <th>LotArea</th>\n",
       "      <th>GarageArea</th>\n",
       "      <th>SalePrice</th>\n",
       "    </tr>\n",
       "  </thead>\n",
       "  <tbody>\n",
       "    <tr>\n",
       "      <th>440</th>\n",
       "      <td>2008</td>\n",
       "      <td>2402</td>\n",
       "      <td>15431</td>\n",
       "      <td>672</td>\n",
       "      <td>555000</td>\n",
       "    </tr>\n",
       "    <tr>\n",
       "      <th>691</th>\n",
       "      <td>1994</td>\n",
       "      <td>4316</td>\n",
       "      <td>21535</td>\n",
       "      <td>832</td>\n",
       "      <td>755000</td>\n",
       "    </tr>\n",
       "    <tr>\n",
       "      <th>803</th>\n",
       "      <td>2008</td>\n",
       "      <td>2822</td>\n",
       "      <td>13891</td>\n",
       "      <td>1020</td>\n",
       "      <td>582933</td>\n",
       "    </tr>\n",
       "    <tr>\n",
       "      <th>898</th>\n",
       "      <td>2009</td>\n",
       "      <td>2364</td>\n",
       "      <td>12919</td>\n",
       "      <td>820</td>\n",
       "      <td>611657</td>\n",
       "    </tr>\n",
       "    <tr>\n",
       "      <th>1046</th>\n",
       "      <td>2005</td>\n",
       "      <td>2868</td>\n",
       "      <td>16056</td>\n",
       "      <td>716</td>\n",
       "      <td>556581</td>\n",
       "    </tr>\n",
       "    <tr>\n",
       "      <th>1169</th>\n",
       "      <td>1995</td>\n",
       "      <td>3627</td>\n",
       "      <td>35760</td>\n",
       "      <td>807</td>\n",
       "      <td>625000</td>\n",
       "    </tr>\n",
       "    <tr>\n",
       "      <th>1182</th>\n",
       "      <td>1996</td>\n",
       "      <td>4476</td>\n",
       "      <td>15623</td>\n",
       "      <td>813</td>\n",
       "      <td>745000</td>\n",
       "    </tr>\n",
       "  </tbody>\n",
       "</table>\n",
       "</div>"
      ],
      "text/plain": [
       "      YearBuilt  GrLivArea  LotArea  GarageArea  SalePrice\n",
       "440        2008       2402    15431         672     555000\n",
       "691        1994       4316    21535         832     755000\n",
       "803        2008       2822    13891        1020     582933\n",
       "898        2009       2364    12919         820     611657\n",
       "1046       2005       2868    16056         716     556581\n",
       "1169       1995       3627    35760         807     625000\n",
       "1182       1996       4476    15623         813     745000"
      ]
     },
     "execution_count": 36,
     "metadata": {},
     "output_type": "execute_result"
    }
   ],
   "source": [
    "df[df.SalePrice > 550000][['YearBuilt', 'GrLivArea', 'LotArea', 'GarageArea', 'SalePrice']]"
   ]
  },
  {
   "cell_type": "markdown",
   "metadata": {},
   "source": [
    "Дорогі будинки мають вищі покзаники площі за середні, тобто дані не є помилковими і їх потрібно залишити для побудови моделі."
   ]
  },
  {
   "cell_type": "markdown",
   "metadata": {},
   "source": [
    "Візуалізуємо розподіли, які мають найбільшу кореляцію із ціною"
   ]
  },
  {
   "cell_type": "code",
   "execution_count": 37,
   "metadata": {
    "collapsed": true
   },
   "outputs": [],
   "source": [
    "z = df.corr()[['SalePrice']][np.abs(df.corr()['SalePrice']) > 0.6].sort_values(by='SalePrice',ascending = False)\n"
   ]
  },
  {
   "cell_type": "code",
   "execution_count": 38,
   "metadata": {},
   "outputs": [
    {
     "data": {
      "text/html": [
       "<div>\n",
       "<style scoped>\n",
       "    .dataframe tbody tr th:only-of-type {\n",
       "        vertical-align: middle;\n",
       "    }\n",
       "\n",
       "    .dataframe tbody tr th {\n",
       "        vertical-align: top;\n",
       "    }\n",
       "\n",
       "    .dataframe thead th {\n",
       "        text-align: right;\n",
       "    }\n",
       "</style>\n",
       "<table border=\"1\" class=\"dataframe\">\n",
       "  <thead>\n",
       "    <tr style=\"text-align: right;\">\n",
       "      <th></th>\n",
       "      <th>SalePrice</th>\n",
       "    </tr>\n",
       "  </thead>\n",
       "  <tbody>\n",
       "    <tr>\n",
       "      <th>SalePrice</th>\n",
       "      <td>1.000000</td>\n",
       "    </tr>\n",
       "    <tr>\n",
       "      <th>OverallQual</th>\n",
       "      <td>0.790982</td>\n",
       "    </tr>\n",
       "    <tr>\n",
       "      <th>GrLivArea</th>\n",
       "      <td>0.708624</td>\n",
       "    </tr>\n",
       "    <tr>\n",
       "      <th>GarageCars</th>\n",
       "      <td>0.640409</td>\n",
       "    </tr>\n",
       "    <tr>\n",
       "      <th>GarageArea</th>\n",
       "      <td>0.623431</td>\n",
       "    </tr>\n",
       "    <tr>\n",
       "      <th>TotalBsmtSF</th>\n",
       "      <td>0.613581</td>\n",
       "    </tr>\n",
       "    <tr>\n",
       "      <th>1stFlrSF</th>\n",
       "      <td>0.605852</td>\n",
       "    </tr>\n",
       "  </tbody>\n",
       "</table>\n",
       "</div>"
      ],
      "text/plain": [
       "             SalePrice\n",
       "SalePrice     1.000000\n",
       "OverallQual   0.790982\n",
       "GrLivArea     0.708624\n",
       "GarageCars    0.640409\n",
       "GarageArea    0.623431\n",
       "TotalBsmtSF   0.613581\n",
       "1stFlrSF      0.605852"
      ]
     },
     "execution_count": 38,
     "metadata": {},
     "output_type": "execute_result"
    }
   ],
   "source": [
    "z"
   ]
  },
  {
   "cell_type": "code",
   "execution_count": 39,
   "metadata": {},
   "outputs": [],
   "source": [
    "z = df.corr()[['SalePrice']][np.abs(df.corr()['SalePrice']) > 0.7].sort_values(by='SalePrice',ascending = False).index"
   ]
  },
  {
   "cell_type": "markdown",
   "metadata": {},
   "source": [
    "# 2.2 Заповнення  пропусків та перетворення в числовий формат"
   ]
  },
  {
   "cell_type": "code",
   "execution_count": 40,
   "metadata": {
    "collapsed": true
   },
   "outputs": [],
   "source": [
    "#За документацією даних, відсутність даних в цих колонках означає відсутність в будинку ознаки.\n",
    "df[\"PoolQC\"] = df[\"PoolQC\"].fillna(\"None\")\n",
    "df[\"MiscFeature\"] = df[\"MiscFeature\"].fillna(\"None\")\n",
    "df[\"Alley\"] = df[\"Alley\"].fillna(\"None\")\n",
    "df[\"Fence\"] = df[\"Fence\"].fillna(\"None\")\n",
    "df[\"FireplaceQu\"] = df[\"FireplaceQu\"].fillna(\"None\")\n",
    "\n",
    "df[\"LotFrontage\"] = df.groupby(\"Neighborhood\")[\"LotFrontage\"].transform('median')\n",
    "\n",
    "#Площу замінимо на нулі, а тип на \"None\", так як будинок не має таких ознак.\n",
    "for col in ('GarageType', 'GarageFinish', 'GarageQual', 'GarageCond'):\n",
    "    df[col] = df[col].fillna('None')\n",
    "    \n",
    "for col in ('GarageYrBlt', 'GarageArea', 'GarageCars'):\n",
    "    df[col] = df[col].fillna(0)\n",
    "\n",
    "for col in ('BsmtFinSF1', 'BsmtFinSF2', 'BsmtUnfSF','TotalBsmtSF', 'BsmtFullBath', 'BsmtHalfBath'):\n",
    "    df[col] = df[col].fillna(0)\n",
    "\n",
    "for col in ('BsmtQual', 'BsmtCond', 'BsmtExposure', 'BsmtFinType1', 'BsmtFinType2'):\n",
    "    df[col] = df[col].fillna('None')\n",
    "\n",
    "#Далі повторяємо те саме. Для ознак в яких цього не можна зробити заміняємо на типове значення.\n",
    "df[\"MasVnrType\"] = df[\"MasVnrType\"].fillna(\"None\")\n",
    "df[\"MasVnrArea\"] = df[\"MasVnrArea\"].fillna(0)\n",
    "\n",
    "df['MSZoning'] = df['MSZoning'].fillna(df['MSZoning'].mode()[0])\n",
    "\n",
    "df[\"Functional\"] = df[\"Functional\"].fillna(\"Typ\")\n",
    "\n",
    "df['Electrical'] = df['Electrical'].fillna(df['Electrical'].mode()[0])\n",
    "\n",
    "df['KitchenQual'] = df['KitchenQual'].fillna(df['KitchenQual'].mode()[0])\n",
    "\n",
    "df['Exterior1st'] = df['Exterior1st'].fillna(df['Exterior1st'].mode()[0])\n",
    "\n",
    "df['Exterior2nd'] = df['Exterior2nd'].fillna(df['Exterior2nd'].mode()[0])\n",
    "\n",
    "df['SaleType'] = df['SaleType'].fillna(df['SaleType'].mode()[0])\n",
    "\n",
    "df['MSSubClass'] = df['MSSubClass'].fillna(\"None\")"
   ]
  },
  {
   "cell_type": "code",
   "execution_count": 41,
   "metadata": {},
   "outputs": [
    {
     "name": "stdout",
     "output_type": "stream",
     "text": [
      "<class 'pandas.core.frame.DataFrame'>\n",
      "RangeIndex: 1460 entries, 0 to 1459\n",
      "Data columns (total 81 columns):\n",
      " #   Column         Non-Null Count  Dtype  \n",
      "---  ------         --------------  -----  \n",
      " 0   Id             1460 non-null   int64  \n",
      " 1   MSSubClass     1460 non-null   int64  \n",
      " 2   MSZoning       1460 non-null   object \n",
      " 3   LotFrontage    1460 non-null   float64\n",
      " 4   LotArea        1460 non-null   int64  \n",
      " 5   Street         1460 non-null   object \n",
      " 6   Alley          1460 non-null   object \n",
      " 7   LotShape       1460 non-null   object \n",
      " 8   LandContour    1460 non-null   object \n",
      " 9   Utilities      1460 non-null   object \n",
      " 10  LotConfig      1460 non-null   object \n",
      " 11  LandSlope      1460 non-null   object \n",
      " 12  Neighborhood   1460 non-null   object \n",
      " 13  Condition1     1460 non-null   object \n",
      " 14  Condition2     1460 non-null   object \n",
      " 15  BldgType       1460 non-null   object \n",
      " 16  HouseStyle     1460 non-null   object \n",
      " 17  OverallQual    1460 non-null   int64  \n",
      " 18  OverallCond    1460 non-null   int64  \n",
      " 19  YearBuilt      1460 non-null   int64  \n",
      " 20  YearRemodAdd   1460 non-null   int64  \n",
      " 21  RoofStyle      1460 non-null   object \n",
      " 22  RoofMatl       1460 non-null   object \n",
      " 23  Exterior1st    1460 non-null   object \n",
      " 24  Exterior2nd    1460 non-null   object \n",
      " 25  MasVnrType     1460 non-null   object \n",
      " 26  MasVnrArea     1460 non-null   float64\n",
      " 27  ExterQual      1460 non-null   object \n",
      " 28  ExterCond      1460 non-null   object \n",
      " 29  Foundation     1460 non-null   object \n",
      " 30  BsmtQual       1460 non-null   object \n",
      " 31  BsmtCond       1460 non-null   object \n",
      " 32  BsmtExposure   1460 non-null   object \n",
      " 33  BsmtFinType1   1460 non-null   object \n",
      " 34  BsmtFinSF1     1460 non-null   int64  \n",
      " 35  BsmtFinType2   1460 non-null   object \n",
      " 36  BsmtFinSF2     1460 non-null   int64  \n",
      " 37  BsmtUnfSF      1460 non-null   int64  \n",
      " 38  TotalBsmtSF    1460 non-null   int64  \n",
      " 39  Heating        1460 non-null   object \n",
      " 40  HeatingQC      1460 non-null   object \n",
      " 41  CentralAir     1460 non-null   object \n",
      " 42  Electrical     1460 non-null   object \n",
      " 43  1stFlrSF       1460 non-null   int64  \n",
      " 44  2ndFlrSF       1460 non-null   int64  \n",
      " 45  LowQualFinSF   1460 non-null   int64  \n",
      " 46  GrLivArea      1460 non-null   int64  \n",
      " 47  BsmtFullBath   1460 non-null   int64  \n",
      " 48  BsmtHalfBath   1460 non-null   int64  \n",
      " 49  FullBath       1460 non-null   int64  \n",
      " 50  HalfBath       1460 non-null   int64  \n",
      " 51  BedroomAbvGr   1460 non-null   int64  \n",
      " 52  KitchenAbvGr   1460 non-null   int64  \n",
      " 53  KitchenQual    1460 non-null   object \n",
      " 54  TotRmsAbvGrd   1460 non-null   int64  \n",
      " 55  Functional     1460 non-null   object \n",
      " 56  Fireplaces     1460 non-null   int64  \n",
      " 57  FireplaceQu    1460 non-null   object \n",
      " 58  GarageType     1460 non-null   object \n",
      " 59  GarageYrBlt    1460 non-null   float64\n",
      " 60  GarageFinish   1460 non-null   object \n",
      " 61  GarageCars     1460 non-null   int64  \n",
      " 62  GarageArea     1460 non-null   int64  \n",
      " 63  GarageQual     1460 non-null   object \n",
      " 64  GarageCond     1460 non-null   object \n",
      " 65  PavedDrive     1460 non-null   object \n",
      " 66  WoodDeckSF     1460 non-null   int64  \n",
      " 67  OpenPorchSF    1460 non-null   int64  \n",
      " 68  EnclosedPorch  1460 non-null   int64  \n",
      " 69  3SsnPorch      1460 non-null   int64  \n",
      " 70  ScreenPorch    1460 non-null   int64  \n",
      " 71  PoolArea       1460 non-null   int64  \n",
      " 72  PoolQC         1460 non-null   object \n",
      " 73  Fence          1460 non-null   object \n",
      " 74  MiscFeature    1460 non-null   object \n",
      " 75  MiscVal        1460 non-null   int64  \n",
      " 76  MoSold         1460 non-null   int64  \n",
      " 77  YrSold         1460 non-null   int64  \n",
      " 78  SaleType       1460 non-null   object \n",
      " 79  SaleCondition  1460 non-null   object \n",
      " 80  SalePrice      1460 non-null   int64  \n",
      "dtypes: float64(3), int64(35), object(43)\n",
      "memory usage: 924.0+ KB\n"
     ]
    }
   ],
   "source": [
    "df.info()"
   ]
  },
  {
   "cell_type": "markdown",
   "metadata": {},
   "source": [
    "Як бачимо, пропусків не залишилося"
   ]
  },
  {
   "cell_type": "markdown",
   "metadata": {},
   "source": [
    "Пошук числових ознак, які насправді можуть бути категоріальними. Такими ознаками будемо шукати серед ознак, які мають числовий тип та мають менше 26 унікальних значень."
   ]
  },
  {
   "cell_type": "code",
   "execution_count": 42,
   "metadata": {},
   "outputs": [
    {
     "name": "stdout",
     "output_type": "stream",
     "text": [
      "MSSubClass [ 60  20  70  50 190  45  90 120  30  85  80 160  75 180  40]\n",
      "LotFrontage [70.  68.  74.  91.  73.  73.5 80.  60.  52.  71.  88.5 66.5 21.  65.5\n",
      " 85.  65.  61.5 24.  43. ]\n",
      "OverallQual [ 7  6  8  5  9  4 10  3  1  2]\n",
      "OverallCond [5 8 6 7 4 2 3 9 1]\n",
      "LowQualFinSF [  0 360 513 234 528 572 144 392 371 390 420 473 156 515  80  53 232 481\n",
      " 120 514 397 479 205 384]\n",
      "BsmtFullBath [1 0 2 3]\n",
      "BsmtHalfBath [0 1 2]\n",
      "FullBath [2 1 3 0]\n",
      "HalfBath [1 0 2]\n",
      "BedroomAbvGr [3 4 1 2 0 5 6 8]\n",
      "KitchenAbvGr [1 2 3 0]\n",
      "TotRmsAbvGrd [ 8  6  7  9  5 11  4 10 12  3  2 14]\n",
      "Fireplaces [0 1 2 3]\n",
      "GarageCars [2 3 1 0 4]\n",
      "3SsnPorch [  0 320 407 130 180 168 140 508 238 245 196 144 182 162  23 216  96 153\n",
      " 290 304]\n",
      "PoolArea [  0 512 648 576 555 480 519 738]\n",
      "MiscVal [    0   700   350   500   400   480   450 15500  1200   800  2000   600\n",
      "  3500  1300    54   620   560  1400  8300  1150  2500]\n",
      "MoSold [ 2  5  9 12 10  8 11  4  1  7  3  6]\n",
      "YrSold [2008 2007 2006 2009 2010]\n"
     ]
    }
   ],
   "source": [
    "for i in df.columns:\n",
    "    if (df[i].dtype == 'int64'  or df[i].dtype == 'float64') and len(df[i].unique()) <= 25:\n",
    "        print(i,df[i].unique())"
   ]
  },
  {
   "cell_type": "markdown",
   "metadata": {},
   "source": [
    "Знайдені підозрілі ознаки переводими в текстовий тип для подальшого кодування разом із іншими текстовими ознаками."
   ]
  },
  {
   "cell_type": "code",
   "execution_count": 43,
   "metadata": {
    "collapsed": true
   },
   "outputs": [],
   "source": [
    "df['MSSubClass'] = df['MSSubClass'].apply(str)\n",
    "df['OverallCond'] = df['OverallCond'].astype(str)\n",
    "df['YrSold'] = df['YrSold'].astype(str)\n",
    "df['MoSold'] = df['MoSold'].astype(str)"
   ]
  },
  {
   "cell_type": "code",
   "execution_count": 44,
   "metadata": {
    "collapsed": true
   },
   "outputs": [],
   "source": [
    "from sklearn.preprocessing import LabelEncoder"
   ]
  },
  {
   "cell_type": "code",
   "execution_count": 45,
   "metadata": {
    "collapsed": true
   },
   "outputs": [],
   "source": [
    "cols = ('FireplaceQu', 'BsmtQual', 'BsmtCond', 'GarageQual', 'GarageCond', \n",
    "        'ExterQual', 'ExterCond','HeatingQC', 'PoolQC', 'KitchenQual', 'BsmtFinType1', \n",
    "        'BsmtFinType2', 'Functional', 'Fence', 'BsmtExposure', 'GarageFinish', 'LandSlope',\n",
    "        'LotShape', 'PavedDrive', 'Street', 'Alley', 'CentralAir', 'MSSubClass', 'OverallCond', \n",
    "        'YrSold', 'MoSold')\n",
    "\n",
    "for i in cols:\n",
    "    lbl = LabelEncoder() \n",
    "    lbl.fit(list(df[i].values)) \n",
    "    df[i] = lbl.transform(list(df[i].values))"
   ]
  },
  {
   "cell_type": "code",
   "execution_count": 46,
   "metadata": {
    "scrolled": true
   },
   "outputs": [
    {
     "name": "stdout",
     "output_type": "stream",
     "text": [
      "<class 'pandas.core.frame.DataFrame'>\n",
      "RangeIndex: 1460 entries, 0 to 1459\n",
      "Data columns (total 81 columns):\n",
      " #   Column         Non-Null Count  Dtype  \n",
      "---  ------         --------------  -----  \n",
      " 0   Id             1460 non-null   int64  \n",
      " 1   MSSubClass     1460 non-null   int32  \n",
      " 2   MSZoning       1460 non-null   object \n",
      " 3   LotFrontage    1460 non-null   float64\n",
      " 4   LotArea        1460 non-null   int64  \n",
      " 5   Street         1460 non-null   int32  \n",
      " 6   Alley          1460 non-null   int32  \n",
      " 7   LotShape       1460 non-null   int32  \n",
      " 8   LandContour    1460 non-null   object \n",
      " 9   Utilities      1460 non-null   object \n",
      " 10  LotConfig      1460 non-null   object \n",
      " 11  LandSlope      1460 non-null   int32  \n",
      " 12  Neighborhood   1460 non-null   object \n",
      " 13  Condition1     1460 non-null   object \n",
      " 14  Condition2     1460 non-null   object \n",
      " 15  BldgType       1460 non-null   object \n",
      " 16  HouseStyle     1460 non-null   object \n",
      " 17  OverallQual    1460 non-null   int64  \n",
      " 18  OverallCond    1460 non-null   int32  \n",
      " 19  YearBuilt      1460 non-null   int64  \n",
      " 20  YearRemodAdd   1460 non-null   int64  \n",
      " 21  RoofStyle      1460 non-null   object \n",
      " 22  RoofMatl       1460 non-null   object \n",
      " 23  Exterior1st    1460 non-null   object \n",
      " 24  Exterior2nd    1460 non-null   object \n",
      " 25  MasVnrType     1460 non-null   object \n",
      " 26  MasVnrArea     1460 non-null   float64\n",
      " 27  ExterQual      1460 non-null   int32  \n",
      " 28  ExterCond      1460 non-null   int32  \n",
      " 29  Foundation     1460 non-null   object \n",
      " 30  BsmtQual       1460 non-null   int32  \n",
      " 31  BsmtCond       1460 non-null   int32  \n",
      " 32  BsmtExposure   1460 non-null   int32  \n",
      " 33  BsmtFinType1   1460 non-null   int32  \n",
      " 34  BsmtFinSF1     1460 non-null   int64  \n",
      " 35  BsmtFinType2   1460 non-null   int32  \n",
      " 36  BsmtFinSF2     1460 non-null   int64  \n",
      " 37  BsmtUnfSF      1460 non-null   int64  \n",
      " 38  TotalBsmtSF    1460 non-null   int64  \n",
      " 39  Heating        1460 non-null   object \n",
      " 40  HeatingQC      1460 non-null   int32  \n",
      " 41  CentralAir     1460 non-null   int32  \n",
      " 42  Electrical     1460 non-null   object \n",
      " 43  1stFlrSF       1460 non-null   int64  \n",
      " 44  2ndFlrSF       1460 non-null   int64  \n",
      " 45  LowQualFinSF   1460 non-null   int64  \n",
      " 46  GrLivArea      1460 non-null   int64  \n",
      " 47  BsmtFullBath   1460 non-null   int64  \n",
      " 48  BsmtHalfBath   1460 non-null   int64  \n",
      " 49  FullBath       1460 non-null   int64  \n",
      " 50  HalfBath       1460 non-null   int64  \n",
      " 51  BedroomAbvGr   1460 non-null   int64  \n",
      " 52  KitchenAbvGr   1460 non-null   int64  \n",
      " 53  KitchenQual    1460 non-null   int32  \n",
      " 54  TotRmsAbvGrd   1460 non-null   int64  \n",
      " 55  Functional     1460 non-null   int32  \n",
      " 56  Fireplaces     1460 non-null   int64  \n",
      " 57  FireplaceQu    1460 non-null   int32  \n",
      " 58  GarageType     1460 non-null   object \n",
      " 59  GarageYrBlt    1460 non-null   float64\n",
      " 60  GarageFinish   1460 non-null   int32  \n",
      " 61  GarageCars     1460 non-null   int64  \n",
      " 62  GarageArea     1460 non-null   int64  \n",
      " 63  GarageQual     1460 non-null   int32  \n",
      " 64  GarageCond     1460 non-null   int32  \n",
      " 65  PavedDrive     1460 non-null   int32  \n",
      " 66  WoodDeckSF     1460 non-null   int64  \n",
      " 67  OpenPorchSF    1460 non-null   int64  \n",
      " 68  EnclosedPorch  1460 non-null   int64  \n",
      " 69  3SsnPorch      1460 non-null   int64  \n",
      " 70  ScreenPorch    1460 non-null   int64  \n",
      " 71  PoolArea       1460 non-null   int64  \n",
      " 72  PoolQC         1460 non-null   int32  \n",
      " 73  Fence          1460 non-null   int32  \n",
      " 74  MiscFeature    1460 non-null   object \n",
      " 75  MiscVal        1460 non-null   int64  \n",
      " 76  MoSold         1460 non-null   int32  \n",
      " 77  YrSold         1460 non-null   int32  \n",
      " 78  SaleType       1460 non-null   object \n",
      " 79  SaleCondition  1460 non-null   object \n",
      " 80  SalePrice      1460 non-null   int64  \n",
      "dtypes: float64(3), int32(26), int64(31), object(21)\n",
      "memory usage: 775.8+ KB\n"
     ]
    }
   ],
   "source": [
    "df.info()"
   ]
  },
  {
   "cell_type": "code",
   "execution_count": 47,
   "metadata": {},
   "outputs": [
    {
     "name": "stdout",
     "output_type": "stream",
     "text": [
      "(1460, 224)\n"
     ]
    }
   ],
   "source": [
    "df = pd.get_dummies(df)\n",
    "print(df.shape)"
   ]
  },
  {
   "cell_type": "markdown",
   "metadata": {},
   "source": [
    "# 2.3 Зменшення асиметрії даних, створення поліноміальних ознак та їх відбір L1 регуляризатором"
   ]
  },
  {
   "cell_type": "markdown",
   "metadata": {},
   "source": [
    "Пошук ознак, які мають асиметричний розподіл. Такі ознаки потрібно буде трансформувати до нормального розподілу для покращення якості моделі. В якості такого перетворення використаємо перетворення Бокса-Кокса."
   ]
  },
  {
   "cell_type": "markdown",
   "metadata": {},
   "source": [
    "Перетворюємо об'єкти в категоріальний чиловий тпип"
   ]
  },
  {
   "cell_type": "code",
   "execution_count": 48,
   "metadata": {
    "collapsed": true
   },
   "outputs": [],
   "source": [
    "df = df.drop(columns = ['Id', 'SalePrice'])"
   ]
  },
  {
   "cell_type": "code",
   "execution_count": 49,
   "metadata": {
    "collapsed": true
   },
   "outputs": [],
   "source": [
    "from scipy.stats import skew "
   ]
  },
  {
   "cell_type": "code",
   "execution_count": 50,
   "metadata": {
    "scrolled": true
   },
   "outputs": [
    {
     "data": {
      "text/html": [
       "<div>\n",
       "<style scoped>\n",
       "    .dataframe tbody tr th:only-of-type {\n",
       "        vertical-align: middle;\n",
       "    }\n",
       "\n",
       "    .dataframe tbody tr th {\n",
       "        vertical-align: top;\n",
       "    }\n",
       "\n",
       "    .dataframe thead th {\n",
       "        text-align: right;\n",
       "    }\n",
       "</style>\n",
       "<table border=\"1\" class=\"dataframe\">\n",
       "  <thead>\n",
       "    <tr style=\"text-align: right;\">\n",
       "      <th></th>\n",
       "      <th>Skew</th>\n",
       "    </tr>\n",
       "  </thead>\n",
       "  <tbody>\n",
       "    <tr>\n",
       "      <th>Condition2_RRAn</th>\n",
       "      <td>38.170678</td>\n",
       "    </tr>\n",
       "    <tr>\n",
       "      <th>MiscFeature_TenC</th>\n",
       "      <td>38.170678</td>\n",
       "    </tr>\n",
       "    <tr>\n",
       "      <th>Exterior1st_CBlock</th>\n",
       "      <td>38.170678</td>\n",
       "    </tr>\n",
       "    <tr>\n",
       "      <th>Exterior2nd_CBlock</th>\n",
       "      <td>38.170678</td>\n",
       "    </tr>\n",
       "    <tr>\n",
       "      <th>RoofMatl_Membran</th>\n",
       "      <td>38.170678</td>\n",
       "    </tr>\n",
       "    <tr>\n",
       "      <th>Exterior1st_ImStucc</th>\n",
       "      <td>38.170678</td>\n",
       "    </tr>\n",
       "    <tr>\n",
       "      <th>Exterior1st_AsphShn</th>\n",
       "      <td>38.170678</td>\n",
       "    </tr>\n",
       "    <tr>\n",
       "      <th>RoofMatl_Roll</th>\n",
       "      <td>38.170678</td>\n",
       "    </tr>\n",
       "    <tr>\n",
       "      <th>RoofMatl_ClyTile</th>\n",
       "      <td>38.170678</td>\n",
       "    </tr>\n",
       "    <tr>\n",
       "      <th>Condition2_RRAe</th>\n",
       "      <td>38.170678</td>\n",
       "    </tr>\n",
       "  </tbody>\n",
       "</table>\n",
       "</div>"
      ],
      "text/plain": [
       "                          Skew\n",
       "Condition2_RRAn      38.170678\n",
       "MiscFeature_TenC     38.170678\n",
       "Exterior1st_CBlock   38.170678\n",
       "Exterior2nd_CBlock   38.170678\n",
       "RoofMatl_Membran     38.170678\n",
       "Exterior1st_ImStucc  38.170678\n",
       "Exterior1st_AsphShn  38.170678\n",
       "RoofMatl_Roll        38.170678\n",
       "RoofMatl_ClyTile     38.170678\n",
       "Condition2_RRAe      38.170678"
      ]
     },
     "execution_count": 50,
     "metadata": {},
     "output_type": "execute_result"
    }
   ],
   "source": [
    "integ = df.dtypes[df.dtypes != 'object'].index\n",
    "skewed_feats = df[integ].apply(lambda x: skew(x.dropna())).sort_values(ascending=False)\n",
    "skewness = pd.DataFrame({'Skew' :skewed_feats})\n",
    "skewness.head(10)"
   ]
  },
  {
   "cell_type": "code",
   "execution_count": 51,
   "metadata": {
    "collapsed": true
   },
   "outputs": [],
   "source": [
    "skewness = skewness[abs(skewness) > 1]\n",
    "\n",
    "from scipy.special import boxcox1p\n",
    "skewed_features = skewness.index\n",
    "lam = 0.15\n",
    "for feat in skewed_features:\n",
    "    df[feat] = boxcox1p(df[feat], lam)"
   ]
  },
  {
   "cell_type": "code",
   "execution_count": 52,
   "metadata": {
    "collapsed": true
   },
   "outputs": [],
   "source": [
    "poly = PolynomialFeatures(2, interaction_only = True)\n",
    "df = poly.fit_transform(df)"
   ]
  },
  {
   "cell_type": "code",
   "execution_count": 53,
   "metadata": {
    "collapsed": true
   },
   "outputs": [],
   "source": [
    "X_train, X_test, y_train, y_test = train_test_split(df, y, test_size=0.33, random_state=42)"
   ]
  },
  {
   "cell_type": "code",
   "execution_count": 54,
   "metadata": {},
   "outputs": [
    {
     "name": "stderr",
     "output_type": "stream",
     "text": [
      "C:\\ProgramData\\Anaconda3\\lib\\site-packages\\sklearn\\linear_model\\_coordinate_descent.py:532: ConvergenceWarning: Objective did not converge. You might want to increase the number of iterations. Duality gap: 1.9407234582580744, tolerance: 0.015059501126183256\n",
      "  positive)\n"
     ]
    }
   ],
   "source": [
    "lasso = Lasso(alpha=0.0075, random_state=42)\n",
    "\n",
    "model = SelectFromModel(lasso).fit(X_train, y_train)\n",
    "df = pd.DataFrame(model.transform(df))"
   ]
  },
  {
   "cell_type": "code",
   "execution_count": 55,
   "metadata": {},
   "outputs": [
    {
     "data": {
      "text/html": [
       "<div>\n",
       "<style scoped>\n",
       "    .dataframe tbody tr th:only-of-type {\n",
       "        vertical-align: middle;\n",
       "    }\n",
       "\n",
       "    .dataframe tbody tr th {\n",
       "        vertical-align: top;\n",
       "    }\n",
       "\n",
       "    .dataframe thead th {\n",
       "        text-align: right;\n",
       "    }\n",
       "</style>\n",
       "<table border=\"1\" class=\"dataframe\">\n",
       "  <thead>\n",
       "    <tr style=\"text-align: right;\">\n",
       "      <th></th>\n",
       "      <th>Skew</th>\n",
       "    </tr>\n",
       "  </thead>\n",
       "  <tbody>\n",
       "    <tr>\n",
       "      <th>215</th>\n",
       "      <td>38.170678</td>\n",
       "    </tr>\n",
       "    <tr>\n",
       "      <th>197</th>\n",
       "      <td>38.170678</td>\n",
       "    </tr>\n",
       "    <tr>\n",
       "      <th>57</th>\n",
       "      <td>27.327677</td>\n",
       "    </tr>\n",
       "    <tr>\n",
       "      <th>118</th>\n",
       "      <td>23.462796</td>\n",
       "    </tr>\n",
       "    <tr>\n",
       "      <th>155</th>\n",
       "      <td>22.373736</td>\n",
       "    </tr>\n",
       "    <tr>\n",
       "      <th>142</th>\n",
       "      <td>16.284948</td>\n",
       "    </tr>\n",
       "    <tr>\n",
       "      <th>156</th>\n",
       "      <td>14.884568</td>\n",
       "    </tr>\n",
       "    <tr>\n",
       "      <th>69</th>\n",
       "      <td>14.446766</td>\n",
       "    </tr>\n",
       "    <tr>\n",
       "      <th>97</th>\n",
       "      <td>14.363116</td>\n",
       "    </tr>\n",
       "    <tr>\n",
       "      <th>105</th>\n",
       "      <td>14.362165</td>\n",
       "    </tr>\n",
       "  </tbody>\n",
       "</table>\n",
       "</div>"
      ],
      "text/plain": [
       "          Skew\n",
       "215  38.170678\n",
       "197  38.170678\n",
       "57   27.327677\n",
       "118  23.462796\n",
       "155  22.373736\n",
       "142  16.284948\n",
       "156  14.884568\n",
       "69   14.446766\n",
       "97   14.363116\n",
       "105  14.362165"
      ]
     },
     "execution_count": 55,
     "metadata": {},
     "output_type": "execute_result"
    }
   ],
   "source": [
    "integ = df.dtypes[df.dtypes != 'object'].index\n",
    "skewed_feats = df[integ].apply(lambda x: skew(x.dropna())).sort_values(ascending=False)\n",
    "skewness = pd.DataFrame({'Skew' :skewed_feats})\n",
    "skewness.head(10)"
   ]
  },
  {
   "cell_type": "markdown",
   "metadata": {},
   "source": [
    "Дані зменшили свою асиметрію"
   ]
  },
  {
   "cell_type": "markdown",
   "metadata": {},
   "source": [
    "# 3. Побудова моделей"
   ]
  },
  {
   "cell_type": "code",
   "execution_count": 56,
   "metadata": {
    "collapsed": true
   },
   "outputs": [],
   "source": [
    "from sklearn.linear_model import ElasticNet, Lasso\n",
    "from sklearn.model_selection import train_test_split\n",
    "from sklearn.metrics import mean_squared_error\n",
    "from sklearn.neighbors import KNeighborsRegressor\n",
    "from sklearn.svm import SVR\n",
    "from sklearn.preprocessing import PolynomialFeatures\n",
    "from sklearn.feature_selection import SelectFromModel\n",
    "from sklearn.ensemble import RandomForestRegressor\n",
    "import xgboost as xgb"
   ]
  },
  {
   "cell_type": "code",
   "execution_count": 57,
   "metadata": {
    "collapsed": true
   },
   "outputs": [],
   "source": [
    "X_train, X_test, y_train, y_test = train_test_split(df, y, test_size=0.33, random_state=42)"
   ]
  },
  {
   "cell_type": "markdown",
   "metadata": {},
   "source": [
    "# 3.1 LASSO"
   ]
  },
  {
   "cell_type": "markdown",
   "metadata": {},
   "source": [
    "Пошук оптимального параметру"
   ]
  },
  {
   "cell_type": "code",
   "execution_count": 94,
   "metadata": {
    "scrolled": true
   },
   "outputs": [
    {
     "name": "stderr",
     "output_type": "stream",
     "text": [
      "C:\\ProgramData\\Anaconda3\\lib\\site-packages\\sklearn\\linear_model\\_coordinate_descent.py:532: ConvergenceWarning: Objective did not converge. You might want to increase the number of iterations. Duality gap: 2.679279893980145, tolerance: 0.015059501126183256\n",
      "  positive)\n"
     ]
    },
    {
     "name": "stdout",
     "output_type": "stream",
     "text": [
      "0.001\n",
      "Mean square error test: 0.01670\n",
      "Mean square error train: 0.00683\n"
     ]
    },
    {
     "name": "stderr",
     "output_type": "stream",
     "text": [
      "C:\\ProgramData\\Anaconda3\\lib\\site-packages\\sklearn\\linear_model\\_coordinate_descent.py:532: ConvergenceWarning: Objective did not converge. You might want to increase the number of iterations. Duality gap: 1.7850196275327588, tolerance: 0.015059501126183256\n",
      "  positive)\n"
     ]
    },
    {
     "name": "stdout",
     "output_type": "stream",
     "text": [
      "0.002\n",
      "Mean square error test: 0.01655\n",
      "Mean square error train: 0.00695\n"
     ]
    },
    {
     "name": "stderr",
     "output_type": "stream",
     "text": [
      "C:\\ProgramData\\Anaconda3\\lib\\site-packages\\sklearn\\linear_model\\_coordinate_descent.py:532: ConvergenceWarning: Objective did not converge. You might want to increase the number of iterations. Duality gap: 1.327463701013893, tolerance: 0.015059501126183256\n",
      "  positive)\n"
     ]
    },
    {
     "name": "stdout",
     "output_type": "stream",
     "text": [
      "0.003\n",
      "Mean square error test: 0.01646\n",
      "Mean square error train: 0.00712\n"
     ]
    },
    {
     "name": "stderr",
     "output_type": "stream",
     "text": [
      "C:\\ProgramData\\Anaconda3\\lib\\site-packages\\sklearn\\linear_model\\_coordinate_descent.py:532: ConvergenceWarning: Objective did not converge. You might want to increase the number of iterations. Duality gap: 1.1759339935631914, tolerance: 0.015059501126183256\n",
      "  positive)\n"
     ]
    },
    {
     "name": "stdout",
     "output_type": "stream",
     "text": [
      "0.004\n",
      "Mean square error test: 0.01648\n",
      "Mean square error train: 0.00733\n"
     ]
    },
    {
     "name": "stderr",
     "output_type": "stream",
     "text": [
      "C:\\ProgramData\\Anaconda3\\lib\\site-packages\\sklearn\\linear_model\\_coordinate_descent.py:532: ConvergenceWarning: Objective did not converge. You might want to increase the number of iterations. Duality gap: 1.2102479048617822, tolerance: 0.015059501126183256\n",
      "  positive)\n"
     ]
    },
    {
     "name": "stdout",
     "output_type": "stream",
     "text": [
      "0.005\n",
      "Mean square error test: 0.01660\n",
      "Mean square error train: 0.00756\n"
     ]
    },
    {
     "name": "stderr",
     "output_type": "stream",
     "text": [
      "C:\\ProgramData\\Anaconda3\\lib\\site-packages\\sklearn\\linear_model\\_coordinate_descent.py:532: ConvergenceWarning: Objective did not converge. You might want to increase the number of iterations. Duality gap: 1.3060722307631591, tolerance: 0.015059501126183256\n",
      "  positive)\n"
     ]
    },
    {
     "name": "stdout",
     "output_type": "stream",
     "text": [
      "0.006\n",
      "Mean square error test: 0.01678\n",
      "Mean square error train: 0.00783\n",
      "0.007\n",
      "Mean square error test: 0.01703\n",
      "Mean square error train: 0.00819\n"
     ]
    },
    {
     "name": "stderr",
     "output_type": "stream",
     "text": [
      "C:\\ProgramData\\Anaconda3\\lib\\site-packages\\sklearn\\linear_model\\_coordinate_descent.py:532: ConvergenceWarning: Objective did not converge. You might want to increase the number of iterations. Duality gap: 1.3584700221771673, tolerance: 0.015059501126183256\n",
      "  positive)\n"
     ]
    }
   ],
   "source": [
    "a = [0.001,0.002, 0.003,0.004, 0.005, 0.006, 0.007]\n",
    "\n",
    "for i in a:\n",
    "    lasso = Lasso(alpha=i, random_state=42).fit(X_train, y_train)\n",
    "\n",
    "    y_pred_lasso_test = lasso.predict(X_test)\n",
    "    y_pred_lasso_train = lasso.predict(X_train)\n",
    "\n",
    "    print(i)\n",
    "    print(\"Mean square error test: {:.5f}\".format(mean_squared_error(y_pred_lasso_test, y_test)))\n",
    "    print(\"Mean square error train: {:.5f}\".format(mean_squared_error(y_pred_lasso_train, y_train)))"
   ]
  },
  {
   "cell_type": "code",
   "execution_count": 59,
   "metadata": {},
   "outputs": [
    {
     "name": "stdout",
     "output_type": "stream",
     "text": [
      "Mean square error test: 0.01646\n",
      "Mean square error train: 0.00712\n"
     ]
    },
    {
     "name": "stderr",
     "output_type": "stream",
     "text": [
      "C:\\ProgramData\\Anaconda3\\lib\\site-packages\\sklearn\\linear_model\\_coordinate_descent.py:532: ConvergenceWarning: Objective did not converge. You might want to increase the number of iterations. Duality gap: 1.327463701013893, tolerance: 0.015059501126183256\n",
      "  positive)\n"
     ]
    }
   ],
   "source": [
    "lasso = Lasso(alpha=0.003, random_state=42).fit(X_train, y_train)\n",
    "\n",
    "y_pred_lasso_test = lasso.predict(X_test)\n",
    "y_pred_lasso_train = lasso.predict(X_train)\n",
    "\n",
    "\n",
    "print(\"Mean square error test: {:.5f}\".format(mean_squared_error(y_pred_lasso_test, y_test)))\n",
    "print(\"Mean square error train: {:.5f}\".format(mean_squared_error(y_pred_lasso_train, y_train)))"
   ]
  },
  {
   "cell_type": "markdown",
   "metadata": {},
   "source": [
    "Перевіримо, скільки коефіцієнтів моделі не враховуються"
   ]
  },
  {
   "cell_type": "code",
   "execution_count": 60,
   "metadata": {
    "scrolled": true
   },
   "outputs": [
    {
     "data": {
      "text/plain": [
       "array([-3.03852087e-04,  1.30475019e-03, -1.00534409e-03,  1.69394903e-05,\n",
       "        4.45426856e-04,  9.90858010e-04,  2.70218273e-04,  8.56042539e-03,\n",
       "        2.10483351e-03,  2.30935828e-04, -2.89074577e-04, -6.86992959e-04,\n",
       "       -2.88865167e-05, -6.96595999e-04, -6.91194902e-04, -1.74962514e-03,\n",
       "       -9.59173407e-04, -3.14894636e-04, -2.35072533e-04,  1.65427206e-03,\n",
       "       -4.81475880e-03,  2.96039835e-03,  9.68390852e-04,  3.91737522e-04,\n",
       "       -2.45146353e-04,  2.17049466e-03,  5.46767229e-04,  6.43481461e-04,\n",
       "       -4.94960265e-04, -7.16571361e-04,  1.22178106e-04, -9.33367150e-04,\n",
       "        6.51389763e-05, -1.18790775e-02,  3.71783995e-03,  1.23504330e-04,\n",
       "       -0.00000000e+00, -1.99680785e-03,  2.45452891e-03,  8.09876610e-05,\n",
       "        1.93246630e-03, -2.67386332e-03,  3.74434689e-03,  1.61628949e-03,\n",
       "        4.72731888e-03, -6.87312004e-05, -2.47640054e-03, -7.06523137e-04,\n",
       "        4.57491909e-03,  2.75981738e-03, -3.69318935e-04,  0.00000000e+00,\n",
       "        8.28156464e-03, -2.93200321e-03, -0.00000000e+00, -5.16824288e-03,\n",
       "        7.58011881e-04, -2.62424586e-02,  1.06862522e-03,  0.00000000e+00,\n",
       "       -1.23370369e-03,  6.21914872e-03, -3.74667448e-04,  1.94669479e-04,\n",
       "       -7.04715285e-04, -3.27755438e-04,  2.74954755e-03, -1.77421210e-03,\n",
       "        1.25367633e-03, -1.17906883e-02, -7.77315512e-04, -3.13349511e-03,\n",
       "       -3.19288906e-03, -3.48994159e-03,  0.00000000e+00,  2.20781895e-03,\n",
       "        1.05078352e-03, -7.91612523e-04, -3.01514739e-03,  3.16638379e-03,\n",
       "        1.84148928e-03,  3.26000819e-03,  4.03453749e-03,  5.82142097e-03,\n",
       "        1.89199273e-02,  2.14233674e-04, -8.94105615e-04, -3.37199052e-03,\n",
       "        6.79561848e-04,  2.28888544e-03, -7.78055493e-04,  5.39965927e-03,\n",
       "        1.25912325e-02,  2.30879732e-03, -0.00000000e+00,  2.88226800e-03,\n",
       "       -0.00000000e+00,  1.25733870e-03,  6.15021963e-03,  0.00000000e+00,\n",
       "       -2.71486534e-03, -5.99243080e-03,  1.46923117e-04,  1.63264192e-04,\n",
       "       -0.00000000e+00,  6.17626266e-04,  2.98007784e-04, -0.00000000e+00,\n",
       "       -1.30170328e-04, -1.75792317e-04, -3.49609382e-04,  3.18895759e-05,\n",
       "       -8.01611373e-05,  2.99645399e-04, -8.18362448e-05, -5.11756917e-05,\n",
       "        7.96201993e-04,  2.71409934e-04, -5.54127957e-03,  1.54698712e-04,\n",
       "        9.69040400e-04, -6.33719682e-03, -1.99964222e-03,  3.85924585e-03,\n",
       "        2.92176526e-04, -3.63600136e-03, -3.02355647e-03, -1.21668851e-03,\n",
       "        1.77518577e-03, -1.93194232e-03,  4.59568583e-03,  1.78346428e-03,\n",
       "        6.50358678e-04,  2.10390592e-05, -6.12662639e-05, -5.93658086e-04,\n",
       "        3.66725029e-03,  6.89006450e-05, -4.36637642e-04, -7.42380190e-04,\n",
       "       -1.08406185e-03, -6.25075899e-04, -5.40945151e-03,  8.70417768e-04,\n",
       "       -3.53283489e-03,  2.07067419e-03,  0.00000000e+00,  1.46564401e-03,\n",
       "        1.01969425e-03,  5.27758446e-04,  1.22626565e-03, -3.34508475e-04,\n",
       "        5.33529211e-04,  5.49754754e-04, -5.13500009e-05,  7.78062278e-03,\n",
       "        1.98787351e-04,  3.42739631e-03, -0.00000000e+00, -9.64739844e-04,\n",
       "        1.39475749e-04,  6.00184390e-05, -5.15572399e-03,  5.74537479e-04,\n",
       "       -2.76701515e-04,  8.54267898e-04,  9.95658143e-04, -1.57800219e-03,\n",
       "        4.79390028e-03, -9.91160971e-04, -7.99438494e-04, -3.85087241e-04,\n",
       "       -4.84349131e-04,  4.26425812e-04,  4.61139039e-04,  0.00000000e+00,\n",
       "       -0.00000000e+00, -9.95377484e-04, -1.47793551e-03,  1.64557440e-03,\n",
       "       -2.54599253e-04,  4.83374506e-04,  2.80016798e-03,  0.00000000e+00,\n",
       "       -7.97395806e-04,  9.84539116e-04, -3.07160623e-06, -5.01523426e-04,\n",
       "       -4.25012021e-04,  9.60858486e-05,  4.54267711e-06, -4.91345480e-03,\n",
       "       -7.81671163e-03,  4.94839290e-03,  1.73490703e-03, -2.25689288e-04,\n",
       "       -4.75064330e-04,  2.68925052e-03, -1.88200021e-03,  1.02548791e-03,\n",
       "        5.11393757e-05,  1.00925148e-03,  1.37120503e-04, -6.73103691e-03,\n",
       "        1.01792595e-03, -2.90242564e-03, -2.88898735e-03,  2.86422164e-04,\n",
       "        1.65852792e-03,  5.80787780e-04, -8.91631624e-04,  5.12554312e-04,\n",
       "       -5.49726224e-04,  2.90147021e-03, -8.30159772e-04, -8.15264902e-04])"
      ]
     },
     "execution_count": 60,
     "metadata": {},
     "output_type": "execute_result"
    }
   ],
   "source": [
    "lasso.coef_"
   ]
  },
  {
   "cell_type": "code",
   "execution_count": 61,
   "metadata": {},
   "outputs": [
    {
     "name": "stdout",
     "output_type": "stream",
     "text": [
      "0.06944444444444445\n"
     ]
    }
   ],
   "source": [
    "z = 0\n",
    "for i in lasso.coef_:\n",
    "    if i == 0:\n",
    "        z += 1\n",
    "print(z/len(lasso.coef_))\n",
    "    "
   ]
  },
  {
   "cell_type": "markdown",
   "metadata": {},
   "source": [
    "# 3.2 ElasticNet"
   ]
  },
  {
   "cell_type": "markdown",
   "metadata": {},
   "source": [
    "Пошук оптимального параметру"
   ]
  },
  {
   "cell_type": "code",
   "execution_count": 62,
   "metadata": {},
   "outputs": [
    {
     "name": "stderr",
     "output_type": "stream",
     "text": [
      "C:\\ProgramData\\Anaconda3\\lib\\site-packages\\sklearn\\linear_model\\_coordinate_descent.py:532: ConvergenceWarning: Objective did not converge. You might want to increase the number of iterations. Duality gap: 3.232210581272306, tolerance: 0.015059501126183256\n",
      "  positive)\n"
     ]
    },
    {
     "name": "stdout",
     "output_type": "stream",
     "text": [
      "0.008 0.018\n",
      "Mean square error test: 0.017238\n",
      "Mean square error train: 0.006764\n"
     ]
    },
    {
     "name": "stderr",
     "output_type": "stream",
     "text": [
      "C:\\ProgramData\\Anaconda3\\lib\\site-packages\\sklearn\\linear_model\\_coordinate_descent.py:532: ConvergenceWarning: Objective did not converge. You might want to increase the number of iterations. Duality gap: 2.2787352205270075, tolerance: 0.015059501126183256\n",
      "  positive)\n"
     ]
    },
    {
     "name": "stdout",
     "output_type": "stream",
     "text": [
      "0.008 0.19\n",
      "Mean square error test: 0.016592\n",
      "Mean square error train: 0.006890\n"
     ]
    },
    {
     "name": "stderr",
     "output_type": "stream",
     "text": [
      "C:\\ProgramData\\Anaconda3\\lib\\site-packages\\sklearn\\linear_model\\_coordinate_descent.py:532: ConvergenceWarning: Objective did not converge. You might want to increase the number of iterations. Duality gap: 2.1366482061293555, tolerance: 0.015059501126183256\n",
      "  positive)\n"
     ]
    },
    {
     "name": "stdout",
     "output_type": "stream",
     "text": [
      "0.008 0.2\n",
      "Mean square error test: 0.016585\n",
      "Mean square error train: 0.006900\n"
     ]
    },
    {
     "name": "stderr",
     "output_type": "stream",
     "text": [
      "C:\\ProgramData\\Anaconda3\\lib\\site-packages\\sklearn\\linear_model\\_coordinate_descent.py:532: ConvergenceWarning: Objective did not converge. You might want to increase the number of iterations. Duality gap: 1.984918801233684, tolerance: 0.015059501126183256\n",
      "  positive)\n"
     ]
    },
    {
     "name": "stdout",
     "output_type": "stream",
     "text": [
      "0.008 0.21\n",
      "Mean square error test: 0.016576\n",
      "Mean square error train: 0.006910\n"
     ]
    },
    {
     "name": "stderr",
     "output_type": "stream",
     "text": [
      "C:\\ProgramData\\Anaconda3\\lib\\site-packages\\sklearn\\linear_model\\_coordinate_descent.py:532: ConvergenceWarning: Objective did not converge. You might want to increase the number of iterations. Duality gap: 1.937528440962533, tolerance: 0.015059501126183256\n",
      "  positive)\n"
     ]
    },
    {
     "name": "stdout",
     "output_type": "stream",
     "text": [
      "0.008 0.22\n",
      "Mean square error test: 0.016564\n",
      "Mean square error train: 0.006921\n"
     ]
    },
    {
     "name": "stderr",
     "output_type": "stream",
     "text": [
      "C:\\ProgramData\\Anaconda3\\lib\\site-packages\\sklearn\\linear_model\\_coordinate_descent.py:532: ConvergenceWarning: Objective did not converge. You might want to increase the number of iterations. Duality gap: 1.8931477273615227, tolerance: 0.015059501126183256\n",
      "  positive)\n"
     ]
    },
    {
     "name": "stdout",
     "output_type": "stream",
     "text": [
      "0.008 0.23\n",
      "Mean square error test: 0.016553\n",
      "Mean square error train: 0.006932\n"
     ]
    },
    {
     "name": "stderr",
     "output_type": "stream",
     "text": [
      "C:\\ProgramData\\Anaconda3\\lib\\site-packages\\sklearn\\linear_model\\_coordinate_descent.py:532: ConvergenceWarning: Objective did not converge. You might want to increase the number of iterations. Duality gap: 1.8493327333210154, tolerance: 0.015059501126183256\n",
      "  positive)\n"
     ]
    },
    {
     "name": "stdout",
     "output_type": "stream",
     "text": [
      "0.008 0.24\n",
      "Mean square error test: 0.016543\n",
      "Mean square error train: 0.006943\n"
     ]
    },
    {
     "name": "stderr",
     "output_type": "stream",
     "text": [
      "C:\\ProgramData\\Anaconda3\\lib\\site-packages\\sklearn\\linear_model\\_coordinate_descent.py:532: ConvergenceWarning: Objective did not converge. You might want to increase the number of iterations. Duality gap: 1.7901339267559595, tolerance: 0.015059501126183256\n",
      "  positive)\n"
     ]
    },
    {
     "name": "stdout",
     "output_type": "stream",
     "text": [
      "0.008 0.25\n",
      "Mean square error test: 0.016534\n",
      "Mean square error train: 0.006955\n"
     ]
    },
    {
     "name": "stderr",
     "output_type": "stream",
     "text": [
      "C:\\ProgramData\\Anaconda3\\lib\\site-packages\\sklearn\\linear_model\\_coordinate_descent.py:532: ConvergenceWarning: Objective did not converge. You might want to increase the number of iterations. Duality gap: 3.222407622143373, tolerance: 0.015059501126183256\n",
      "  positive)\n"
     ]
    },
    {
     "name": "stdout",
     "output_type": "stream",
     "text": [
      "0.009 0.018\n",
      "Mean square error test: 0.017205\n",
      "Mean square error train: 0.006765\n"
     ]
    },
    {
     "name": "stderr",
     "output_type": "stream",
     "text": [
      "C:\\ProgramData\\Anaconda3\\lib\\site-packages\\sklearn\\linear_model\\_coordinate_descent.py:532: ConvergenceWarning: Objective did not converge. You might want to increase the number of iterations. Duality gap: 1.9691293606054507, tolerance: 0.015059501126183256\n",
      "  positive)\n"
     ]
    },
    {
     "name": "stdout",
     "output_type": "stream",
     "text": [
      "0.009 0.19\n",
      "Mean square error test: 0.016568\n",
      "Mean square error train: 0.006915\n"
     ]
    },
    {
     "name": "stderr",
     "output_type": "stream",
     "text": [
      "C:\\ProgramData\\Anaconda3\\lib\\site-packages\\sklearn\\linear_model\\_coordinate_descent.py:532: ConvergenceWarning: Objective did not converge. You might want to increase the number of iterations. Duality gap: 1.9165092424677461, tolerance: 0.015059501126183256\n",
      "  positive)\n"
     ]
    },
    {
     "name": "stdout",
     "output_type": "stream",
     "text": [
      "0.009 0.2\n",
      "Mean square error test: 0.016555\n",
      "Mean square error train: 0.006927\n"
     ]
    },
    {
     "name": "stderr",
     "output_type": "stream",
     "text": [
      "C:\\ProgramData\\Anaconda3\\lib\\site-packages\\sklearn\\linear_model\\_coordinate_descent.py:532: ConvergenceWarning: Objective did not converge. You might want to increase the number of iterations. Duality gap: 1.8677553185858349, tolerance: 0.015059501126183256\n",
      "  positive)\n"
     ]
    },
    {
     "name": "stdout",
     "output_type": "stream",
     "text": [
      "0.009 0.21\n",
      "Mean square error test: 0.016543\n",
      "Mean square error train: 0.006940\n"
     ]
    },
    {
     "name": "stderr",
     "output_type": "stream",
     "text": [
      "C:\\ProgramData\\Anaconda3\\lib\\site-packages\\sklearn\\linear_model\\_coordinate_descent.py:532: ConvergenceWarning: Objective did not converge. You might want to increase the number of iterations. Duality gap: 1.8205984525129764, tolerance: 0.015059501126183256\n",
      "  positive)\n"
     ]
    },
    {
     "name": "stdout",
     "output_type": "stream",
     "text": [
      "0.009 0.22\n",
      "Mean square error test: 0.016533\n",
      "Mean square error train: 0.006953\n"
     ]
    },
    {
     "name": "stderr",
     "output_type": "stream",
     "text": [
      "C:\\ProgramData\\Anaconda3\\lib\\site-packages\\sklearn\\linear_model\\_coordinate_descent.py:532: ConvergenceWarning: Objective did not converge. You might want to increase the number of iterations. Duality gap: 1.8134847488001808, tolerance: 0.015059501126183256\n",
      "  positive)\n"
     ]
    },
    {
     "name": "stdout",
     "output_type": "stream",
     "text": [
      "0.009 0.23\n",
      "Mean square error test: 0.016517\n",
      "Mean square error train: 0.006967\n"
     ]
    },
    {
     "name": "stderr",
     "output_type": "stream",
     "text": [
      "C:\\ProgramData\\Anaconda3\\lib\\site-packages\\sklearn\\linear_model\\_coordinate_descent.py:532: ConvergenceWarning: Objective did not converge. You might want to increase the number of iterations. Duality gap: 1.76150195972669, tolerance: 0.015059501126183256\n",
      "  positive)\n"
     ]
    },
    {
     "name": "stdout",
     "output_type": "stream",
     "text": [
      "0.009 0.24\n",
      "Mean square error test: 0.016503\n",
      "Mean square error train: 0.006981\n"
     ]
    },
    {
     "name": "stderr",
     "output_type": "stream",
     "text": [
      "C:\\ProgramData\\Anaconda3\\lib\\site-packages\\sklearn\\linear_model\\_coordinate_descent.py:532: ConvergenceWarning: Objective did not converge. You might want to increase the number of iterations. Duality gap: 1.743854406598643, tolerance: 0.015059501126183256\n",
      "  positive)\n"
     ]
    },
    {
     "name": "stdout",
     "output_type": "stream",
     "text": [
      "0.009 0.25\n",
      "Mean square error test: 0.016493\n",
      "Mean square error train: 0.006995\n"
     ]
    },
    {
     "name": "stderr",
     "output_type": "stream",
     "text": [
      "C:\\ProgramData\\Anaconda3\\lib\\site-packages\\sklearn\\linear_model\\_coordinate_descent.py:532: ConvergenceWarning: Objective did not converge. You might want to increase the number of iterations. Duality gap: 3.306863616145911, tolerance: 0.015059501126183256\n",
      "  positive)\n"
     ]
    },
    {
     "name": "stdout",
     "output_type": "stream",
     "text": [
      "0.0001 0.018\n",
      "Mean square error test: 0.017530\n",
      "Mean square error train: 0.006764\n"
     ]
    },
    {
     "name": "stderr",
     "output_type": "stream",
     "text": [
      "C:\\ProgramData\\Anaconda3\\lib\\site-packages\\sklearn\\linear_model\\_coordinate_descent.py:532: ConvergenceWarning: Objective did not converge. You might want to increase the number of iterations. Duality gap: 3.294899591408679, tolerance: 0.015059501126183256\n",
      "  positive)\n"
     ]
    },
    {
     "name": "stdout",
     "output_type": "stream",
     "text": [
      "0.0001 0.19\n",
      "Mean square error test: 0.017507\n",
      "Mean square error train: 0.006763\n"
     ]
    },
    {
     "name": "stderr",
     "output_type": "stream",
     "text": [
      "C:\\ProgramData\\Anaconda3\\lib\\site-packages\\sklearn\\linear_model\\_coordinate_descent.py:532: ConvergenceWarning: Objective did not converge. You might want to increase the number of iterations. Duality gap: 3.294180130686967, tolerance: 0.015059501126183256\n",
      "  positive)\n"
     ]
    },
    {
     "name": "stdout",
     "output_type": "stream",
     "text": [
      "0.0001 0.2\n",
      "Mean square error test: 0.017506\n",
      "Mean square error train: 0.006763\n"
     ]
    },
    {
     "name": "stderr",
     "output_type": "stream",
     "text": [
      "C:\\ProgramData\\Anaconda3\\lib\\site-packages\\sklearn\\linear_model\\_coordinate_descent.py:532: ConvergenceWarning: Objective did not converge. You might want to increase the number of iterations. Duality gap: 3.293459225272722, tolerance: 0.015059501126183256\n",
      "  positive)\n"
     ]
    },
    {
     "name": "stdout",
     "output_type": "stream",
     "text": [
      "0.0001 0.21\n",
      "Mean square error test: 0.017504\n",
      "Mean square error train: 0.006763\n"
     ]
    },
    {
     "name": "stderr",
     "output_type": "stream",
     "text": [
      "C:\\ProgramData\\Anaconda3\\lib\\site-packages\\sklearn\\linear_model\\_coordinate_descent.py:532: ConvergenceWarning: Objective did not converge. You might want to increase the number of iterations. Duality gap: 3.292737613508182, tolerance: 0.015059501126183256\n",
      "  positive)\n"
     ]
    },
    {
     "name": "stdout",
     "output_type": "stream",
     "text": [
      "0.0001 0.22\n",
      "Mean square error test: 0.017503\n",
      "Mean square error train: 0.006763\n"
     ]
    },
    {
     "name": "stderr",
     "output_type": "stream",
     "text": [
      "C:\\ProgramData\\Anaconda3\\lib\\site-packages\\sklearn\\linear_model\\_coordinate_descent.py:532: ConvergenceWarning: Objective did not converge. You might want to increase the number of iterations. Duality gap: 3.292014949725741, tolerance: 0.015059501126183256\n",
      "  positive)\n"
     ]
    },
    {
     "name": "stdout",
     "output_type": "stream",
     "text": [
      "0.0001 0.23\n",
      "Mean square error test: 0.017502\n",
      "Mean square error train: 0.006763\n"
     ]
    },
    {
     "name": "stderr",
     "output_type": "stream",
     "text": [
      "C:\\ProgramData\\Anaconda3\\lib\\site-packages\\sklearn\\linear_model\\_coordinate_descent.py:532: ConvergenceWarning: Objective did not converge. You might want to increase the number of iterations. Duality gap: 3.2912917546164975, tolerance: 0.015059501126183256\n",
      "  positive)\n"
     ]
    },
    {
     "name": "stdout",
     "output_type": "stream",
     "text": [
      "0.0001 0.24\n",
      "Mean square error test: 0.017500\n",
      "Mean square error train: 0.006763\n"
     ]
    },
    {
     "name": "stderr",
     "output_type": "stream",
     "text": [
      "C:\\ProgramData\\Anaconda3\\lib\\site-packages\\sklearn\\linear_model\\_coordinate_descent.py:532: ConvergenceWarning: Objective did not converge. You might want to increase the number of iterations. Duality gap: 3.290566127899313, tolerance: 0.015059501126183256\n",
      "  positive)\n"
     ]
    },
    {
     "name": "stdout",
     "output_type": "stream",
     "text": [
      "0.0001 0.25\n",
      "Mean square error test: 0.017499\n",
      "Mean square error train: 0.006763\n"
     ]
    },
    {
     "name": "stderr",
     "output_type": "stream",
     "text": [
      "C:\\ProgramData\\Anaconda3\\lib\\site-packages\\sklearn\\linear_model\\_coordinate_descent.py:532: ConvergenceWarning: Objective did not converge. You might want to increase the number of iterations. Duality gap: 3.3059795786829795, tolerance: 0.015059501126183256\n",
      "  positive)\n"
     ]
    },
    {
     "name": "stdout",
     "output_type": "stream",
     "text": [
      "0.0002 0.018\n",
      "Mean square error test: 0.017526\n",
      "Mean square error train: 0.006764\n"
     ]
    },
    {
     "name": "stderr",
     "output_type": "stream",
     "text": [
      "C:\\ProgramData\\Anaconda3\\lib\\site-packages\\sklearn\\linear_model\\_coordinate_descent.py:532: ConvergenceWarning: Objective did not converge. You might want to increase the number of iterations. Duality gap: 3.2810120160553353, tolerance: 0.015059501126183256\n",
      "  positive)\n"
     ]
    },
    {
     "name": "stdout",
     "output_type": "stream",
     "text": [
      "0.0002 0.19\n",
      "Mean square error test: 0.017478\n",
      "Mean square error train: 0.006763\n"
     ]
    },
    {
     "name": "stderr",
     "output_type": "stream",
     "text": [
      "C:\\ProgramData\\Anaconda3\\lib\\site-packages\\sklearn\\linear_model\\_coordinate_descent.py:532: ConvergenceWarning: Objective did not converge. You might want to increase the number of iterations. Duality gap: 3.2792805840155537, tolerance: 0.015059501126183256\n",
      "  positive)\n"
     ]
    },
    {
     "name": "stdout",
     "output_type": "stream",
     "text": [
      "0.0002 0.2\n",
      "Mean square error test: 0.017475\n",
      "Mean square error train: 0.006763\n"
     ]
    },
    {
     "name": "stderr",
     "output_type": "stream",
     "text": [
      "C:\\ProgramData\\Anaconda3\\lib\\site-packages\\sklearn\\linear_model\\_coordinate_descent.py:532: ConvergenceWarning: Objective did not converge. You might want to increase the number of iterations. Duality gap: 3.2773449191911257, tolerance: 0.015059501126183256\n",
      "  positive)\n"
     ]
    },
    {
     "name": "stdout",
     "output_type": "stream",
     "text": [
      "0.0002 0.21\n",
      "Mean square error test: 0.017470\n",
      "Mean square error train: 0.006763\n"
     ]
    },
    {
     "name": "stderr",
     "output_type": "stream",
     "text": [
      "C:\\ProgramData\\Anaconda3\\lib\\site-packages\\sklearn\\linear_model\\_coordinate_descent.py:532: ConvergenceWarning: Objective did not converge. You might want to increase the number of iterations. Duality gap: 3.2760110276897065, tolerance: 0.015059501126183256\n",
      "  positive)\n"
     ]
    },
    {
     "name": "stdout",
     "output_type": "stream",
     "text": [
      "0.0002 0.22\n",
      "Mean square error test: 0.017467\n",
      "Mean square error train: 0.006763\n"
     ]
    },
    {
     "name": "stderr",
     "output_type": "stream",
     "text": [
      "C:\\ProgramData\\Anaconda3\\lib\\site-packages\\sklearn\\linear_model\\_coordinate_descent.py:532: ConvergenceWarning: Objective did not converge. You might want to increase the number of iterations. Duality gap: 3.2746227140705986, tolerance: 0.015059501126183256\n",
      "  positive)\n"
     ]
    },
    {
     "name": "stdout",
     "output_type": "stream",
     "text": [
      "0.0002 0.23\n",
      "Mean square error test: 0.017463\n",
      "Mean square error train: 0.006763\n"
     ]
    },
    {
     "name": "stderr",
     "output_type": "stream",
     "text": [
      "C:\\ProgramData\\Anaconda3\\lib\\site-packages\\sklearn\\linear_model\\_coordinate_descent.py:532: ConvergenceWarning: Objective did not converge. You might want to increase the number of iterations. Duality gap: 3.273198761696637, tolerance: 0.015059501126183256\n",
      "  positive)\n"
     ]
    },
    {
     "name": "stdout",
     "output_type": "stream",
     "text": [
      "0.0002 0.24\n",
      "Mean square error test: 0.017460\n",
      "Mean square error train: 0.006763\n"
     ]
    },
    {
     "name": "stderr",
     "output_type": "stream",
     "text": [
      "C:\\ProgramData\\Anaconda3\\lib\\site-packages\\sklearn\\linear_model\\_coordinate_descent.py:532: ConvergenceWarning: Objective did not converge. You might want to increase the number of iterations. Duality gap: 3.2717473715449388, tolerance: 0.015059501126183256\n",
      "  positive)\n"
     ]
    },
    {
     "name": "stdout",
     "output_type": "stream",
     "text": [
      "0.0002 0.25\n",
      "Mean square error test: 0.017457\n",
      "Mean square error train: 0.006763\n"
     ]
    },
    {
     "name": "stderr",
     "output_type": "stream",
     "text": [
      "C:\\ProgramData\\Anaconda3\\lib\\site-packages\\sklearn\\linear_model\\_coordinate_descent.py:532: ConvergenceWarning: Objective did not converge. You might want to increase the number of iterations. Duality gap: 3.305082535216008, tolerance: 0.015059501126183256\n",
      "  positive)\n"
     ]
    },
    {
     "name": "stdout",
     "output_type": "stream",
     "text": [
      "0.0003 0.018\n",
      "Mean square error test: 0.017523\n",
      "Mean square error train: 0.006764\n"
     ]
    },
    {
     "name": "stderr",
     "output_type": "stream",
     "text": [
      "C:\\ProgramData\\Anaconda3\\lib\\site-packages\\sklearn\\linear_model\\_coordinate_descent.py:532: ConvergenceWarning: Objective did not converge. You might want to increase the number of iterations. Duality gap: 3.2685848558727293, tolerance: 0.015059501126183256\n",
      "  positive)\n"
     ]
    },
    {
     "name": "stdout",
     "output_type": "stream",
     "text": [
      "0.0003 0.19\n",
      "Mean square error test: 0.017443\n",
      "Mean square error train: 0.006762\n"
     ]
    },
    {
     "name": "stderr",
     "output_type": "stream",
     "text": [
      "C:\\ProgramData\\Anaconda3\\lib\\site-packages\\sklearn\\linear_model\\_coordinate_descent.py:532: ConvergenceWarning: Objective did not converge. You might want to increase the number of iterations. Duality gap: 3.2670643037886444, tolerance: 0.015059501126183256\n",
      "  positive)\n"
     ]
    },
    {
     "name": "stdout",
     "output_type": "stream",
     "text": [
      "0.0003 0.2\n",
      "Mean square error test: 0.017440\n",
      "Mean square error train: 0.006762\n"
     ]
    },
    {
     "name": "stderr",
     "output_type": "stream",
     "text": [
      "C:\\ProgramData\\Anaconda3\\lib\\site-packages\\sklearn\\linear_model\\_coordinate_descent.py:532: ConvergenceWarning: Objective did not converge. You might want to increase the number of iterations. Duality gap: 3.26538398766278, tolerance: 0.015059501126183256\n",
      "  positive)\n"
     ]
    },
    {
     "name": "stdout",
     "output_type": "stream",
     "text": [
      "0.0003 0.21\n",
      "Mean square error test: 0.017437\n",
      "Mean square error train: 0.006762\n"
     ]
    },
    {
     "name": "stderr",
     "output_type": "stream",
     "text": [
      "C:\\ProgramData\\Anaconda3\\lib\\site-packages\\sklearn\\linear_model\\_coordinate_descent.py:532: ConvergenceWarning: Objective did not converge. You might want to increase the number of iterations. Duality gap: 3.263389799253139, tolerance: 0.015059501126183256\n",
      "  positive)\n"
     ]
    },
    {
     "name": "stdout",
     "output_type": "stream",
     "text": [
      "0.0003 0.22\n",
      "Mean square error test: 0.017433\n",
      "Mean square error train: 0.006762\n"
     ]
    },
    {
     "name": "stderr",
     "output_type": "stream",
     "text": [
      "C:\\ProgramData\\Anaconda3\\lib\\site-packages\\sklearn\\linear_model\\_coordinate_descent.py:532: ConvergenceWarning: Objective did not converge. You might want to increase the number of iterations. Duality gap: 3.2612614927935133, tolerance: 0.015059501126183256\n",
      "  positive)\n"
     ]
    },
    {
     "name": "stdout",
     "output_type": "stream",
     "text": [
      "0.0003 0.23\n",
      "Mean square error test: 0.017429\n",
      "Mean square error train: 0.006762\n"
     ]
    },
    {
     "name": "stderr",
     "output_type": "stream",
     "text": [
      "C:\\ProgramData\\Anaconda3\\lib\\site-packages\\sklearn\\linear_model\\_coordinate_descent.py:532: ConvergenceWarning: Objective did not converge. You might want to increase the number of iterations. Duality gap: 3.2590690895083387, tolerance: 0.015059501126183256\n",
      "  positive)\n"
     ]
    },
    {
     "name": "stdout",
     "output_type": "stream",
     "text": [
      "0.0003 0.24\n",
      "Mean square error test: 0.017425\n",
      "Mean square error train: 0.006762\n"
     ]
    },
    {
     "name": "stderr",
     "output_type": "stream",
     "text": [
      "C:\\ProgramData\\Anaconda3\\lib\\site-packages\\sklearn\\linear_model\\_coordinate_descent.py:532: ConvergenceWarning: Objective did not converge. You might want to increase the number of iterations. Duality gap: 3.256891235993385, tolerance: 0.015059501126183256\n",
      "  positive)\n"
     ]
    },
    {
     "name": "stdout",
     "output_type": "stream",
     "text": [
      "0.0003 0.25\n",
      "Mean square error test: 0.017421\n",
      "Mean square error train: 0.006762\n"
     ]
    },
    {
     "name": "stderr",
     "output_type": "stream",
     "text": [
      "C:\\ProgramData\\Anaconda3\\lib\\site-packages\\sklearn\\linear_model\\_coordinate_descent.py:532: ConvergenceWarning: Objective did not converge. You might want to increase the number of iterations. Duality gap: 3.304165743847257, tolerance: 0.015059501126183256\n",
      "  positive)\n"
     ]
    },
    {
     "name": "stdout",
     "output_type": "stream",
     "text": [
      "0.0004 0.018\n",
      "Mean square error test: 0.017519\n",
      "Mean square error train: 0.006764\n"
     ]
    },
    {
     "name": "stderr",
     "output_type": "stream",
     "text": [
      "C:\\ProgramData\\Anaconda3\\lib\\site-packages\\sklearn\\linear_model\\_coordinate_descent.py:532: ConvergenceWarning: Objective did not converge. You might want to increase the number of iterations. Duality gap: 3.256471073300318, tolerance: 0.015059501126183256\n",
      "  positive)\n"
     ]
    },
    {
     "name": "stdout",
     "output_type": "stream",
     "text": [
      "0.0004 0.19\n",
      "Mean square error test: 0.017419\n",
      "Mean square error train: 0.006762\n"
     ]
    },
    {
     "name": "stderr",
     "output_type": "stream",
     "text": [
      "C:\\ProgramData\\Anaconda3\\lib\\site-packages\\sklearn\\linear_model\\_coordinate_descent.py:532: ConvergenceWarning: Objective did not converge. You might want to increase the number of iterations. Duality gap: 3.2535070290701644, tolerance: 0.015059501126183256\n",
      "  positive)\n"
     ]
    },
    {
     "name": "stdout",
     "output_type": "stream",
     "text": [
      "0.0004 0.2\n",
      "Mean square error test: 0.017413\n",
      "Mean square error train: 0.006762\n"
     ]
    },
    {
     "name": "stderr",
     "output_type": "stream",
     "text": [
      "C:\\ProgramData\\Anaconda3\\lib\\site-packages\\sklearn\\linear_model\\_coordinate_descent.py:532: ConvergenceWarning: Objective did not converge. You might want to increase the number of iterations. Duality gap: 3.2505169944982293, tolerance: 0.015059501126183256\n",
      "  positive)\n"
     ]
    },
    {
     "name": "stdout",
     "output_type": "stream",
     "text": [
      "0.0004 0.21\n",
      "Mean square error test: 0.017407\n",
      "Mean square error train: 0.006762\n"
     ]
    },
    {
     "name": "stderr",
     "output_type": "stream",
     "text": [
      "C:\\ProgramData\\Anaconda3\\lib\\site-packages\\sklearn\\linear_model\\_coordinate_descent.py:532: ConvergenceWarning: Objective did not converge. You might want to increase the number of iterations. Duality gap: 3.2475129609252305, tolerance: 0.015059501126183256\n",
      "  positive)\n"
     ]
    },
    {
     "name": "stdout",
     "output_type": "stream",
     "text": [
      "0.0004 0.22\n",
      "Mean square error test: 0.017401\n",
      "Mean square error train: 0.006762\n"
     ]
    },
    {
     "name": "stderr",
     "output_type": "stream",
     "text": [
      "C:\\ProgramData\\Anaconda3\\lib\\site-packages\\sklearn\\linear_model\\_coordinate_descent.py:532: ConvergenceWarning: Objective did not converge. You might want to increase the number of iterations. Duality gap: 3.2445130279449232, tolerance: 0.015059501126183256\n",
      "  positive)\n"
     ]
    },
    {
     "name": "stdout",
     "output_type": "stream",
     "text": [
      "0.0004 0.23\n",
      "Mean square error test: 0.017395\n",
      "Mean square error train: 0.006762\n"
     ]
    },
    {
     "name": "stderr",
     "output_type": "stream",
     "text": [
      "C:\\ProgramData\\Anaconda3\\lib\\site-packages\\sklearn\\linear_model\\_coordinate_descent.py:532: ConvergenceWarning: Objective did not converge. You might want to increase the number of iterations. Duality gap: 3.2415139619042255, tolerance: 0.015059501126183256\n",
      "  positive)\n"
     ]
    },
    {
     "name": "stdout",
     "output_type": "stream",
     "text": [
      "0.0004 0.24\n",
      "Mean square error test: 0.017390\n",
      "Mean square error train: 0.006762\n",
      "0.0004 0.25\n",
      "Mean square error test: 0.017384\n",
      "Mean square error train: 0.006762\n"
     ]
    },
    {
     "name": "stderr",
     "output_type": "stream",
     "text": [
      "C:\\ProgramData\\Anaconda3\\lib\\site-packages\\sklearn\\linear_model\\_coordinate_descent.py:532: ConvergenceWarning: Objective did not converge. You might want to increase the number of iterations. Duality gap: 3.2385029480660625, tolerance: 0.015059501126183256\n",
      "  positive)\n"
     ]
    }
   ],
   "source": [
    "a = [0.008, 0.009,0.0001, 0.0002, 0.0003, 0.0004]\n",
    "l = [0.018, 0.19, 0.2, 0.21, 0.22, 0.23, 0.24, 0.25]\n",
    "\n",
    "for i in a:\n",
    "    for j in l:\n",
    "        ENet = ElasticNet(alpha=i, l1_ratio= j, random_state=42).fit(X_train, y_train)\n",
    "        print(i, j)\n",
    "        y_pred_enet_test = ENet.predict(X_test)\n",
    "        y_pred_enet_train = ENet.predict(X_train)\n",
    "\n",
    "\n",
    "        print(\"Mean square error test: {:.6f}\".format(mean_squared_error(y_pred_enet_test, y_test)))\n",
    "        print(\"Mean square error train: {:.6f}\".format(mean_squared_error(y_pred_enet_train, y_train)))\n",
    "        "
   ]
  },
  {
   "cell_type": "code",
   "execution_count": 63,
   "metadata": {},
   "outputs": [
    {
     "name": "stdout",
     "output_type": "stream",
     "text": [
      "Mean square error test: 0.01646\n",
      "Mean square error train: 0.00722\n"
     ]
    },
    {
     "name": "stderr",
     "output_type": "stream",
     "text": [
      "C:\\ProgramData\\Anaconda3\\lib\\site-packages\\sklearn\\linear_model\\_coordinate_descent.py:532: ConvergenceWarning: Objective did not converge. You might want to increase the number of iterations. Duality gap: 1.214761575411008, tolerance: 0.015059501126183256\n",
      "  positive)\n"
     ]
    }
   ],
   "source": [
    "ENet = ElasticNet(alpha=0.0035, l1_ratio= 1, random_state=42).fit(X_train, y_train)\n",
    "\n",
    "y_pred_enet_test = ENet.predict(X_test)\n",
    "y_pred_enet_train = ENet.predict(X_train)\n",
    "\n",
    "\n",
    "print(\"Mean square error test: {:.5f}\".format(mean_squared_error(y_pred_enet_test, y_test)))\n",
    "print(\"Mean square error train: {:.5f}\".format(mean_squared_error(y_pred_enet_train, y_train)))"
   ]
  },
  {
   "cell_type": "markdown",
   "metadata": {},
   "source": [
    "Зробимо проміжну оцінку моделі по розподілу"
   ]
  },
  {
   "cell_type": "code",
   "execution_count": 64,
   "metadata": {},
   "outputs": [
    {
     "data": {
      "text/plain": [
       "<AxesSubplot:ylabel='Count'>"
      ]
     },
     "execution_count": 64,
     "metadata": {},
     "output_type": "execute_result"
    },
    {
     "data": {
      "image/png": "[encoded data removed]",
      "text/plain": [
       "<Figure size 432x288 with 1 Axes>"
      ]
     },
     "metadata": {},
     "output_type": "display_data"
    }
   ],
   "source": [
    "sns.histplot([np.expm1(ENet.predict(X_test)), np.expm1(y_test)], alpha = 0.7)"
   ]
  },
  {
   "cell_type": "markdown",
   "metadata": {},
   "source": [
    "Поглянемо, чи зануляється велика кількість коефіцієнтів"
   ]
  },
  {
   "cell_type": "code",
   "execution_count": 65,
   "metadata": {
    "scrolled": true
   },
   "outputs": [
    {
     "data": {
      "text/plain": [
       "array([-2.44316990e-04,  1.27410846e-03, -1.02263343e-03,  1.06737127e-04,\n",
       "        4.49286824e-04,  1.01199721e-03,  4.97110337e-04,  8.51435324e-03,\n",
       "        2.03000230e-03,  2.67726675e-04, -2.58031814e-04, -7.91929972e-04,\n",
       "       -4.38360843e-05, -6.80459354e-04, -6.50153438e-04, -1.75295480e-03,\n",
       "       -9.14626061e-04, -4.06714541e-04, -2.15658337e-04,  1.62756668e-03,\n",
       "       -4.64412501e-03,  2.95623787e-03,  9.66712571e-04,  3.48079781e-04,\n",
       "       -2.87924306e-04,  2.24627901e-03,  5.00923731e-04,  6.29573542e-04,\n",
       "       -4.61246650e-04, -6.88555513e-04,  1.42332753e-04, -9.39167055e-04,\n",
       "        6.52400033e-05, -1.11341696e-02,  3.78403299e-03,  2.27017933e-04,\n",
       "       -0.00000000e+00, -1.97131266e-03,  2.39997594e-03,  8.46513080e-05,\n",
       "        1.91129006e-03, -2.56153062e-03,  3.58223344e-03,  1.47743853e-03,\n",
       "        4.61939113e-03, -3.36602834e-04, -2.42361091e-03, -7.09131156e-04,\n",
       "        4.40477461e-03,  2.60179133e-03, -6.31548695e-04,  0.00000000e+00,\n",
       "        8.06890473e-03, -2.80601443e-03, -0.00000000e+00, -4.80228056e-03,\n",
       "        8.67906712e-04, -2.55405341e-02,  1.19716281e-03,  0.00000000e+00,\n",
       "       -1.15524443e-03,  6.08242012e-03, -3.57417168e-04,  1.75738370e-04,\n",
       "       -7.38299848e-04, -3.88954657e-04,  2.68621153e-03, -1.73623223e-03,\n",
       "        1.39390521e-03, -1.11481768e-02, -4.09307320e-04, -2.80257120e-03,\n",
       "       -3.00961669e-03, -3.62583700e-03,  0.00000000e+00,  2.13684277e-03,\n",
       "        9.75429854e-04, -7.60195958e-04, -2.86922473e-03,  3.29749456e-03,\n",
       "        2.09729201e-03,  3.09465193e-03,  3.46551922e-03,  6.10598748e-03,\n",
       "        1.71337261e-02,  2.13019088e-04, -9.31656248e-04, -3.02048347e-03,\n",
       "        7.27005971e-04,  2.14909980e-03, -7.94817662e-04,  5.34202540e-03,\n",
       "        1.23527606e-02,  2.23020068e-03, -0.00000000e+00,  2.72089265e-03,\n",
       "       -0.00000000e+00,  1.27019121e-03,  5.48472090e-03, -0.00000000e+00,\n",
       "       -2.55271272e-03, -5.78968755e-03,  2.51379644e-04,  2.90092131e-04,\n",
       "       -0.00000000e+00,  5.72407919e-04,  3.32642353e-04, -0.00000000e+00,\n",
       "       -1.34694707e-04, -1.81879212e-04, -3.56193891e-04,  0.00000000e+00,\n",
       "       -6.14088809e-05,  3.05428819e-04, -7.74965239e-05, -4.01114009e-05,\n",
       "        7.44708242e-04,  2.52951222e-04, -5.39771060e-03,  1.59607813e-04,\n",
       "        9.40080481e-04, -5.68189777e-03, -1.84572953e-03,  3.41371584e-03,\n",
       "        3.06181701e-04, -3.47923807e-03, -2.88525988e-03, -1.09349129e-03,\n",
       "        1.74195067e-03, -1.90395791e-03,  4.07221857e-03,  1.77112400e-03,\n",
       "        6.13743656e-04,  4.11472200e-05, -7.71899332e-05, -5.55086078e-04,\n",
       "        3.64745200e-03,  2.04707030e-05, -4.29254573e-04, -7.34360693e-04,\n",
       "       -1.07685014e-03, -6.35122974e-04, -5.45716129e-03,  8.68859854e-04,\n",
       "       -3.25878646e-03,  2.31131911e-03,  0.00000000e+00,  1.34969096e-03,\n",
       "        5.75433029e-04,  4.98485640e-04,  1.10135375e-03, -3.38090102e-04,\n",
       "        5.16683411e-04,  5.47743996e-04, -6.35788085e-05,  7.76012168e-03,\n",
       "        1.89491115e-04,  3.36051441e-03, -0.00000000e+00, -8.31570639e-04,\n",
       "        1.41158743e-04,  8.47160156e-05, -5.14325617e-03,  5.24554541e-04,\n",
       "       -2.75751694e-04,  8.05462270e-04,  9.66220103e-04, -1.47059700e-03,\n",
       "        4.35494027e-03, -9.14701067e-04, -7.24442644e-04, -3.47570099e-04,\n",
       "       -4.54071512e-04,  4.56585701e-04,  4.68143088e-04,  0.00000000e+00,\n",
       "       -0.00000000e+00, -1.04324687e-03, -1.36112490e-03,  1.60114855e-03,\n",
       "       -2.65589605e-04,  4.36641962e-04,  2.80815135e-03,  0.00000000e+00,\n",
       "       -7.76213478e-04,  8.71033096e-04, -2.38505321e-06, -5.03818446e-04,\n",
       "       -4.00602316e-04,  9.56227677e-05,  1.40796746e-05, -4.53631028e-03,\n",
       "       -7.46213001e-03,  4.77722301e-03,  1.55015059e-03, -2.32668134e-04,\n",
       "       -5.24821543e-04,  2.57505748e-03, -1.73468551e-03,  9.65443420e-04,\n",
       "        1.66075389e-05,  1.03587652e-03,  1.22156987e-04, -6.07759350e-03,\n",
       "        1.01550879e-03, -3.09502229e-03, -2.91578855e-03,  3.12053405e-04,\n",
       "        1.53581044e-03,  5.82817054e-04, -8.13262998e-04,  4.65298072e-04,\n",
       "       -5.23601720e-04,  2.26934082e-03, -7.98484249e-04, -7.65566133e-04])"
      ]
     },
     "execution_count": 65,
     "metadata": {},
     "output_type": "execute_result"
    }
   ],
   "source": [
    "ENet.coef_"
   ]
  },
  {
   "cell_type": "code",
   "execution_count": 66,
   "metadata": {},
   "outputs": [
    {
     "name": "stdout",
     "output_type": "stream",
     "text": [
      "0.07407407407407407\n"
     ]
    }
   ],
   "source": [
    "z = 0\n",
    "for i in ENet.coef_:\n",
    "    if i == 0:\n",
    "        z += 1\n",
    "print(z/len(ENet.coef_))\n",
    "    "
   ]
  },
  {
   "cell_type": "markdown",
   "metadata": {},
   "source": [
    "Лише мала частина ознак не враховується у моделі"
   ]
  },
  {
   "cell_type": "markdown",
   "metadata": {},
   "source": [
    "# 3.3 XGBoost"
   ]
  },
  {
   "cell_type": "code",
   "execution_count": 67,
   "metadata": {},
   "outputs": [
    {
     "name": "stdout",
     "output_type": "stream",
     "text": [
      "[13:26:36] WARNING: C:/Users/Administrator/workspace/xgboost-win64_release_1.3.0/src/learner.cc:541: \n",
      "Parameters: { silent } might not be used.\n",
      "\n",
      "  This may not be accurate due to some parameters are only used in language bindings but\n",
      "  passed down to XGBoost core.  Or some parameters are not used but slip through this\n",
      "  verification. Please open an issue if you find above cases.\n",
      "\n",
      "\n",
      "Mean square error test: 0.01638\n",
      "Mean square error train: 0.00156\n"
     ]
    }
   ],
   "source": [
    "xgbr = xgb.XGBRegressor(colsample_bytree=1, gamma=0.00007, \n",
    "                             learning_rate=0.05, max_depth=3, \n",
    "                             min_child_weight=1, n_estimators=500,\n",
    "                             reg_alpha=0.0009, reg_lambda=0.01,\n",
    "                             subsample=0.5, silent=1,\n",
    "                             random_state =7, nthread = -1)\n",
    "                        \n",
    "xgbr = xgbr.fit(X_train, y_train)\n",
    "                        \n",
    "\n",
    "\n",
    "\n",
    "y_pred_xgbr_test = xgbr.predict(X_test)\n",
    "y_pred_xgbr_train = xgbr.predict(X_train)\n",
    "                        \n",
    "print(\"Mean square error test: {:.5f}\".format(mean_squared_error(y_pred_xgbr_test, y_test)))\n",
    "print(\"Mean square error train: {:.5f}\".format(mean_squared_error(y_pred_xgbr_train, y_train)))"
   ]
  },
  {
   "cell_type": "markdown",
   "metadata": {},
   "source": [
    "# 3.4 Метод найближчого сусіда"
   ]
  },
  {
   "cell_type": "code",
   "execution_count": 68,
   "metadata": {},
   "outputs": [
    {
     "name": "stdout",
     "output_type": "stream",
     "text": [
      "Mean square error test: 0.06267\n",
      "Mean square error train: 0.02913\n"
     ]
    }
   ],
   "source": [
    "neigh = KNeighborsRegressor(n_neighbors=3)\n",
    "neigh = neigh.fit(X_train, y_train)\n",
    "\n",
    "y_pred_neigh_test = neigh.predict(X_test)\n",
    "y_pred_neigh_train = neigh.predict(X_train)\n",
    "\n",
    "print(\"Mean square error test: {:.5f}\".format(mean_squared_error(y_pred_neigh_test, y_test)))\n",
    "print(\"Mean square error train: {:.5f}\".format(mean_squared_error(y_pred_neigh_train, y_train)))"
   ]
  },
  {
   "cell_type": "markdown",
   "metadata": {},
   "source": [
    "Даний метод погано працює на наших даних"
   ]
  },
  {
   "cell_type": "markdown",
   "metadata": {},
   "source": [
    "# 3.5 Support Vector Regression"
   ]
  },
  {
   "cell_type": "code",
   "execution_count": 69,
   "metadata": {},
   "outputs": [
    {
     "name": "stdout",
     "output_type": "stream",
     "text": [
      "Mean square error test: 0.01706\n",
      "Mean square error train: 0.00624\n"
     ]
    }
   ],
   "source": [
    "svr = SVR( C = 20, epsilon = 0.04)\n",
    "svr = svr.fit(X_train, y_train)\n",
    "\n",
    "y_pred_svr_test = svr.predict(X_test)\n",
    "y_pred_svr_train = svr.predict(X_train)\n",
    "\n",
    "print(\"Mean square error test: {:.5f}\".format(mean_squared_error(y_pred_svr_test, y_test)))\n",
    "print(\"Mean square error train: {:.5f}\".format(mean_squared_error(y_pred_svr_train, y_train)))"
   ]
  },
  {
   "cell_type": "markdown",
   "metadata": {},
   "source": [
    "# 3.6 Random Forest"
   ]
  },
  {
   "cell_type": "code",
   "execution_count": 70,
   "metadata": {},
   "outputs": [
    {
     "name": "stdout",
     "output_type": "stream",
     "text": [
      "Mean square error test: 0.02140\n",
      "Mean square error train: 0.00434\n"
     ]
    }
   ],
   "source": [
    "RF = RandomForestRegressor(max_depth=9, min_samples_split = 4,min_samples_leaf = 2, random_state=0).fit(X_train, y_train)\n",
    "\n",
    "y_pred_RF_test = RF.predict(X_test)\n",
    "y_pred_RF_train = RF.predict(X_train)\n",
    "\n",
    "print(\"Mean square error test: {:.5f}\".format(mean_squared_error(y_pred_RF_test, y_test)))\n",
    "print(\"Mean square error train: {:.5f}\".format(mean_squared_error(y_pred_RF_train, y_train)))"
   ]
  },
  {
   "cell_type": "markdown",
   "metadata": {},
   "source": [
    "# 4. Створимо одну усереднену модель"
   ]
  },
  {
   "cell_type": "code",
   "execution_count": 79,
   "metadata": {
    "collapsed": true
   },
   "outputs": [],
   "source": [
    "class SuperModel():\n",
    "    \n",
    "    def __init__(self, models):\n",
    "        \n",
    "        self.models = models\n",
    "        \n",
    "    def add_model(self, model):\n",
    "        \n",
    "        self.models.append(model)\n",
    "        \n",
    "    def predicts(self, X):\n",
    "        \n",
    "        z = []\n",
    "        for i in self.models:\n",
    "           \n",
    "            if str(type(xgbr)) == \"<class 'xgboost.sklearn.XGBRegressor'>\":\n",
    "                \n",
    "                z.append(i.predict(pd.DataFrame(X).T))\n",
    "            else:\n",
    "                z.append(i.predict([X]))\n",
    "            \n",
    "        return np.mean(z)\n",
    "    \n",
    "        "
   ]
  },
  {
   "cell_type": "code",
   "execution_count": 80,
   "metadata": {
    "collapsed": true
   },
   "outputs": [],
   "source": [
    "Super = SuperModel(models = [ENet, svr, RF, lasso, xgbr])"
   ]
  },
  {
   "cell_type": "code",
   "execution_count": 81,
   "metadata": {
    "collapsed": true,
    "scrolled": true
   },
   "outputs": [],
   "source": [
    "X_test = pd.DataFrame(X_test)\n",
    "z = []\n",
    "for i in range(len(X_test)):\n",
    "\n",
    "    z.append(Super.predicts(X_test.iloc[i]))\n"
   ]
  },
  {
   "cell_type": "code",
   "execution_count": 82,
   "metadata": {},
   "outputs": [
    {
     "name": "stdout",
     "output_type": "stream",
     "text": [
      "Mean square error test: 0.01495\n"
     ]
    }
   ],
   "source": [
    "print(\"Mean square error test: {:.5f}\".format(mean_squared_error(z, y_test)))\n"
   ]
  },
  {
   "cell_type": "code",
   "execution_count": 88,
   "metadata": {},
   "outputs": [
    {
     "data": {
      "text/plain": [
       "[11.867344318070144,\n",
       " 12.765463250828962,\n",
       " 11.615270942827786,\n",
       " 11.925958529999326,\n",
       " 12.71699785382948,\n",
       " 11.228732656374971,\n",
       " 12.361930577108543,\n",
       " 11.904859398094718,\n",
       " 11.227605804996383,\n",
       " 11.880445458501976,\n",
       " 11.864481883922078,\n",
       " 11.69067975239208,\n",
       " 11.462450259529927,\n",
       " 12.182869189522762,\n",
       " 12.080498817813343,\n",
       " 11.794272378041152,\n",
       " 12.180011082899716,\n",
       " 11.790524764419175,\n",
       " 11.714184393523672,\n",
       " 12.30073609646997,\n",
       " 11.867961115604128,\n",
       " 12.266515526354288,\n",
       " 12.05450562450002,\n",
       " 11.772943658121948,\n",
       " 12.2311404565265,\n",
       " 12.031423496727982,\n",
       " 12.171760753767893,\n",
       " 11.611465054896305,\n",
       " 12.07646183002387,\n",
       " 12.175374167975104,\n",
       " 11.775565094344831,\n",
       " 12.479625142610669,\n",
       " 12.166699326530917,\n",
       " 11.6534386927566,\n",
       " 12.452072267765175,\n",
       " 11.886450794542196,\n",
       " 11.797413476754041,\n",
       " 12.221740610417749,\n",
       " 12.64649724079197,\n",
       " 11.673784852280894,\n",
       " 11.750621515591089,\n",
       " 12.340063223291983,\n",
       " 11.691885099652758,\n",
       " 12.781956621467101,\n",
       " 11.778188802738681,\n",
       " 11.795242765073366,\n",
       " 11.582100336329175,\n",
       " 11.773434184915406,\n",
       " 12.929089383949625,\n",
       " 11.822199119332684,\n",
       " 11.711636437473455,\n",
       " 12.213215491249862,\n",
       " 11.612141799875541,\n",
       " 12.627681250012234,\n",
       " 11.877821125512344,\n",
       " 12.425462158506758,\n",
       " 12.195701934925307,\n",
       " 12.003879946924476,\n",
       " 11.844788936484605,\n",
       " 11.565063111591,\n",
       " 11.28647293453102,\n",
       " 11.939172982099397,\n",
       " 12.588932971180304,\n",
       " 12.57213697398846,\n",
       " 12.56942722852729,\n",
       " 12.238598441674446,\n",
       " 11.621934936838304,\n",
       " 12.615859273912214,\n",
       " 11.58679493410719,\n",
       " 12.016474888316584,\n",
       " 11.665631965354095,\n",
       " 11.781486648816273,\n",
       " 11.623668047862159,\n",
       " 11.329799172946514,\n",
       " 13.008217144113862,\n",
       " 12.051346702959396,\n",
       " 12.64189082482749,\n",
       " 12.601537850254307,\n",
       " 11.827606380408273,\n",
       " 11.686349447121184,\n",
       " 11.562358422414457,\n",
       " 11.294744147608618,\n",
       " 11.694309465014431,\n",
       " 11.554889425321466,\n",
       " 11.983609874629613,\n",
       " 11.809802406900669,\n",
       " 12.473546383300427,\n",
       " 12.187424364032225,\n",
       " 11.831763487946736,\n",
       " 12.108807400224938,\n",
       " 11.908671665083641,\n",
       " 11.904173213794225,\n",
       " 11.68676532730922,\n",
       " 12.36986091258792,\n",
       " 11.644265866019268,\n",
       " 12.084720137136353,\n",
       " 12.149009514491517,\n",
       " 12.070838092411543,\n",
       " 12.271061398462294,\n",
       " 12.458505793460645,\n",
       " 12.061126745656594,\n",
       " 12.264664055150494,\n",
       " 12.436536420442184,\n",
       " 11.852970235336645,\n",
       " 12.140705606744746,\n",
       " 11.990056302405083,\n",
       " 11.938574426888843,\n",
       " 12.515213458495975,\n",
       " 11.868606976663571,\n",
       " 12.221708245040052,\n",
       " 10.763023757599626,\n",
       " 11.709557430607253,\n",
       " 11.868481590767654,\n",
       " 11.793990525498796,\n",
       " 12.22393245049542,\n",
       " 11.600787565481543,\n",
       " 11.562064516607554,\n",
       " 11.563921274041514,\n",
       " 11.772212322599795,\n",
       " 12.537489345498907,\n",
       " 11.827686674955384,\n",
       " 11.832552386738746,\n",
       " 12.091567477100591,\n",
       " 12.17458429297523,\n",
       " 12.111941204486502,\n",
       " 11.794401233514765,\n",
       " 12.345620200257324,\n",
       " 11.575642360295863,\n",
       " 11.867946913609254,\n",
       " 12.154938097612481,\n",
       " 12.171869646113754,\n",
       " 12.723435107753104,\n",
       " 12.195168155161085,\n",
       " 11.708783563508621,\n",
       " 10.871052563824483,\n",
       " 12.78265353133179,\n",
       " 12.743792529211785,\n",
       " 11.841233886764282,\n",
       " 12.392480599077256,\n",
       " 13.16882669428612,\n",
       " 12.72567092839029,\n",
       " 11.80526442094739,\n",
       " 12.063474223859217,\n",
       " 11.980545752603774,\n",
       " 11.874033235894029,\n",
       " 11.716590832777367,\n",
       " 12.38061432877958,\n",
       " 12.168772371943238,\n",
       " 11.770160553763459,\n",
       " 11.078708412739761,\n",
       " 11.660596706009631,\n",
       " 11.849934432090405,\n",
       " 12.267141855497764,\n",
       " 11.884039458413273,\n",
       " 11.344665281685215,\n",
       " 11.757854582942677,\n",
       " 11.7688345954078,\n",
       " 11.902161146167746,\n",
       " 11.340686024068557,\n",
       " 11.825280413427588,\n",
       " 12.195771797039084,\n",
       " 11.861531890426658,\n",
       " 12.607796455553125,\n",
       " 11.903256916282857,\n",
       " 11.629776549695482,\n",
       " 11.599911538487449,\n",
       " 12.37811211773499,\n",
       " 12.658409500421484,\n",
       " 13.01772864557804,\n",
       " 12.403153567127063,\n",
       " 12.796802841842233,\n",
       " 11.339310773082122,\n",
       " 11.628571047702795,\n",
       " 11.895328971108421,\n",
       " 12.627140839334302,\n",
       " 11.730456339957298,\n",
       " 11.730492779075785,\n",
       " 12.30257676334801,\n",
       " 11.771374541279986,\n",
       " 12.033365681292121,\n",
       " 12.095490716539455,\n",
       " 11.460737860686915,\n",
       " 11.796697234568924,\n",
       " 11.81557212847017,\n",
       " 12.45613601976741,\n",
       " 11.874689121003584,\n",
       " 12.509111701752923,\n",
       " 12.293586183847763,\n",
       " 12.201133233682251,\n",
       " 11.37891433628665,\n",
       " 11.639388661576234,\n",
       " 11.622914510242941,\n",
       " 11.85688012678719,\n",
       " 11.777855118645123,\n",
       " 12.180918523397015,\n",
       " 12.036133580242424,\n",
       " 12.209467373004411,\n",
       " 11.426816217147596,\n",
       " 12.196540260782715,\n",
       " 11.759038745926304,\n",
       " 12.348605376547818,\n",
       " 12.169749621078216,\n",
       " 11.711333247245749,\n",
       " 12.657201117247643,\n",
       " 12.169661771069025,\n",
       " 11.751344171223653,\n",
       " 12.392023827997399,\n",
       " 11.849496728450793,\n",
       " 11.896046399338124,\n",
       " 11.60387913920557,\n",
       " 12.307136561958783,\n",
       " 11.84835394307061,\n",
       " 11.66373877961705,\n",
       " 11.997580029516353,\n",
       " 12.303618621712213,\n",
       " 12.52015447516381,\n",
       " 12.142145783340833,\n",
       " 11.873437191835887,\n",
       " 11.743825512983367,\n",
       " 11.802703762611339,\n",
       " 11.801671670018038,\n",
       " 12.276246475109884,\n",
       " 12.161833475352134,\n",
       " 11.480540054605276,\n",
       " 12.310483737462999,\n",
       " 11.900374441384859,\n",
       " 11.455542363285828,\n",
       " 11.497555133123772,\n",
       " 12.027024616525084,\n",
       " 11.562436272361023,\n",
       " 11.563629531058764,\n",
       " 12.082053921943519,\n",
       " 11.650426091047418,\n",
       " 11.801276815273422,\n",
       " 12.341750005473958,\n",
       " 11.92162388735905,\n",
       " 12.188661547798779,\n",
       " 11.970583393322984,\n",
       " 12.388437613316302,\n",
       " 11.80397644603026,\n",
       " 11.647673180133415,\n",
       " 12.358972133774518,\n",
       " 12.257506603288748,\n",
       " 12.948538870436447,\n",
       " 12.165711104823831,\n",
       " 11.718988680478791,\n",
       " 11.863742751418362,\n",
       " 12.076538277853246,\n",
       " 11.846661206364361,\n",
       " 11.516141547661693,\n",
       " 12.084309305179548,\n",
       " 12.001490955991045,\n",
       " 11.87233422903228,\n",
       " 11.41161442535369,\n",
       " 11.81450231541532,\n",
       " 11.846817178440935,\n",
       " 11.575914882035343,\n",
       " 11.620683131114003,\n",
       " 12.090638235474419,\n",
       " 12.48706091374503,\n",
       " 12.58277863998409,\n",
       " 12.04945630841456,\n",
       " 11.784972399015995,\n",
       " 12.381786978673771,\n",
       " 12.656013268000013,\n",
       " 12.274150176525803,\n",
       " 12.026989738196619,\n",
       " 11.851718904559316,\n",
       " 11.625137704007438,\n",
       " 12.034256277393947,\n",
       " 12.921467361696838,\n",
       " 12.302958912180127,\n",
       " 12.358739543475227,\n",
       " 11.510454867841688,\n",
       " 11.487286731051627,\n",
       " 11.856737871752784,\n",
       " 11.801556349766049,\n",
       " 12.635296678353317,\n",
       " 12.312696816990746,\n",
       " 11.817404597463305,\n",
       " 12.257681936129007,\n",
       " 11.34148414293431,\n",
       " 12.185319893291423,\n",
       " 11.621012049405167,\n",
       " 12.629802638780529,\n",
       " 12.078149854704854,\n",
       " 12.308325659570087,\n",
       " 11.681770559519226,\n",
       " 12.542548832618,\n",
       " 12.156598425144931,\n",
       " 11.59090001376594,\n",
       " 11.667136085003033,\n",
       " 11.840131951186914,\n",
       " 12.078232904660565,\n",
       " 11.418555745433057,\n",
       " 11.90184419864375,\n",
       " 11.86029256059995,\n",
       " 11.811962357628147,\n",
       " 12.094243727494366,\n",
       " 11.648042946409934,\n",
       " 12.10922493733882,\n",
       " 12.369675470621456,\n",
       " 11.714576617537722,\n",
       " 11.880496425221184,\n",
       " 12.016549503204477,\n",
       " 12.220530444964357,\n",
       " 11.914968357915395,\n",
       " 12.273053546350592,\n",
       " 12.242297859136329,\n",
       " 11.767523939550722,\n",
       " 11.837181365186089,\n",
       " 12.19457043145174,\n",
       " 11.405082991537359,\n",
       " 12.08465423288755,\n",
       " 11.778798515411742,\n",
       " 12.0718094348686,\n",
       " 12.162341836678738,\n",
       " 12.014141188339185,\n",
       " 12.640403151008764,\n",
       " 11.378064232624986,\n",
       " 12.308739843541725,\n",
       " 11.85990116565159,\n",
       " 11.817322967688114,\n",
       " 11.353209058157264,\n",
       " 12.180393834953506,\n",
       " 11.915624484274598,\n",
       " 11.795819622114172,\n",
       " 12.213782467139932,\n",
       " 12.006878196516979,\n",
       " 11.506658786251554,\n",
       " 11.900720318252358,\n",
       " 11.963406051477454,\n",
       " 11.763235624793602,\n",
       " 12.133218751534898,\n",
       " 11.9663498015732,\n",
       " 11.732882362801263,\n",
       " 11.842923169687435,\n",
       " 11.44163152694099,\n",
       " 11.32662851773567,\n",
       " 12.27346870519222,\n",
       " 12.099068340142427,\n",
       " 11.812980137627807,\n",
       " 11.800689154855444,\n",
       " 12.030226496638756,\n",
       " 12.319619867652142,\n",
       " 12.760495666797784,\n",
       " 12.769569370042129,\n",
       " 11.635598752696819,\n",
       " 12.328364826843835,\n",
       " 11.777020715057892,\n",
       " 12.50825038026484,\n",
       " 12.841812268451488,\n",
       " 12.482205833711324,\n",
       " 12.088468383845605,\n",
       " 12.412029325337809,\n",
       " 11.955116442333935,\n",
       " 11.759439013142694,\n",
       " 11.450351650186416,\n",
       " 12.25047155169987,\n",
       " 12.699800595789057,\n",
       " 12.14013816605867,\n",
       " 11.821609160607476,\n",
       " 12.436924176572205,\n",
       " 12.366711805720257,\n",
       " 11.76018184810522,\n",
       " 12.124618708354857,\n",
       " 12.033055152983717,\n",
       " 11.653399643419059,\n",
       " 11.725195731632661,\n",
       " 11.881216806192041,\n",
       " 11.745327732590898,\n",
       " 12.110526526883243,\n",
       " 11.717722702861517,\n",
       " 12.158132523759491,\n",
       " 12.037797545998563,\n",
       " 11.703671241129358,\n",
       " 12.321607084324043,\n",
       " 12.208228153454417,\n",
       " 11.489154282728673,\n",
       " 12.252096381692194,\n",
       " 11.84645093494429,\n",
       " 12.09398595180328,\n",
       " 12.146692923106277,\n",
       " 11.997611013088646,\n",
       " 11.805556027118062,\n",
       " 12.315923392784805,\n",
       " 11.928713641167116,\n",
       " 11.733731403912103,\n",
       " 12.536774725291526,\n",
       " 12.081416449464527,\n",
       " 11.676368796118032,\n",
       " 11.872813007173345,\n",
       " 11.800716999796283,\n",
       " 12.701628986562687,\n",
       " 11.80476055101855,\n",
       " 12.971063947071082,\n",
       " 11.804699540398769,\n",
       " 12.01266851890657,\n",
       " 12.057924086148967,\n",
       " 11.762127414948718,\n",
       " 12.02031256638138,\n",
       " 12.834316898198358,\n",
       " 11.68465868732024,\n",
       " 11.953821585667281,\n",
       " 11.86669974639151,\n",
       " 11.567186548322638,\n",
       " 12.17190808755143,\n",
       " 11.776645212975845,\n",
       " 12.366287342192678,\n",
       " 12.236744942663872,\n",
       " 12.320880738121375,\n",
       " 12.322965964024698,\n",
       " 11.341718049177477,\n",
       " 12.637058564293747,\n",
       " 11.890462141816192,\n",
       " 12.82966373539316,\n",
       " 11.73786894802854,\n",
       " 12.77570819569146,\n",
       " 12.500113802592784,\n",
       " 11.805208589676543,\n",
       " 12.290353659123642,\n",
       " 12.321497203149116,\n",
       " 12.261922481985357,\n",
       " 12.074808966753011,\n",
       " 12.489963331091566,\n",
       " 11.669560310243797,\n",
       " 12.281876657744238,\n",
       " 12.009871645175313,\n",
       " 12.154383937783496,\n",
       " 12.360150620870007,\n",
       " 11.72212843383231,\n",
       " 11.930843787180843,\n",
       " 12.077536468980878,\n",
       " 11.801550837652687,\n",
       " 11.693983304631473,\n",
       " 12.187203376061186,\n",
       " 11.811339345289085,\n",
       " 13.056332198818694,\n",
       " 12.11745914086189,\n",
       " 11.760654286567306,\n",
       " 12.211385727868514,\n",
       " 12.618782278554665,\n",
       " 12.280069007779161,\n",
       " 11.943351897273349,\n",
       " 12.211856353900442,\n",
       " 11.806716889183003,\n",
       " 12.100148287014985,\n",
       " 12.382113178268593,\n",
       " 11.805709017995135,\n",
       " 11.958616364557505,\n",
       " 11.678270924639836,\n",
       " 12.12278130154034,\n",
       " 12.229582857946614,\n",
       " 11.841553648842446,\n",
       " 11.514545633657288,\n",
       " 12.216948118537683,\n",
       " 12.683810678415588,\n",
       " 12.63735255495936,\n",
       " 12.446889436840632,\n",
       " 12.09997420049501,\n",
       " 11.825404009918381,\n",
       " 11.444721008540668,\n",
       " 12.085215866490485,\n",
       " 12.304934412448215,\n",
       " 12.075376780810759,\n",
       " 12.956945674322151,\n",
       " 12.183244440351476,\n",
       " 12.116465683129324,\n",
       " 11.50671855781374,\n",
       " 12.524547574423284,\n",
       " 11.731108498641591,\n",
       " 11.592931004416588,\n",
       " 11.645566861570963,\n",
       " 11.669703454734769,\n",
       " 12.213986250867016,\n",
       " 12.534239591869113,\n",
       " 11.834654198193292,\n",
       " 11.77836245220834,\n",
       " 11.675367053870138,\n",
       " 12.301244775657231,\n",
       " 11.841582345951736,\n",
       " 12.147259858092692]"
      ]
     },
     "execution_count": 88,
     "metadata": {},
     "output_type": "execute_result"
    }
   ],
   "source": [
    "z"
   ]
  },
  {
   "cell_type": "code",
   "execution_count": 89,
   "metadata": {
    "scrolled": true
   },
   "outputs": [
    {
     "data": {
      "text/plain": [
       "array([11.94795585, 12.69158354, 11.6526961 , 11.97666577, 12.66191713,\n",
       "       11.23190118, 12.64915783, 11.89136875, 11.34451865, 11.8167343 ,\n",
       "       11.88449592, 11.77529742, 11.30221678, 12.27373597, 12.10625784,\n",
       "       11.80932691, 12.1199754 , 11.81303746, 11.68183245, 12.3282947 ,\n",
       "       11.95118685, 12.25486757, 12.06393864, 11.76757544, 12.16525586,\n",
       "       11.94406482, 12.10699789, 11.85652226, 12.10625784, 12.24961573,\n",
       "       11.75195024, 12.55673304, 12.20857451, 11.8185776 , 12.44902275,\n",
       "       11.84940484, 11.83501621, 12.29911207, 12.6443308 , 11.48247657,\n",
       "       11.64833884, 12.23077014, 11.69108002, 12.44230615, 11.76369197,\n",
       "       11.67420212, 11.6526961 , 11.75195024, 13.02132905, 11.87757552,\n",
       "       11.68688718, 12.18587504, 11.6526961 , 12.56724098, 11.88104171,\n",
       "       12.46844076, 12.26905214, 12.07254697, 11.58059346, 11.58525543,\n",
       "       11.13460362, 11.94471437, 12.66666021, 12.48420804, 12.55484041,\n",
       "       12.40082084, 11.59911234, 12.62807033, 11.44572741, 12.07824496,\n",
       "       11.6856932 , 11.80560254, 11.59918573, 11.44572741, 13.32392858,\n",
       "       12.06105265, 12.75996063, 12.73964069, 11.85652226, 11.7352767 ,\n",
       "       11.67844838, 11.11246282, 11.63515195, 11.42191702, 11.91505836,\n",
       "       11.79811193, 12.49125535, 12.15478461, 11.95697647, 11.95655945,\n",
       "       11.94146236, 11.93164238, 11.73206903, 12.61486887, 11.82408722,\n",
       "       12.04350077, 12.23077014, 12.12215285, 12.23028221, 12.46844076,\n",
       "       12.00457439, 12.32341558, 12.4049276 , 11.79056478, 12.17561859,\n",
       "       11.96081768, 11.9576177 , 12.52453001, 11.88449592, 11.81303746,\n",
       "       11.00211651, 11.72804491, 11.75195024, 11.83138647, 12.2713968 ,\n",
       "       11.68688718, 11.58896942, 11.71994776, 11.62626308, 12.55673304,\n",
       "       11.79811193, 11.9117083 , 12.03765991, 12.2404789 , 12.07254697,\n",
       "       11.8277435 , 12.37159132, 11.28352488, 11.87757552, 12.00089793,\n",
       "       12.13296955, 12.82099068, 12.19552218, 11.55215579, 10.47197813,\n",
       "       12.72932375, 12.81392062, 11.77721864, 12.34583894, 13.53447435,\n",
       "       12.90669432, 11.79056478, 12.08954445, 11.82408722, 11.88449592,\n",
       "       11.71994776, 12.4292202 , 12.13940386, 11.804856  , 11.11246282,\n",
       "       11.83138647, 11.95118685, 12.20919277, 11.94666052, 11.41862577,\n",
       "       11.82041752, 11.59873612, 11.84940484, 11.3621142 , 11.786009  ,\n",
       "       12.10016198, 11.87757552, 12.58819406, 11.88104171, 11.68267668,\n",
       "       11.85652226, 12.38422302, 12.52815977, 13.22956979, 12.4065656 ,\n",
       "       12.79386209, 11.54443382, 11.5327379 , 11.92504174, 12.56024797,\n",
       "       11.80882121, 11.63515195, 12.14153946, 11.74006901, 12.08673152,\n",
       "       12.10016198, 10.93299982, 11.79434547, 11.81303746, 12.44902275,\n",
       "       11.84940484, 12.50987779, 12.41543771, 12.2185001 , 11.22525673,\n",
       "       11.71587447, 11.59433032, 11.98293534, 12.04942468, 12.18587504,\n",
       "       12.32386013, 12.19096408, 10.59665973, 12.05815831, 11.95054148,\n",
       "       12.54254845, 12.07254697, 11.89819467, 12.66033109, 12.12811651,\n",
       "       11.8167343 , 12.38631287, 11.84223641, 11.84940484, 11.60824474,\n",
       "       12.32386013, 11.87409728, 11.76718777, 12.05815831, 12.39462889,\n",
       "       12.47801017, 12.17665413, 11.8706069 , 11.77529742, 11.74404512,\n",
       "       11.8671043 , 12.44509348, 12.28995873, 11.10497226, 12.21106516,\n",
       "       11.95118685, 11.13314272, 11.07443601, 12.06105265, 11.54031687,\n",
       "       11.34924115, 12.01733656, 11.69525536, 11.81303746, 12.30138737,\n",
       "       11.94195084, 12.18280914, 11.89819467, 12.5317764 , 11.8706069 ,\n",
       "       11.57025997, 12.39669714, 12.17819258, 12.99175571, 12.12811651,\n",
       "       11.58525543, 12.01370681, 12.07824496, 11.7745279 , 11.6526961 ,\n",
       "       12.16598476, 11.98293534, 11.88449592, 11.3621142 , 11.97035664,\n",
       "       11.75587949, 11.6526961 , 11.69108002, 12.07767662, 12.38839837,\n",
       "       12.88664358, 12.01370681, 11.76135462, 12.52453001, 12.65035133,\n",
       "       12.27373597, 11.94146236, 11.87757552, 11.6526961 , 12.10071769,\n",
       "       13.04979484, 12.10071769, 12.44114872, 11.3504183 , 11.53077521,\n",
       "       11.90834697, 11.83138647, 12.67000161, 11.8706069 , 11.84940484,\n",
       "       12.16785663, 11.42955473, 12.19096408, 11.60368896, 12.60149078,\n",
       "       12.13216235, 12.34583894, 11.40168101, 12.46844076, 12.14950759,\n",
       "       11.58989577, 11.73206903, 11.88449592, 12.08954445, 11.3504183 ,\n",
       "       12.07254697, 11.75195024, 11.91773036, 12.06681633, 11.74006901,\n",
       "       12.07540002, 12.32386013, 11.76757544, 11.9826228 , 11.96400745,\n",
       "       12.23077014, 11.84940484, 12.20607765, 12.28765724, 11.73607702,\n",
       "       11.97980547, 12.12269647, 11.47730865, 12.20607765, 11.9117083 ,\n",
       "       12.09458786, 12.12757583, 12.01188699, 12.7218888 , 11.3794055 ,\n",
       "       12.35952737, 11.91405452, 11.79811193, 11.49273296, 12.24289144,\n",
       "       11.91839724, 11.81229646, 12.1428719 , 11.91505836, 11.66178503,\n",
       "       11.94039991, 12.01370681, 11.77913617, 12.23709155, 11.89136875,\n",
       "       11.74800549, 11.84223641, 11.63515195, 11.27721579, 12.11176746,\n",
       "       12.14420256, 11.76757544, 11.98293534, 12.06681633, 12.29779002,\n",
       "       12.6443308 , 12.83201375, 11.51293546, 12.4292202 , 11.88449592,\n",
       "       12.69158354, 12.84792916, 12.52453001, 12.10071769, 12.41044512,\n",
       "       11.9283475 , 11.80932691, 11.4510607 , 12.28303832, 12.76569129,\n",
       "       12.18075997, 11.69525536, 12.33929587, 12.42118806, 11.72804491,\n",
       "       12.16003394, 12.10625784, 11.56172515, 11.84869031, 11.96972353,\n",
       "       11.77913617, 12.05757844, 11.77529742, 12.08954445, 11.99226661,\n",
       "       11.69442168, 12.38422302, 12.15478461, 11.35511309, 12.23077014,\n",
       "       11.80560254, 12.03172521, 12.12811651, 12.1034916 , 11.93164238,\n",
       "       12.27839796, 11.93819974, 11.57120381, 12.73670384, 11.97666577,\n",
       "       11.69525536, 11.6526961 , 11.75979336, 12.65973727, 11.78296024,\n",
       "       13.0086615 , 11.75587949, 11.95118685, 12.08673152, 11.76369197,\n",
       "       12.07824496, 12.90420986, 11.77529742, 11.88449592, 11.89819467,\n",
       "       11.6526961 , 12.14950759, 11.8706069 , 12.38839837, 12.34583894,\n",
       "       12.15478461, 12.26905214, 11.32056569, 12.52416631, 11.95118685,\n",
       "       12.95512982, 11.76369197, 12.7218888 , 12.4761036 , 11.77144388,\n",
       "       12.31268687, 12.50618094, 12.24289144, 12.07254697, 12.38003015,\n",
       "       11.81968196, 12.3194058 , 12.0435596 , 12.12811651, 12.47991311,\n",
       "       11.04106411, 11.91839724, 12.04942468, 11.84223641, 11.74543304,\n",
       "       12.23539356, 11.60824474, 13.09190623, 12.06681633, 11.88449592,\n",
       "       12.27932775, 12.6760794 , 12.26434627, 12.03469696, 12.14950759,\n",
       "       11.84940484, 12.14153946, 12.44863051, 11.81303746, 11.92504174,\n",
       "       11.63071739, 12.12269647, 12.19096408, 11.99226661, 11.3504183 ,\n",
       "       12.22096618, 12.69158354, 12.65396166, 12.37581964, 12.1034916 ,\n",
       "       11.8277435 , 11.41145736, 11.92437927, 12.27373597, 11.70767777,\n",
       "       13.52114084, 12.15478461, 12.10625784, 11.00211651, 12.38422302,\n",
       "       11.68267668, 11.60368896, 11.60824474, 11.56647571, 12.20557752,\n",
       "       12.51319331, 11.78676974, 11.81303746, 11.68688718, 12.27839796,\n",
       "       11.80186425, 12.03765991])"
      ]
     },
     "execution_count": 89,
     "metadata": {},
     "output_type": "execute_result"
    }
   ],
   "source": [
    "y_test"
   ]
  },
  {
   "cell_type": "markdown",
   "metadata": {},
   "source": [
    "Усереденена модель дає кращу точність за кожну з моделей окремо"
   ]
  },
  {
   "cell_type": "markdown",
   "metadata": {},
   "source": [
    "# 5 Перевірка якості моделі на початкових даних"
   ]
  },
  {
   "cell_type": "code",
   "execution_count": 93,
   "metadata": {},
   "outputs": [
    {
     "name": "stdout",
     "output_type": "stream",
     "text": [
      "Відносна похибка моделі: 0.15225\n"
     ]
    }
   ],
   "source": [
    "print(\"Відносна похибка моделі: {:.5f}\".format((np.sqrt(mean_squared_error(np.expm1(z), np.expm1(y_test))))/np.mean(np.expm1(y_test))))"
   ]
  }
 ],
 "metadata": {
  "kernelspec": {
   "display_name": "Python 3",
   "language": "python",
   "name": "python3"
  },
  "language_info": {
   "codemirror_mode": {
    "name": "ipython",
    "version": 3
   },
   "file_extension": ".py",
   "mimetype": "text/x-python",
   "name": "python",
   "nbconvert_exporter": "python",
   "pygments_lexer": "ipython3",
   "version": "3.6.3"
  }
 },
 "nbformat": 4,
 "nbformat_minor": 2
}
