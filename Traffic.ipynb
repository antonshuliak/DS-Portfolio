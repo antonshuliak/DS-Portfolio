{
 "cells": [
  {
   "cell_type": "markdown",
   "metadata": {},
   "source": [
    "# Підключення основних бібліотек для роботи, завантаження данних, їх очистка та приведення до зручного для обробки вигляду."
   ]
  },
  {
   "cell_type": "code",
   "execution_count": 21,
   "metadata": {
    "collapsed": true
   },
   "outputs": [],
   "source": [
    "import pandas as pd\n",
    "import matplotlib.pyplot as plt\n",
    "import seaborn as sns\n",
    "import os\n",
    "from scipy.stats import linregress\n",
    "plt.style.use('seaborn')\n",
    "%matplotlib inline"
   ]
  },
  {
   "cell_type": "code",
   "execution_count": 22,
   "metadata": {},
   "outputs": [
    {
     "name": "stderr",
     "output_type": "stream",
     "text": [
      "C:\\ProgramData\\Anaconda3\\lib\\site-packages\\pandas\\core\\indexing.py:670: SettingWithCopyWarning: \n",
      "A value is trying to be set on a copy of a slice from a DataFrame\n",
      "\n",
      "See the caveats in the documentation: https://pandas.pydata.org/pandas-docs/stable/user_guide/indexing.html#returning-a-view-versus-a-copy\n",
      "  iloc._setitem_with_indexer(indexer, value)\n"
     ]
    }
   ],
   "source": [
    "data = pd.read_excel('1.xlsx')\n",
    "for i in range(105):\n",
    "    data.Data.loc[i] = ''.join(list(data.Data.loc[i])[-10:])"
   ]
  },
  {
   "cell_type": "code",
   "execution_count": 23,
   "metadata": {
    "collapsed": true
   },
   "outputs": [],
   "source": [
    "usd = pd.read_csv('USD.csv')\n",
    "usd['Дата'] = pd.to_datetime(usd['Дата'])\n",
    "usd = usd.drop(columns = ['Час', 'Код цифровий', 'Код літерний', 'Кількість одиниць'])\n",
    "usd = usd[usd['Назва валюти'] == 'Долар США']\n",
    "usd = usd.set_index(['Дата'])\n",
    "usd = usd.loc['2017-01-03': '2018-12-31']\n",
    "usd['Офіційний курс гривні, грн'] /= 100\n",
    "usdm = usd.groupby(pd.Grouper(freq = '1W')).mean()\n",
    "usdm.index = range(105)"
   ]
  },
  {
   "cell_type": "code",
   "execution_count": 24,
   "metadata": {
    "collapsed": true
   },
   "outputs": [],
   "source": [
    "zp = pd.read_excel('zp.xlsx', sheet_name = 1)\n",
    "zp = zp.drop([0])\n",
    "zp = zp[zp['attributes'] == 'У середньому по економіці']\n",
    "zp = zp[8:16]\n",
    "zp = zp.drop(columns = ['attributes', 'wages2', 'wages3'])"
   ]
  },
  {
   "cell_type": "code",
   "execution_count": 25,
   "metadata": {
    "scrolled": false
   },
   "outputs": [
    {
     "data": {
      "text/html": [
       "<div>\n",
       "<style scoped>\n",
       "    .dataframe tbody tr th:only-of-type {\n",
       "        vertical-align: middle;\n",
       "    }\n",
       "\n",
       "    .dataframe tbody tr th {\n",
       "        vertical-align: top;\n",
       "    }\n",
       "\n",
       "    .dataframe thead th {\n",
       "        text-align: right;\n",
       "    }\n",
       "</style>\n",
       "<table border=\"1\" class=\"dataframe\">\n",
       "  <thead>\n",
       "    <tr style=\"text-align: right;\">\n",
       "      <th></th>\n",
       "      <th>Data</th>\n",
       "      <th>Traffic</th>\n",
       "      <th>Brand Promo</th>\n",
       "      <th>Total Radio Competitors</th>\n",
       "      <th>OOH Total Comp</th>\n",
       "      <th>Киевская</th>\n",
       "      <th>Львовская</th>\n",
       "      <th>Харьковская</th>\n",
       "      <th>Tr</th>\n",
       "      <th>Rekl</th>\n",
       "    </tr>\n",
       "  </thead>\n",
       "  <tbody>\n",
       "    <tr>\n",
       "      <th>0</th>\n",
       "      <td>03.01.2017</td>\n",
       "      <td>354200</td>\n",
       "      <td>0</td>\n",
       "      <td>177.336923</td>\n",
       "      <td>20.733836</td>\n",
       "      <td>39025.0</td>\n",
       "      <td>7591.0</td>\n",
       "      <td>56279.0</td>\n",
       "      <td>331159.0</td>\n",
       "      <td>0.0</td>\n",
       "    </tr>\n",
       "    <tr>\n",
       "      <th>1</th>\n",
       "      <td>10.01.2017</td>\n",
       "      <td>216926</td>\n",
       "      <td>0</td>\n",
       "      <td>171.023077</td>\n",
       "      <td>48.378950</td>\n",
       "      <td>23220.0</td>\n",
       "      <td>5987.0</td>\n",
       "      <td>34753.0</td>\n",
       "      <td>324568.0</td>\n",
       "      <td>0.0</td>\n",
       "    </tr>\n",
       "    <tr>\n",
       "      <th>2</th>\n",
       "      <td>17.01.2017</td>\n",
       "      <td>229382</td>\n",
       "      <td>0</td>\n",
       "      <td>116.202308</td>\n",
       "      <td>48.378950</td>\n",
       "      <td>27272.0</td>\n",
       "      <td>7595.0</td>\n",
       "      <td>37359.0</td>\n",
       "      <td>340623.0</td>\n",
       "      <td>0.0</td>\n",
       "    </tr>\n",
       "    <tr>\n",
       "      <th>3</th>\n",
       "      <td>24.01.2017</td>\n",
       "      <td>213922</td>\n",
       "      <td>0</td>\n",
       "      <td>138.172308</td>\n",
       "      <td>48.378950</td>\n",
       "      <td>25692.0</td>\n",
       "      <td>6762.0</td>\n",
       "      <td>34422.0</td>\n",
       "      <td>327606.0</td>\n",
       "      <td>345.0</td>\n",
       "    </tr>\n",
       "    <tr>\n",
       "      <th>4</th>\n",
       "      <td>31.01.2017</td>\n",
       "      <td>235057</td>\n",
       "      <td>345</td>\n",
       "      <td>318.702308</td>\n",
       "      <td>48.378950</td>\n",
       "      <td>26673.0</td>\n",
       "      <td>7836.0</td>\n",
       "      <td>37019.0</td>\n",
       "      <td>378418.0</td>\n",
       "      <td>765.0</td>\n",
       "    </tr>\n",
       "  </tbody>\n",
       "</table>\n",
       "</div>"
      ],
      "text/plain": [
       "         Data  Traffic  Brand Promo  Total Radio Competitors  OOH Total Comp  \\\n",
       "0  03.01.2017   354200            0               177.336923       20.733836   \n",
       "1  10.01.2017   216926            0               171.023077       48.378950   \n",
       "2  17.01.2017   229382            0               116.202308       48.378950   \n",
       "3  24.01.2017   213922            0               138.172308       48.378950   \n",
       "4  31.01.2017   235057          345               318.702308       48.378950   \n",
       "\n",
       "   Киевская  Львовская  Харьковская        Tr   Rekl  \n",
       "0   39025.0     7591.0      56279.0  331159.0    0.0  \n",
       "1   23220.0     5987.0      34753.0  324568.0    0.0  \n",
       "2   27272.0     7595.0      37359.0  340623.0    0.0  \n",
       "3   25692.0     6762.0      34422.0  327606.0  345.0  \n",
       "4   26673.0     7836.0      37019.0  378418.0  765.0  "
      ]
     },
     "execution_count": 25,
     "metadata": {},
     "output_type": "execute_result"
    }
   ],
   "source": [
    "data.head()"
   ]
  },
  {
   "cell_type": "code",
   "execution_count": null,
   "metadata": {
    "collapsed": true
   },
   "outputs": [],
   "source": []
  },
  {
   "cell_type": "markdown",
   "metadata": {},
   "source": [
    "# Побудова графіків для візуального аналізу данних та пошуку сезонних коливань"
   ]
  },
  {
   "cell_type": "code",
   "execution_count": 26,
   "metadata": {
    "scrolled": false
   },
   "outputs": [
    {
     "data": {
      "text/plain": [
       "([<matplotlib.axis.XTick at 0x1bb8a1c8e80>,\n",
       "  <matplotlib.axis.XTick at 0x1bb8a1c92b0>,\n",
       "  <matplotlib.axis.XTick at 0x1bb8a1ca6d8>,\n",
       "  <matplotlib.axis.XTick at 0x1bb8a20e320>,\n",
       "  <matplotlib.axis.XTick at 0x1bb8a22ffd0>,\n",
       "  <matplotlib.axis.XTick at 0x1bb8a1cf7f0>,\n",
       "  <matplotlib.axis.XTick at 0x1bb8a2212e8>,\n",
       "  <matplotlib.axis.XTick at 0x1bb8a24f828>,\n",
       "  <matplotlib.axis.XTick at 0x1bb8a24ff60>,\n",
       "  <matplotlib.axis.XTick at 0x1bb8a2377f0>,\n",
       "  <matplotlib.axis.XTick at 0x1bb8a2166d8>],\n",
       " [Text(0, 0, '03.01.2017'),\n",
       "  Text(10, 0, '13.03.2017'),\n",
       "  Text(20, 0, '22.05.2017'),\n",
       "  Text(30, 0, '31.07.2017'),\n",
       "  Text(40, 0, '09.10.2017'),\n",
       "  Text(50, 0, '18.12.2017'),\n",
       "  Text(60, 0, '26.02.2018'),\n",
       "  Text(70, 0, '07.05.2018'),\n",
       "  Text(80, 0, '16.07.2018'),\n",
       "  Text(90, 0, '24.09.2018'),\n",
       "  Text(100, 0, '03.12.2018')])"
      ]
     },
     "execution_count": 26,
     "metadata": {},
     "output_type": "execute_result"
    },
    {
     "data": {
      "image/png": "[encoded data removed]",
      "text/plain": [
       "<Figure size 432x288 with 1 Axes>"
      ]
     },
     "metadata": {},
     "output_type": "display_data"
    }
   ],
   "source": [
    "plt.plot(data.Data, data.Traffic / 10000, label = 'Traffic')\n",
    "plt.plot(data.Data, data.Traffic.rolling(window=4).mean() / 10000, 'r', label = 'Moving Average')\n",
    "plt.ylabel('Traffic, $10^5$')\n",
    "plt.xlabel('Date')\n",
    "plt.legend()\n",
    "plt.xticks(range(len(data.Data))[::10],data.Data[::10], rotation = 45)\n",
    "#plt.savefig('Traffic.png', dpi = 1000)"
   ]
  },
  {
   "cell_type": "code",
   "execution_count": 27,
   "metadata": {
    "scrolled": false
   },
   "outputs": [
    {
     "data": {
      "text/plain": [
       "([<matplotlib.axis.XTick at 0x1bb8a142a90>,\n",
       "  <matplotlib.axis.XTick at 0x1bb8a142470>,\n",
       "  <matplotlib.axis.XTick at 0x1bb89e9bac8>,\n",
       "  <matplotlib.axis.XTick at 0x1bb89f2acc0>,\n",
       "  <matplotlib.axis.XTick at 0x1bb89f2a710>,\n",
       "  <matplotlib.axis.XTick at 0x1bb8b2f83c8>,\n",
       "  <matplotlib.axis.XTick at 0x1bb8b2f8860>,\n",
       "  <matplotlib.axis.XTick at 0x1bb8b2f8cf8>,\n",
       "  <matplotlib.axis.XTick at 0x1bb8b3011d0>,\n",
       "  <matplotlib.axis.XTick at 0x1bb8b301668>,\n",
       "  <matplotlib.axis.XTick at 0x1bb8b301b00>],\n",
       " [Text(0, 0, '03.01.2017'),\n",
       "  Text(10, 0, '13.03.2017'),\n",
       "  Text(20, 0, '22.05.2017'),\n",
       "  Text(30, 0, '31.07.2017'),\n",
       "  Text(40, 0, '09.10.2017'),\n",
       "  Text(50, 0, '18.12.2017'),\n",
       "  Text(60, 0, '26.02.2018'),\n",
       "  Text(70, 0, '07.05.2018'),\n",
       "  Text(80, 0, '16.07.2018'),\n",
       "  Text(90, 0, '24.09.2018'),\n",
       "  Text(100, 0, '03.12.2018')])"
      ]
     },
     "execution_count": 27,
     "metadata": {},
     "output_type": "execute_result"
    },
    {
     "data": {
      "image/png": "[encoded data removed]",
      "text/plain": [
       "<Figure size 432x288 with 1 Axes>"
      ]
     },
     "metadata": {},
     "output_type": "display_data"
    }
   ],
   "source": [
    "i = 'Львовская'\n",
    "plt.plot(data.Data, data[i] / 10000)\n",
    "plt.ylabel('Traffic, $10^5$')\n",
    "plt.xlabel('Date')\n",
    "plt.xticks(range(len(data.Data))[::10],data.Data[::10], rotation = 45)\n",
    "#plt.savefig(i + '.png', dpi = 1000)"
   ]
  },
  {
   "cell_type": "markdown",
   "metadata": {},
   "source": [
    "# Пошук статистичної залежності між швидкістю приросту трафіку в магазинах від кількості та місця розміщення реклами"
   ]
  },
  {
   "cell_type": "code",
   "execution_count": 28,
   "metadata": {
    "collapsed": true
   },
   "outputs": [],
   "source": [
    "data['T'] = (data['Traffic'].shift(3) +data['Traffic'].shift(2) + data['Traffic'].shift(1))/3   - data['Traffic']\n",
    "data['R'] = (data['Total Radio Competitors'].shift(1)  - data['Total Radio Competitors'])\n",
    "data['O'] = (data['OOH Total Comp'].shift(1)  - data['OOH Total Comp'])\n",
    "data['USD'] = usdm\n",
    "data['U'] = (data['USD'].shift(1)  - data['USD'])\n",
    "data['S'] = data['O'] + data['R']\n",
    "data['Data'] = pd.to_datetime(data['Data'])\n",
    "#data = data.set_index(['Data'])\n",
    "\n"
   ]
  },
  {
   "cell_type": "code",
   "execution_count": 29,
   "metadata": {},
   "outputs": [
    {
     "name": "stdout",
     "output_type": "stream",
     "text": [
      "LinregressResult(slope=-0.00011877827319491583, intercept=-1.3388681150867985, rvalue=-0.2725397889317962, pvalue=0.005828102674444215, stderr=4.214342249179277e-05)\n"
     ]
    }
   ],
   "source": [
    "df = data.drop(columns = ['Киевская','Львовская','Харьковская'])\n",
    "print(linregress(df['T'][3:104], df['O'][3:104]))"
   ]
  },
  {
   "cell_type": "code",
   "execution_count": 30,
   "metadata": {},
   "outputs": [
    {
     "data": {
      "image/png": "[encoded data removed]",
      "text/plain": [
       "<Figure size 432x288 with 2 Axes>"
      ]
     },
     "metadata": {},
     "output_type": "display_data"
    }
   ],
   "source": [
    "sns.heatmap(df[['T', 'R', 'O']].corr().apply(abs))\n",
    "plt.savefig('TRO.png')"
   ]
  },
  {
   "cell_type": "markdown",
   "metadata": {},
   "source": [
    "# Більш детальне дослідження однієї з рекламних кампаній"
   ]
  },
  {
   "cell_type": "code",
   "execution_count": 23,
   "metadata": {
    "collapsed": true
   },
   "outputs": [],
   "source": [
    "from scipy.stats import ttest_rel"
   ]
  },
  {
   "cell_type": "code",
   "execution_count": 24,
   "metadata": {
    "collapsed": true
   },
   "outputs": [],
   "source": [
    "Re = pd.read_excel('1.xlsx')[['Tr', 'Rekl']]"
   ]
  },
  {
   "cell_type": "code",
   "execution_count": 25,
   "metadata": {},
   "outputs": [
    {
     "data": {
      "text/html": [
       "<div>\n",
       "<style scoped>\n",
       "    .dataframe tbody tr th:only-of-type {\n",
       "        vertical-align: middle;\n",
       "    }\n",
       "\n",
       "    .dataframe tbody tr th {\n",
       "        vertical-align: top;\n",
       "    }\n",
       "\n",
       "    .dataframe thead th {\n",
       "        text-align: right;\n",
       "    }\n",
       "</style>\n",
       "<table border=\"1\" class=\"dataframe\">\n",
       "  <thead>\n",
       "    <tr style=\"text-align: right;\">\n",
       "      <th></th>\n",
       "      <th>Tr</th>\n",
       "      <th>Rekl</th>\n",
       "    </tr>\n",
       "  </thead>\n",
       "  <tbody>\n",
       "    <tr>\n",
       "      <th>0</th>\n",
       "      <td>331159.0</td>\n",
       "      <td>0.0</td>\n",
       "    </tr>\n",
       "    <tr>\n",
       "      <th>1</th>\n",
       "      <td>324568.0</td>\n",
       "      <td>0.0</td>\n",
       "    </tr>\n",
       "    <tr>\n",
       "      <th>2</th>\n",
       "      <td>340623.0</td>\n",
       "      <td>0.0</td>\n",
       "    </tr>\n",
       "    <tr>\n",
       "      <th>3</th>\n",
       "      <td>327606.0</td>\n",
       "      <td>345.0</td>\n",
       "    </tr>\n",
       "    <tr>\n",
       "      <th>4</th>\n",
       "      <td>378418.0</td>\n",
       "      <td>765.0</td>\n",
       "    </tr>\n",
       "    <tr>\n",
       "      <th>...</th>\n",
       "      <td>...</td>\n",
       "      <td>...</td>\n",
       "    </tr>\n",
       "    <tr>\n",
       "      <th>100</th>\n",
       "      <td>NaN</td>\n",
       "      <td>NaN</td>\n",
       "    </tr>\n",
       "    <tr>\n",
       "      <th>101</th>\n",
       "      <td>NaN</td>\n",
       "      <td>NaN</td>\n",
       "    </tr>\n",
       "    <tr>\n",
       "      <th>102</th>\n",
       "      <td>NaN</td>\n",
       "      <td>NaN</td>\n",
       "    </tr>\n",
       "    <tr>\n",
       "      <th>103</th>\n",
       "      <td>NaN</td>\n",
       "      <td>NaN</td>\n",
       "    </tr>\n",
       "    <tr>\n",
       "      <th>104</th>\n",
       "      <td>NaN</td>\n",
       "      <td>NaN</td>\n",
       "    </tr>\n",
       "  </tbody>\n",
       "</table>\n",
       "<p>105 rows × 2 columns</p>\n",
       "</div>"
      ],
      "text/plain": [
       "           Tr   Rekl\n",
       "0    331159.0    0.0\n",
       "1    324568.0    0.0\n",
       "2    340623.0    0.0\n",
       "3    327606.0  345.0\n",
       "4    378418.0  765.0\n",
       "..        ...    ...\n",
       "100       NaN    NaN\n",
       "101       NaN    NaN\n",
       "102       NaN    NaN\n",
       "103       NaN    NaN\n",
       "104       NaN    NaN\n",
       "\n",
       "[105 rows x 2 columns]"
      ]
     },
     "execution_count": 25,
     "metadata": {},
     "output_type": "execute_result"
    }
   ],
   "source": [
    "Re"
   ]
  },
  {
   "cell_type": "code",
   "execution_count": 26,
   "metadata": {},
   "outputs": [
    {
     "name": "stdout",
     "output_type": "stream",
     "text": [
      "2    340623.0\n",
      "3    327606.0\n",
      "4    378418.0\n",
      "Name: Tr, dtype: float64\n",
      "5    333238.0\n",
      "6    379098.0\n",
      "7    337208.0\n",
      "Name: Tr, dtype: float64\n"
     ]
    }
   ],
   "source": [
    "print(Re.Tr[2:5])\n",
    "print(Re.Tr[5:8])"
   ]
  },
  {
   "cell_type": "code",
   "execution_count": 27,
   "metadata": {},
   "outputs": [
    {
     "name": "stdout",
     "output_type": "stream",
     "text": [
      "p = 0.079\n"
     ]
    }
   ],
   "source": [
    "stat, p = ttest_rel(Re.Tr[0:4], Re.Tr[4:8])\n",
    "print('p = %.3f' % (p))"
   ]
  },
  {
   "cell_type": "code",
   "execution_count": 28,
   "metadata": {},
   "outputs": [
    {
     "data": {
      "image/png": "[encoded data removed]",
      "text/plain": [
       "<Figure size 576x396 with 1 Axes>"
      ]
     },
     "metadata": {},
     "output_type": "display_data"
    }
   ],
   "source": [
    "plt.hist(Re.Tr[0:4], width = 1300, label = 'Before')\n",
    "plt.hist(Re.Tr[4:8], width = 1300, label = 'After')\n",
    "plt.axvline(Re.Tr[0:4].mean(), color='r', linestyle='dashed', linewidth=1, label = 'Avr before')\n",
    "plt.axvline(Re.Tr[4:8].mean(), color='y', linestyle='dashed', linewidth=1, label = 'Avr after')\n",
    "plt.legend(loc = 'upper left', fontsize = 12)\n",
    "plt.savefig('mid.png')"
   ]
  },
  {
   "cell_type": "code",
   "execution_count": null,
   "metadata": {
    "collapsed": true
   },
   "outputs": [],
   "source": []
  }
 ],
 "metadata": {
  "kernelspec": {
   "display_name": "Python 3",
   "language": "python",
   "name": "python3"
  },
  "language_info": {
   "codemirror_mode": {
    "name": "ipython",
    "version": 3
   },
   "file_extension": ".py",
   "mimetype": "text/x-python",
   "name": "python",
   "nbconvert_exporter": "python",
   "pygments_lexer": "ipython3",
   "version": "3.6.3"
  }
 },
 "nbformat": 4,
 "nbformat_minor": 4
}
