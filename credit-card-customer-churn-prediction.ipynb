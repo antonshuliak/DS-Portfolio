{
 "cells": [
  {
   "cell_type": "markdown",
   "metadata": {
    "papermill": {
     "duration": 0.041541,
     "end_time": "2021-02-12T12:39:26.516267",
     "exception": false,
     "start_time": "2021-02-12T12:39:26.474726",
     "status": "completed"
    },
    "tags": []
   },
   "source": [
    "<center> <img src='https://thecreditpros.com/wp-content/uploads/2017/05/Credit-Offers-1.jpg'> </center>"
   ]
  },
  {
   "cell_type": "code",
   "execution_count": 1,
   "metadata": {
    "_cell_guid": "b1076dfc-b9ad-4769-8c92-a6c4dae69d19",
    "_uuid": "8f2839f25d086af736a60e9eeb907d3b93b6e0e5",
    "execution": {
     "iopub.execute_input": "2021-02-12T12:39:26.600805Z",
     "iopub.status.busy": "2021-02-12T12:39:26.600064Z",
     "iopub.status.idle": "2021-02-12T12:39:26.613867Z",
     "shell.execute_reply": "2021-02-12T12:39:26.612525Z"
    },
    "papermill": {
     "duration": 0.059252,
     "end_time": "2021-02-12T12:39:26.614239",
     "exception": false,
     "start_time": "2021-02-12T12:39:26.554987",
     "status": "completed"
    },
    "tags": []
   },
   "outputs": [
    {
     "name": "stdout",
     "output_type": "stream",
     "text": [
      "/kaggle/input/credit-card-customers/BankChurners.csv\n"
     ]
    }
   ],
   "source": [
    "# This Python 3 environment comes with many helpful analytics libraries installed\n",
    "# It is defined by the kaggle/python Docker image: https://github.com/kaggle/docker-python\n",
    "# For example, here's several helpful packages to load\n",
    "\n",
    "import numpy as np # linear algebra\n",
    "import pandas as pd # data processing, CSV file I/O (e.g. pd.read_csv)\n",
    "\n",
    "# Input data files are available in the read-only \"../input/\" directory\n",
    "# For example, running this (by clicking run or pressing Shift+Enter) will list all files under the input directory\n",
    "\n",
    "import os\n",
    "for dirname, _, filenames in os.walk('/kaggle/input'):\n",
    "    for filename in filenames:\n",
    "        print(os.path.join(dirname, filename))\n",
    "\n",
    "# You can write up to 20GB to the current directory (/kaggle/working/) that gets preserved as output when you create a version using \"Save & Run All\" \n",
    "# You can also write temporary files to /kaggle/temp/, but they won't be saved outside of the current session"
   ]
  },
  {
   "cell_type": "markdown",
   "metadata": {
    "papermill": {
     "duration": 0.038007,
     "end_time": "2021-02-12T12:39:26.692229",
     "exception": false,
     "start_time": "2021-02-12T12:39:26.654222",
     "status": "completed"
    },
    "tags": []
   },
   "source": [
    "# 1.Importing Necessary Libraries"
   ]
  },
  {
   "cell_type": "code",
   "execution_count": 2,
   "metadata": {
    "collapsed": true,
    "execution": {
     "iopub.execute_input": "2021-02-12T12:39:26.776306Z",
     "iopub.status.busy": "2021-02-12T12:39:26.775542Z",
     "iopub.status.idle": "2021-02-12T12:39:27.600872Z",
     "shell.execute_reply": "2021-02-12T12:39:27.600187Z"
    },
    "papermill": {
     "duration": 0.870242,
     "end_time": "2021-02-12T12:39:27.601036",
     "exception": false,
     "start_time": "2021-02-12T12:39:26.730794",
     "status": "completed"
    },
    "tags": []
   },
   "outputs": [],
   "source": [
    "import pandas as pd\n",
    "import numpy as np\n",
    "import seaborn as sns\n",
    "import matplotlib.pyplot as plt"
   ]
  },
  {
   "cell_type": "code",
   "execution_count": 3,
   "metadata": {
    "collapsed": true,
    "execution": {
     "iopub.execute_input": "2021-02-12T12:39:27.686143Z",
     "iopub.status.busy": "2021-02-12T12:39:27.685419Z",
     "iopub.status.idle": "2021-02-12T12:39:27.756738Z",
     "shell.execute_reply": "2021-02-12T12:39:27.756173Z"
    },
    "papermill": {
     "duration": 0.115853,
     "end_time": "2021-02-12T12:39:27.756956",
     "exception": false,
     "start_time": "2021-02-12T12:39:27.641103",
     "status": "completed"
    },
    "tags": []
   },
   "outputs": [],
   "source": [
    "df=pd.read_csv(r'/kaggle/input/credit-card-customers/BankChurners.csv')"
   ]
  },
  {
   "cell_type": "code",
   "execution_count": 4,
   "metadata": {
    "execution": {
     "iopub.execute_input": "2021-02-12T12:39:27.854011Z",
     "iopub.status.busy": "2021-02-12T12:39:27.853005Z",
     "iopub.status.idle": "2021-02-12T12:39:27.890088Z",
     "shell.execute_reply": "2021-02-12T12:39:27.889450Z"
    },
    "papermill": {
     "duration": 0.094782,
     "end_time": "2021-02-12T12:39:27.890236",
     "exception": false,
     "start_time": "2021-02-12T12:39:27.795454",
     "status": "completed"
    },
    "tags": []
   },
   "outputs": [
    {
     "data": {
      "text/html": [
       "<div>\n",
       "<style scoped>\n",
       "    .dataframe tbody tr th:only-of-type {\n",
       "        vertical-align: middle;\n",
       "    }\n",
       "\n",
       "    .dataframe tbody tr th {\n",
       "        vertical-align: top;\n",
       "    }\n",
       "\n",
       "    .dataframe thead th {\n",
       "        text-align: right;\n",
       "    }\n",
       "</style>\n",
       "<table border=\"1\" class=\"dataframe\">\n",
       "  <thead>\n",
       "    <tr style=\"text-align: right;\">\n",
       "      <th></th>\n",
       "      <th>CLIENTNUM</th>\n",
       "      <th>Attrition_Flag</th>\n",
       "      <th>Customer_Age</th>\n",
       "      <th>Gender</th>\n",
       "      <th>Dependent_count</th>\n",
       "      <th>Education_Level</th>\n",
       "      <th>Marital_Status</th>\n",
       "      <th>Income_Category</th>\n",
       "      <th>Card_Category</th>\n",
       "      <th>Months_on_book</th>\n",
       "      <th>...</th>\n",
       "      <th>Credit_Limit</th>\n",
       "      <th>Total_Revolving_Bal</th>\n",
       "      <th>Avg_Open_To_Buy</th>\n",
       "      <th>Total_Amt_Chng_Q4_Q1</th>\n",
       "      <th>Total_Trans_Amt</th>\n",
       "      <th>Total_Trans_Ct</th>\n",
       "      <th>Total_Ct_Chng_Q4_Q1</th>\n",
       "      <th>Avg_Utilization_Ratio</th>\n",
       "      <th>Naive_Bayes_Classifier_Attrition_Flag_Card_Category_Contacts_Count_12_mon_Dependent_count_Education_Level_Months_Inactive_12_mon_1</th>\n",
       "      <th>Naive_Bayes_Classifier_Attrition_Flag_Card_Category_Contacts_Count_12_mon_Dependent_count_Education_Level_Months_Inactive_12_mon_2</th>\n",
       "    </tr>\n",
       "  </thead>\n",
       "  <tbody>\n",
       "    <tr>\n",
       "      <th>0</th>\n",
       "      <td>768805383</td>\n",
       "      <td>Existing Customer</td>\n",
       "      <td>45</td>\n",
       "      <td>M</td>\n",
       "      <td>3</td>\n",
       "      <td>High School</td>\n",
       "      <td>Married</td>\n",
       "      <td>$60K - $80K</td>\n",
       "      <td>Blue</td>\n",
       "      <td>39</td>\n",
       "      <td>...</td>\n",
       "      <td>12691.0</td>\n",
       "      <td>777</td>\n",
       "      <td>11914.0</td>\n",
       "      <td>1.335</td>\n",
       "      <td>1144</td>\n",
       "      <td>42</td>\n",
       "      <td>1.625</td>\n",
       "      <td>0.061</td>\n",
       "      <td>0.000093</td>\n",
       "      <td>0.99991</td>\n",
       "    </tr>\n",
       "    <tr>\n",
       "      <th>1</th>\n",
       "      <td>818770008</td>\n",
       "      <td>Existing Customer</td>\n",
       "      <td>49</td>\n",
       "      <td>F</td>\n",
       "      <td>5</td>\n",
       "      <td>Graduate</td>\n",
       "      <td>Single</td>\n",
       "      <td>Less than $40K</td>\n",
       "      <td>Blue</td>\n",
       "      <td>44</td>\n",
       "      <td>...</td>\n",
       "      <td>8256.0</td>\n",
       "      <td>864</td>\n",
       "      <td>7392.0</td>\n",
       "      <td>1.541</td>\n",
       "      <td>1291</td>\n",
       "      <td>33</td>\n",
       "      <td>3.714</td>\n",
       "      <td>0.105</td>\n",
       "      <td>0.000057</td>\n",
       "      <td>0.99994</td>\n",
       "    </tr>\n",
       "    <tr>\n",
       "      <th>2</th>\n",
       "      <td>713982108</td>\n",
       "      <td>Existing Customer</td>\n",
       "      <td>51</td>\n",
       "      <td>M</td>\n",
       "      <td>3</td>\n",
       "      <td>Graduate</td>\n",
       "      <td>Married</td>\n",
       "      <td>$80K - $120K</td>\n",
       "      <td>Blue</td>\n",
       "      <td>36</td>\n",
       "      <td>...</td>\n",
       "      <td>3418.0</td>\n",
       "      <td>0</td>\n",
       "      <td>3418.0</td>\n",
       "      <td>2.594</td>\n",
       "      <td>1887</td>\n",
       "      <td>20</td>\n",
       "      <td>2.333</td>\n",
       "      <td>0.000</td>\n",
       "      <td>0.000021</td>\n",
       "      <td>0.99998</td>\n",
       "    </tr>\n",
       "    <tr>\n",
       "      <th>3</th>\n",
       "      <td>769911858</td>\n",
       "      <td>Existing Customer</td>\n",
       "      <td>40</td>\n",
       "      <td>F</td>\n",
       "      <td>4</td>\n",
       "      <td>High School</td>\n",
       "      <td>Unknown</td>\n",
       "      <td>Less than $40K</td>\n",
       "      <td>Blue</td>\n",
       "      <td>34</td>\n",
       "      <td>...</td>\n",
       "      <td>3313.0</td>\n",
       "      <td>2517</td>\n",
       "      <td>796.0</td>\n",
       "      <td>1.405</td>\n",
       "      <td>1171</td>\n",
       "      <td>20</td>\n",
       "      <td>2.333</td>\n",
       "      <td>0.760</td>\n",
       "      <td>0.000134</td>\n",
       "      <td>0.99987</td>\n",
       "    </tr>\n",
       "    <tr>\n",
       "      <th>4</th>\n",
       "      <td>709106358</td>\n",
       "      <td>Existing Customer</td>\n",
       "      <td>40</td>\n",
       "      <td>M</td>\n",
       "      <td>3</td>\n",
       "      <td>Uneducated</td>\n",
       "      <td>Married</td>\n",
       "      <td>$60K - $80K</td>\n",
       "      <td>Blue</td>\n",
       "      <td>21</td>\n",
       "      <td>...</td>\n",
       "      <td>4716.0</td>\n",
       "      <td>0</td>\n",
       "      <td>4716.0</td>\n",
       "      <td>2.175</td>\n",
       "      <td>816</td>\n",
       "      <td>28</td>\n",
       "      <td>2.500</td>\n",
       "      <td>0.000</td>\n",
       "      <td>0.000022</td>\n",
       "      <td>0.99998</td>\n",
       "    </tr>\n",
       "    <tr>\n",
       "      <th>5</th>\n",
       "      <td>713061558</td>\n",
       "      <td>Existing Customer</td>\n",
       "      <td>44</td>\n",
       "      <td>M</td>\n",
       "      <td>2</td>\n",
       "      <td>Graduate</td>\n",
       "      <td>Married</td>\n",
       "      <td>$40K - $60K</td>\n",
       "      <td>Blue</td>\n",
       "      <td>36</td>\n",
       "      <td>...</td>\n",
       "      <td>4010.0</td>\n",
       "      <td>1247</td>\n",
       "      <td>2763.0</td>\n",
       "      <td>1.376</td>\n",
       "      <td>1088</td>\n",
       "      <td>24</td>\n",
       "      <td>0.846</td>\n",
       "      <td>0.311</td>\n",
       "      <td>0.000055</td>\n",
       "      <td>0.99994</td>\n",
       "    </tr>\n",
       "    <tr>\n",
       "      <th>6</th>\n",
       "      <td>810347208</td>\n",
       "      <td>Existing Customer</td>\n",
       "      <td>51</td>\n",
       "      <td>M</td>\n",
       "      <td>4</td>\n",
       "      <td>Unknown</td>\n",
       "      <td>Married</td>\n",
       "      <td>$120K +</td>\n",
       "      <td>Gold</td>\n",
       "      <td>46</td>\n",
       "      <td>...</td>\n",
       "      <td>34516.0</td>\n",
       "      <td>2264</td>\n",
       "      <td>32252.0</td>\n",
       "      <td>1.975</td>\n",
       "      <td>1330</td>\n",
       "      <td>31</td>\n",
       "      <td>0.722</td>\n",
       "      <td>0.066</td>\n",
       "      <td>0.000123</td>\n",
       "      <td>0.99988</td>\n",
       "    </tr>\n",
       "    <tr>\n",
       "      <th>7</th>\n",
       "      <td>818906208</td>\n",
       "      <td>Existing Customer</td>\n",
       "      <td>32</td>\n",
       "      <td>M</td>\n",
       "      <td>0</td>\n",
       "      <td>High School</td>\n",
       "      <td>Unknown</td>\n",
       "      <td>$60K - $80K</td>\n",
       "      <td>Silver</td>\n",
       "      <td>27</td>\n",
       "      <td>...</td>\n",
       "      <td>29081.0</td>\n",
       "      <td>1396</td>\n",
       "      <td>27685.0</td>\n",
       "      <td>2.204</td>\n",
       "      <td>1538</td>\n",
       "      <td>36</td>\n",
       "      <td>0.714</td>\n",
       "      <td>0.048</td>\n",
       "      <td>0.000086</td>\n",
       "      <td>0.99991</td>\n",
       "    </tr>\n",
       "    <tr>\n",
       "      <th>8</th>\n",
       "      <td>710930508</td>\n",
       "      <td>Existing Customer</td>\n",
       "      <td>37</td>\n",
       "      <td>M</td>\n",
       "      <td>3</td>\n",
       "      <td>Uneducated</td>\n",
       "      <td>Single</td>\n",
       "      <td>$60K - $80K</td>\n",
       "      <td>Blue</td>\n",
       "      <td>36</td>\n",
       "      <td>...</td>\n",
       "      <td>22352.0</td>\n",
       "      <td>2517</td>\n",
       "      <td>19835.0</td>\n",
       "      <td>3.355</td>\n",
       "      <td>1350</td>\n",
       "      <td>24</td>\n",
       "      <td>1.182</td>\n",
       "      <td>0.113</td>\n",
       "      <td>0.000045</td>\n",
       "      <td>0.99996</td>\n",
       "    </tr>\n",
       "    <tr>\n",
       "      <th>9</th>\n",
       "      <td>719661558</td>\n",
       "      <td>Existing Customer</td>\n",
       "      <td>48</td>\n",
       "      <td>M</td>\n",
       "      <td>2</td>\n",
       "      <td>Graduate</td>\n",
       "      <td>Single</td>\n",
       "      <td>$80K - $120K</td>\n",
       "      <td>Blue</td>\n",
       "      <td>36</td>\n",
       "      <td>...</td>\n",
       "      <td>11656.0</td>\n",
       "      <td>1677</td>\n",
       "      <td>9979.0</td>\n",
       "      <td>1.524</td>\n",
       "      <td>1441</td>\n",
       "      <td>32</td>\n",
       "      <td>0.882</td>\n",
       "      <td>0.144</td>\n",
       "      <td>0.000303</td>\n",
       "      <td>0.99970</td>\n",
       "    </tr>\n",
       "  </tbody>\n",
       "</table>\n",
       "<p>10 rows × 23 columns</p>\n",
       "</div>"
      ],
      "text/plain": [
       "   CLIENTNUM     Attrition_Flag  Customer_Age Gender  Dependent_count  \\\n",
       "0  768805383  Existing Customer            45      M                3   \n",
       "1  818770008  Existing Customer            49      F                5   \n",
       "2  713982108  Existing Customer            51      M                3   \n",
       "3  769911858  Existing Customer            40      F                4   \n",
       "4  709106358  Existing Customer            40      M                3   \n",
       "5  713061558  Existing Customer            44      M                2   \n",
       "6  810347208  Existing Customer            51      M                4   \n",
       "7  818906208  Existing Customer            32      M                0   \n",
       "8  710930508  Existing Customer            37      M                3   \n",
       "9  719661558  Existing Customer            48      M                2   \n",
       "\n",
       "  Education_Level Marital_Status Income_Category Card_Category  \\\n",
       "0     High School        Married     $60K - $80K          Blue   \n",
       "1        Graduate         Single  Less than $40K          Blue   \n",
       "2        Graduate        Married    $80K - $120K          Blue   \n",
       "3     High School        Unknown  Less than $40K          Blue   \n",
       "4      Uneducated        Married     $60K - $80K          Blue   \n",
       "5        Graduate        Married     $40K - $60K          Blue   \n",
       "6         Unknown        Married         $120K +          Gold   \n",
       "7     High School        Unknown     $60K - $80K        Silver   \n",
       "8      Uneducated         Single     $60K - $80K          Blue   \n",
       "9        Graduate         Single    $80K - $120K          Blue   \n",
       "\n",
       "   Months_on_book  ...  Credit_Limit  Total_Revolving_Bal  Avg_Open_To_Buy  \\\n",
       "0              39  ...       12691.0                  777          11914.0   \n",
       "1              44  ...        8256.0                  864           7392.0   \n",
       "2              36  ...        3418.0                    0           3418.0   \n",
       "3              34  ...        3313.0                 2517            796.0   \n",
       "4              21  ...        4716.0                    0           4716.0   \n",
       "5              36  ...        4010.0                 1247           2763.0   \n",
       "6              46  ...       34516.0                 2264          32252.0   \n",
       "7              27  ...       29081.0                 1396          27685.0   \n",
       "8              36  ...       22352.0                 2517          19835.0   \n",
       "9              36  ...       11656.0                 1677           9979.0   \n",
       "\n",
       "   Total_Amt_Chng_Q4_Q1  Total_Trans_Amt  Total_Trans_Ct  Total_Ct_Chng_Q4_Q1  \\\n",
       "0                 1.335             1144              42                1.625   \n",
       "1                 1.541             1291              33                3.714   \n",
       "2                 2.594             1887              20                2.333   \n",
       "3                 1.405             1171              20                2.333   \n",
       "4                 2.175              816              28                2.500   \n",
       "5                 1.376             1088              24                0.846   \n",
       "6                 1.975             1330              31                0.722   \n",
       "7                 2.204             1538              36                0.714   \n",
       "8                 3.355             1350              24                1.182   \n",
       "9                 1.524             1441              32                0.882   \n",
       "\n",
       "   Avg_Utilization_Ratio  \\\n",
       "0                  0.061   \n",
       "1                  0.105   \n",
       "2                  0.000   \n",
       "3                  0.760   \n",
       "4                  0.000   \n",
       "5                  0.311   \n",
       "6                  0.066   \n",
       "7                  0.048   \n",
       "8                  0.113   \n",
       "9                  0.144   \n",
       "\n",
       "   Naive_Bayes_Classifier_Attrition_Flag_Card_Category_Contacts_Count_12_mon_Dependent_count_Education_Level_Months_Inactive_12_mon_1  \\\n",
       "0                                           0.000093                                                                                    \n",
       "1                                           0.000057                                                                                    \n",
       "2                                           0.000021                                                                                    \n",
       "3                                           0.000134                                                                                    \n",
       "4                                           0.000022                                                                                    \n",
       "5                                           0.000055                                                                                    \n",
       "6                                           0.000123                                                                                    \n",
       "7                                           0.000086                                                                                    \n",
       "8                                           0.000045                                                                                    \n",
       "9                                           0.000303                                                                                    \n",
       "\n",
       "   Naive_Bayes_Classifier_Attrition_Flag_Card_Category_Contacts_Count_12_mon_Dependent_count_Education_Level_Months_Inactive_12_mon_2  \n",
       "0                                            0.99991                                                                                   \n",
       "1                                            0.99994                                                                                   \n",
       "2                                            0.99998                                                                                   \n",
       "3                                            0.99987                                                                                   \n",
       "4                                            0.99998                                                                                   \n",
       "5                                            0.99994                                                                                   \n",
       "6                                            0.99988                                                                                   \n",
       "7                                            0.99991                                                                                   \n",
       "8                                            0.99996                                                                                   \n",
       "9                                            0.99970                                                                                   \n",
       "\n",
       "[10 rows x 23 columns]"
      ]
     },
     "execution_count": 4,
     "metadata": {},
     "output_type": "execute_result"
    }
   ],
   "source": [
    "df.head(10)"
   ]
  },
  {
   "cell_type": "code",
   "execution_count": 5,
   "metadata": {
    "execution": {
     "iopub.execute_input": "2021-02-12T12:39:27.993459Z",
     "iopub.status.busy": "2021-02-12T12:39:27.983100Z",
     "iopub.status.idle": "2021-02-12T12:39:28.002393Z",
     "shell.execute_reply": "2021-02-12T12:39:28.001793Z"
    },
    "papermill": {
     "duration": 0.072986,
     "end_time": "2021-02-12T12:39:28.002575",
     "exception": false,
     "start_time": "2021-02-12T12:39:27.929589",
     "status": "completed"
    },
    "tags": []
   },
   "outputs": [
    {
     "data": {
      "text/html": [
       "<div>\n",
       "<style scoped>\n",
       "    .dataframe tbody tr th:only-of-type {\n",
       "        vertical-align: middle;\n",
       "    }\n",
       "\n",
       "    .dataframe tbody tr th {\n",
       "        vertical-align: top;\n",
       "    }\n",
       "\n",
       "    .dataframe thead th {\n",
       "        text-align: right;\n",
       "    }\n",
       "</style>\n",
       "<table border=\"1\" class=\"dataframe\">\n",
       "  <thead>\n",
       "    <tr style=\"text-align: right;\">\n",
       "      <th></th>\n",
       "      <th>CLIENTNUM</th>\n",
       "      <th>Attrition_Flag</th>\n",
       "      <th>Customer_Age</th>\n",
       "      <th>Gender</th>\n",
       "      <th>Dependent_count</th>\n",
       "      <th>Education_Level</th>\n",
       "      <th>Marital_Status</th>\n",
       "      <th>Income_Category</th>\n",
       "      <th>Card_Category</th>\n",
       "      <th>Months_on_book</th>\n",
       "      <th>Total_Relationship_Count</th>\n",
       "      <th>Months_Inactive_12_mon</th>\n",
       "      <th>Contacts_Count_12_mon</th>\n",
       "      <th>Credit_Limit</th>\n",
       "      <th>Total_Revolving_Bal</th>\n",
       "      <th>Avg_Open_To_Buy</th>\n",
       "      <th>Total_Amt_Chng_Q4_Q1</th>\n",
       "      <th>Total_Trans_Amt</th>\n",
       "      <th>Total_Trans_Ct</th>\n",
       "      <th>Total_Ct_Chng_Q4_Q1</th>\n",
       "      <th>Avg_Utilization_Ratio</th>\n",
       "      <th>Naive_Bayes_Classifier_Attrition_Flag_Card_Category_Contacts_Count_12_mon_Dependent_count_Education_Level_Months_Inactive_12_mon_1</th>\n",
       "      <th>Naive_Bayes_Classifier_Attrition_Flag_Card_Category_Contacts_Count_12_mon_Dependent_count_Education_Level_Months_Inactive_12_mon_2</th>\n",
       "    </tr>\n",
       "  </thead>\n",
       "  <tbody>\n",
       "    <tr>\n",
       "      <th>0</th>\n",
       "      <td>768805383</td>\n",
       "      <td>Existing Customer</td>\n",
       "      <td>45</td>\n",
       "      <td>M</td>\n",
       "      <td>3</td>\n",
       "      <td>High School</td>\n",
       "      <td>Married</td>\n",
       "      <td>$60K - $80K</td>\n",
       "      <td>Blue</td>\n",
       "      <td>39</td>\n",
       "      <td>5</td>\n",
       "      <td>1</td>\n",
       "      <td>3</td>\n",
       "      <td>12691.0</td>\n",
       "      <td>777</td>\n",
       "      <td>11914.0</td>\n",
       "      <td>1.335</td>\n",
       "      <td>1144</td>\n",
       "      <td>42</td>\n",
       "      <td>1.625</td>\n",
       "      <td>0.061</td>\n",
       "      <td>0.000093</td>\n",
       "      <td>0.99991</td>\n",
       "    </tr>\n",
       "    <tr>\n",
       "      <th>1</th>\n",
       "      <td>818770008</td>\n",
       "      <td>Existing Customer</td>\n",
       "      <td>49</td>\n",
       "      <td>F</td>\n",
       "      <td>5</td>\n",
       "      <td>Graduate</td>\n",
       "      <td>Single</td>\n",
       "      <td>Less than $40K</td>\n",
       "      <td>Blue</td>\n",
       "      <td>44</td>\n",
       "      <td>6</td>\n",
       "      <td>1</td>\n",
       "      <td>2</td>\n",
       "      <td>8256.0</td>\n",
       "      <td>864</td>\n",
       "      <td>7392.0</td>\n",
       "      <td>1.541</td>\n",
       "      <td>1291</td>\n",
       "      <td>33</td>\n",
       "      <td>3.714</td>\n",
       "      <td>0.105</td>\n",
       "      <td>0.000057</td>\n",
       "      <td>0.99994</td>\n",
       "    </tr>\n",
       "    <tr>\n",
       "      <th>2</th>\n",
       "      <td>713982108</td>\n",
       "      <td>Existing Customer</td>\n",
       "      <td>51</td>\n",
       "      <td>M</td>\n",
       "      <td>3</td>\n",
       "      <td>Graduate</td>\n",
       "      <td>Married</td>\n",
       "      <td>$80K - $120K</td>\n",
       "      <td>Blue</td>\n",
       "      <td>36</td>\n",
       "      <td>4</td>\n",
       "      <td>1</td>\n",
       "      <td>0</td>\n",
       "      <td>3418.0</td>\n",
       "      <td>0</td>\n",
       "      <td>3418.0</td>\n",
       "      <td>2.594</td>\n",
       "      <td>1887</td>\n",
       "      <td>20</td>\n",
       "      <td>2.333</td>\n",
       "      <td>0.000</td>\n",
       "      <td>0.000021</td>\n",
       "      <td>0.99998</td>\n",
       "    </tr>\n",
       "    <tr>\n",
       "      <th>3</th>\n",
       "      <td>769911858</td>\n",
       "      <td>Existing Customer</td>\n",
       "      <td>40</td>\n",
       "      <td>F</td>\n",
       "      <td>4</td>\n",
       "      <td>High School</td>\n",
       "      <td>Unknown</td>\n",
       "      <td>Less than $40K</td>\n",
       "      <td>Blue</td>\n",
       "      <td>34</td>\n",
       "      <td>3</td>\n",
       "      <td>4</td>\n",
       "      <td>1</td>\n",
       "      <td>3313.0</td>\n",
       "      <td>2517</td>\n",
       "      <td>796.0</td>\n",
       "      <td>1.405</td>\n",
       "      <td>1171</td>\n",
       "      <td>20</td>\n",
       "      <td>2.333</td>\n",
       "      <td>0.760</td>\n",
       "      <td>0.000134</td>\n",
       "      <td>0.99987</td>\n",
       "    </tr>\n",
       "    <tr>\n",
       "      <th>4</th>\n",
       "      <td>709106358</td>\n",
       "      <td>Existing Customer</td>\n",
       "      <td>40</td>\n",
       "      <td>M</td>\n",
       "      <td>3</td>\n",
       "      <td>Uneducated</td>\n",
       "      <td>Married</td>\n",
       "      <td>$60K - $80K</td>\n",
       "      <td>Blue</td>\n",
       "      <td>21</td>\n",
       "      <td>5</td>\n",
       "      <td>1</td>\n",
       "      <td>0</td>\n",
       "      <td>4716.0</td>\n",
       "      <td>0</td>\n",
       "      <td>4716.0</td>\n",
       "      <td>2.175</td>\n",
       "      <td>816</td>\n",
       "      <td>28</td>\n",
       "      <td>2.500</td>\n",
       "      <td>0.000</td>\n",
       "      <td>0.000022</td>\n",
       "      <td>0.99998</td>\n",
       "    </tr>\n",
       "  </tbody>\n",
       "</table>\n",
       "</div>"
      ],
      "text/plain": [
       "   CLIENTNUM     Attrition_Flag  Customer_Age Gender  Dependent_count  \\\n",
       "0  768805383  Existing Customer            45      M                3   \n",
       "1  818770008  Existing Customer            49      F                5   \n",
       "2  713982108  Existing Customer            51      M                3   \n",
       "3  769911858  Existing Customer            40      F                4   \n",
       "4  709106358  Existing Customer            40      M                3   \n",
       "\n",
       "  Education_Level Marital_Status Income_Category Card_Category  \\\n",
       "0     High School        Married     $60K - $80K          Blue   \n",
       "1        Graduate         Single  Less than $40K          Blue   \n",
       "2        Graduate        Married    $80K - $120K          Blue   \n",
       "3     High School        Unknown  Less than $40K          Blue   \n",
       "4      Uneducated        Married     $60K - $80K          Blue   \n",
       "\n",
       "   Months_on_book  Total_Relationship_Count  Months_Inactive_12_mon  \\\n",
       "0              39                         5                       1   \n",
       "1              44                         6                       1   \n",
       "2              36                         4                       1   \n",
       "3              34                         3                       4   \n",
       "4              21                         5                       1   \n",
       "\n",
       "   Contacts_Count_12_mon  Credit_Limit  Total_Revolving_Bal  Avg_Open_To_Buy  \\\n",
       "0                      3       12691.0                  777          11914.0   \n",
       "1                      2        8256.0                  864           7392.0   \n",
       "2                      0        3418.0                    0           3418.0   \n",
       "3                      1        3313.0                 2517            796.0   \n",
       "4                      0        4716.0                    0           4716.0   \n",
       "\n",
       "   Total_Amt_Chng_Q4_Q1  Total_Trans_Amt  Total_Trans_Ct  Total_Ct_Chng_Q4_Q1  \\\n",
       "0                 1.335             1144              42                1.625   \n",
       "1                 1.541             1291              33                3.714   \n",
       "2                 2.594             1887              20                2.333   \n",
       "3                 1.405             1171              20                2.333   \n",
       "4                 2.175              816              28                2.500   \n",
       "\n",
       "   Avg_Utilization_Ratio  \\\n",
       "0                  0.061   \n",
       "1                  0.105   \n",
       "2                  0.000   \n",
       "3                  0.760   \n",
       "4                  0.000   \n",
       "\n",
       "   Naive_Bayes_Classifier_Attrition_Flag_Card_Category_Contacts_Count_12_mon_Dependent_count_Education_Level_Months_Inactive_12_mon_1  \\\n",
       "0                                           0.000093                                                                                    \n",
       "1                                           0.000057                                                                                    \n",
       "2                                           0.000021                                                                                    \n",
       "3                                           0.000134                                                                                    \n",
       "4                                           0.000022                                                                                    \n",
       "\n",
       "   Naive_Bayes_Classifier_Attrition_Flag_Card_Category_Contacts_Count_12_mon_Dependent_count_Education_Level_Months_Inactive_12_mon_2  \n",
       "0                                            0.99991                                                                                   \n",
       "1                                            0.99994                                                                                   \n",
       "2                                            0.99998                                                                                   \n",
       "3                                            0.99987                                                                                   \n",
       "4                                            0.99998                                                                                   "
      ]
     },
     "execution_count": 5,
     "metadata": {},
     "output_type": "execute_result"
    }
   ],
   "source": [
    "pd.set_option('display.max_columns', None)#to view all the columns\n",
    "df.head()"
   ]
  },
  {
   "cell_type": "markdown",
   "metadata": {
    "papermill": {
     "duration": 0.040865,
     "end_time": "2021-02-12T12:39:28.088680",
     "exception": false,
     "start_time": "2021-02-12T12:39:28.047815",
     "status": "completed"
    },
    "tags": []
   },
   "source": [
    "# 2. Exploratory Data Analysis"
   ]
  },
  {
   "cell_type": "code",
   "execution_count": 6,
   "metadata": {
    "collapsed": true,
    "execution": {
     "iopub.execute_input": "2021-02-12T12:39:28.176091Z",
     "iopub.status.busy": "2021-02-12T12:39:28.175448Z",
     "iopub.status.idle": "2021-02-12T12:39:28.181522Z",
     "shell.execute_reply": "2021-02-12T12:39:28.180945Z"
    },
    "papermill": {
     "duration": 0.05186,
     "end_time": "2021-02-12T12:39:28.181670",
     "exception": false,
     "start_time": "2021-02-12T12:39:28.129810",
     "status": "completed"
    },
    "tags": []
   },
   "outputs": [],
   "source": [
    "#renaming some columns \n",
    "df = df.rename(columns={'CLIENTNUM': 'phone', 'Customer_Age': 'age', 'Naive_Bayes_Classifier_Attrition_Flag_Card_Category_Contacts_Count_12_mon_Dependent_count_Education_Level_Months_Inactive_12_mon_1': 'naive_bayes_month_1', 'Naive_Bayes_Classifier_Attrition_Flag_Card_Category_Contacts_Count_12_mon_Dependent_count_Education_Level_Months_Inactive_12_mon_2': 'naive_bayes_month_2'})"
   ]
  },
  {
   "cell_type": "code",
   "execution_count": 7,
   "metadata": {
    "execution": {
     "iopub.execute_input": "2021-02-12T12:39:28.290376Z",
     "iopub.status.busy": "2021-02-12T12:39:28.287890Z",
     "iopub.status.idle": "2021-02-12T12:39:28.295457Z",
     "shell.execute_reply": "2021-02-12T12:39:28.294751Z"
    },
    "papermill": {
     "duration": 0.073374,
     "end_time": "2021-02-12T12:39:28.295630",
     "exception": false,
     "start_time": "2021-02-12T12:39:28.222256",
     "status": "completed"
    },
    "tags": []
   },
   "outputs": [
    {
     "data": {
      "text/html": [
       "<div>\n",
       "<style scoped>\n",
       "    .dataframe tbody tr th:only-of-type {\n",
       "        vertical-align: middle;\n",
       "    }\n",
       "\n",
       "    .dataframe tbody tr th {\n",
       "        vertical-align: top;\n",
       "    }\n",
       "\n",
       "    .dataframe thead th {\n",
       "        text-align: right;\n",
       "    }\n",
       "</style>\n",
       "<table border=\"1\" class=\"dataframe\">\n",
       "  <thead>\n",
       "    <tr style=\"text-align: right;\">\n",
       "      <th></th>\n",
       "      <th>phone</th>\n",
       "      <th>Attrition_Flag</th>\n",
       "      <th>age</th>\n",
       "      <th>Gender</th>\n",
       "      <th>Dependent_count</th>\n",
       "      <th>Education_Level</th>\n",
       "      <th>Marital_Status</th>\n",
       "      <th>Income_Category</th>\n",
       "      <th>Card_Category</th>\n",
       "      <th>Months_on_book</th>\n",
       "      <th>Total_Relationship_Count</th>\n",
       "      <th>Months_Inactive_12_mon</th>\n",
       "      <th>Contacts_Count_12_mon</th>\n",
       "      <th>Credit_Limit</th>\n",
       "      <th>Total_Revolving_Bal</th>\n",
       "      <th>Avg_Open_To_Buy</th>\n",
       "      <th>Total_Amt_Chng_Q4_Q1</th>\n",
       "      <th>Total_Trans_Amt</th>\n",
       "      <th>Total_Trans_Ct</th>\n",
       "      <th>Total_Ct_Chng_Q4_Q1</th>\n",
       "      <th>Avg_Utilization_Ratio</th>\n",
       "      <th>naive_bayes_month_1</th>\n",
       "      <th>naive_bayes_month_2</th>\n",
       "    </tr>\n",
       "  </thead>\n",
       "  <tbody>\n",
       "    <tr>\n",
       "      <th>0</th>\n",
       "      <td>768805383</td>\n",
       "      <td>Existing Customer</td>\n",
       "      <td>45</td>\n",
       "      <td>M</td>\n",
       "      <td>3</td>\n",
       "      <td>High School</td>\n",
       "      <td>Married</td>\n",
       "      <td>$60K - $80K</td>\n",
       "      <td>Blue</td>\n",
       "      <td>39</td>\n",
       "      <td>5</td>\n",
       "      <td>1</td>\n",
       "      <td>3</td>\n",
       "      <td>12691.0</td>\n",
       "      <td>777</td>\n",
       "      <td>11914.0</td>\n",
       "      <td>1.335</td>\n",
       "      <td>1144</td>\n",
       "      <td>42</td>\n",
       "      <td>1.625</td>\n",
       "      <td>0.061</td>\n",
       "      <td>0.000093</td>\n",
       "      <td>0.99991</td>\n",
       "    </tr>\n",
       "    <tr>\n",
       "      <th>1</th>\n",
       "      <td>818770008</td>\n",
       "      <td>Existing Customer</td>\n",
       "      <td>49</td>\n",
       "      <td>F</td>\n",
       "      <td>5</td>\n",
       "      <td>Graduate</td>\n",
       "      <td>Single</td>\n",
       "      <td>Less than $40K</td>\n",
       "      <td>Blue</td>\n",
       "      <td>44</td>\n",
       "      <td>6</td>\n",
       "      <td>1</td>\n",
       "      <td>2</td>\n",
       "      <td>8256.0</td>\n",
       "      <td>864</td>\n",
       "      <td>7392.0</td>\n",
       "      <td>1.541</td>\n",
       "      <td>1291</td>\n",
       "      <td>33</td>\n",
       "      <td>3.714</td>\n",
       "      <td>0.105</td>\n",
       "      <td>0.000057</td>\n",
       "      <td>0.99994</td>\n",
       "    </tr>\n",
       "    <tr>\n",
       "      <th>2</th>\n",
       "      <td>713982108</td>\n",
       "      <td>Existing Customer</td>\n",
       "      <td>51</td>\n",
       "      <td>M</td>\n",
       "      <td>3</td>\n",
       "      <td>Graduate</td>\n",
       "      <td>Married</td>\n",
       "      <td>$80K - $120K</td>\n",
       "      <td>Blue</td>\n",
       "      <td>36</td>\n",
       "      <td>4</td>\n",
       "      <td>1</td>\n",
       "      <td>0</td>\n",
       "      <td>3418.0</td>\n",
       "      <td>0</td>\n",
       "      <td>3418.0</td>\n",
       "      <td>2.594</td>\n",
       "      <td>1887</td>\n",
       "      <td>20</td>\n",
       "      <td>2.333</td>\n",
       "      <td>0.000</td>\n",
       "      <td>0.000021</td>\n",
       "      <td>0.99998</td>\n",
       "    </tr>\n",
       "    <tr>\n",
       "      <th>3</th>\n",
       "      <td>769911858</td>\n",
       "      <td>Existing Customer</td>\n",
       "      <td>40</td>\n",
       "      <td>F</td>\n",
       "      <td>4</td>\n",
       "      <td>High School</td>\n",
       "      <td>Unknown</td>\n",
       "      <td>Less than $40K</td>\n",
       "      <td>Blue</td>\n",
       "      <td>34</td>\n",
       "      <td>3</td>\n",
       "      <td>4</td>\n",
       "      <td>1</td>\n",
       "      <td>3313.0</td>\n",
       "      <td>2517</td>\n",
       "      <td>796.0</td>\n",
       "      <td>1.405</td>\n",
       "      <td>1171</td>\n",
       "      <td>20</td>\n",
       "      <td>2.333</td>\n",
       "      <td>0.760</td>\n",
       "      <td>0.000134</td>\n",
       "      <td>0.99987</td>\n",
       "    </tr>\n",
       "    <tr>\n",
       "      <th>4</th>\n",
       "      <td>709106358</td>\n",
       "      <td>Existing Customer</td>\n",
       "      <td>40</td>\n",
       "      <td>M</td>\n",
       "      <td>3</td>\n",
       "      <td>Uneducated</td>\n",
       "      <td>Married</td>\n",
       "      <td>$60K - $80K</td>\n",
       "      <td>Blue</td>\n",
       "      <td>21</td>\n",
       "      <td>5</td>\n",
       "      <td>1</td>\n",
       "      <td>0</td>\n",
       "      <td>4716.0</td>\n",
       "      <td>0</td>\n",
       "      <td>4716.0</td>\n",
       "      <td>2.175</td>\n",
       "      <td>816</td>\n",
       "      <td>28</td>\n",
       "      <td>2.500</td>\n",
       "      <td>0.000</td>\n",
       "      <td>0.000022</td>\n",
       "      <td>0.99998</td>\n",
       "    </tr>\n",
       "  </tbody>\n",
       "</table>\n",
       "</div>"
      ],
      "text/plain": [
       "       phone     Attrition_Flag  age Gender  Dependent_count Education_Level  \\\n",
       "0  768805383  Existing Customer   45      M                3     High School   \n",
       "1  818770008  Existing Customer   49      F                5        Graduate   \n",
       "2  713982108  Existing Customer   51      M                3        Graduate   \n",
       "3  769911858  Existing Customer   40      F                4     High School   \n",
       "4  709106358  Existing Customer   40      M                3      Uneducated   \n",
       "\n",
       "  Marital_Status Income_Category Card_Category  Months_on_book  \\\n",
       "0        Married     $60K - $80K          Blue              39   \n",
       "1         Single  Less than $40K          Blue              44   \n",
       "2        Married    $80K - $120K          Blue              36   \n",
       "3        Unknown  Less than $40K          Blue              34   \n",
       "4        Married     $60K - $80K          Blue              21   \n",
       "\n",
       "   Total_Relationship_Count  Months_Inactive_12_mon  Contacts_Count_12_mon  \\\n",
       "0                         5                       1                      3   \n",
       "1                         6                       1                      2   \n",
       "2                         4                       1                      0   \n",
       "3                         3                       4                      1   \n",
       "4                         5                       1                      0   \n",
       "\n",
       "   Credit_Limit  Total_Revolving_Bal  Avg_Open_To_Buy  Total_Amt_Chng_Q4_Q1  \\\n",
       "0       12691.0                  777          11914.0                 1.335   \n",
       "1        8256.0                  864           7392.0                 1.541   \n",
       "2        3418.0                    0           3418.0                 2.594   \n",
       "3        3313.0                 2517            796.0                 1.405   \n",
       "4        4716.0                    0           4716.0                 2.175   \n",
       "\n",
       "   Total_Trans_Amt  Total_Trans_Ct  Total_Ct_Chng_Q4_Q1  \\\n",
       "0             1144              42                1.625   \n",
       "1             1291              33                3.714   \n",
       "2             1887              20                2.333   \n",
       "3             1171              20                2.333   \n",
       "4              816              28                2.500   \n",
       "\n",
       "   Avg_Utilization_Ratio  naive_bayes_month_1  naive_bayes_month_2  \n",
       "0                  0.061             0.000093              0.99991  \n",
       "1                  0.105             0.000057              0.99994  \n",
       "2                  0.000             0.000021              0.99998  \n",
       "3                  0.760             0.000134              0.99987  \n",
       "4                  0.000             0.000022              0.99998  "
      ]
     },
     "execution_count": 7,
     "metadata": {},
     "output_type": "execute_result"
    }
   ],
   "source": [
    "df.head()"
   ]
  },
  {
   "cell_type": "code",
   "execution_count": 8,
   "metadata": {
    "execution": {
     "iopub.execute_input": "2021-02-12T12:39:28.389617Z",
     "iopub.status.busy": "2021-02-12T12:39:28.388847Z",
     "iopub.status.idle": "2021-02-12T12:39:28.456625Z",
     "shell.execute_reply": "2021-02-12T12:39:28.456014Z"
    },
    "papermill": {
     "duration": 0.118545,
     "end_time": "2021-02-12T12:39:28.456818",
     "exception": false,
     "start_time": "2021-02-12T12:39:28.338273",
     "status": "completed"
    },
    "tags": []
   },
   "outputs": [
    {
     "data": {
      "text/html": [
       "<div>\n",
       "<style scoped>\n",
       "    .dataframe tbody tr th:only-of-type {\n",
       "        vertical-align: middle;\n",
       "    }\n",
       "\n",
       "    .dataframe tbody tr th {\n",
       "        vertical-align: top;\n",
       "    }\n",
       "\n",
       "    .dataframe thead th {\n",
       "        text-align: right;\n",
       "    }\n",
       "</style>\n",
       "<table border=\"1\" class=\"dataframe\">\n",
       "  <thead>\n",
       "    <tr style=\"text-align: right;\">\n",
       "      <th></th>\n",
       "      <th>phone</th>\n",
       "      <th>age</th>\n",
       "      <th>Dependent_count</th>\n",
       "      <th>Months_on_book</th>\n",
       "      <th>Total_Relationship_Count</th>\n",
       "      <th>Months_Inactive_12_mon</th>\n",
       "      <th>Contacts_Count_12_mon</th>\n",
       "      <th>Credit_Limit</th>\n",
       "      <th>Total_Revolving_Bal</th>\n",
       "      <th>Avg_Open_To_Buy</th>\n",
       "      <th>Total_Amt_Chng_Q4_Q1</th>\n",
       "      <th>Total_Trans_Amt</th>\n",
       "      <th>Total_Trans_Ct</th>\n",
       "      <th>Total_Ct_Chng_Q4_Q1</th>\n",
       "      <th>Avg_Utilization_Ratio</th>\n",
       "      <th>naive_bayes_month_1</th>\n",
       "      <th>naive_bayes_month_2</th>\n",
       "    </tr>\n",
       "  </thead>\n",
       "  <tbody>\n",
       "    <tr>\n",
       "      <th>count</th>\n",
       "      <td>1.012700e+04</td>\n",
       "      <td>10127.000000</td>\n",
       "      <td>10127.000000</td>\n",
       "      <td>10127.000000</td>\n",
       "      <td>10127.000000</td>\n",
       "      <td>10127.000000</td>\n",
       "      <td>10127.000000</td>\n",
       "      <td>10127.000000</td>\n",
       "      <td>10127.000000</td>\n",
       "      <td>10127.000000</td>\n",
       "      <td>10127.000000</td>\n",
       "      <td>10127.000000</td>\n",
       "      <td>10127.000000</td>\n",
       "      <td>10127.000000</td>\n",
       "      <td>10127.000000</td>\n",
       "      <td>10127.000000</td>\n",
       "      <td>10127.000000</td>\n",
       "    </tr>\n",
       "    <tr>\n",
       "      <th>mean</th>\n",
       "      <td>7.391776e+08</td>\n",
       "      <td>46.325960</td>\n",
       "      <td>2.346203</td>\n",
       "      <td>35.928409</td>\n",
       "      <td>3.812580</td>\n",
       "      <td>2.341167</td>\n",
       "      <td>2.455317</td>\n",
       "      <td>8631.953698</td>\n",
       "      <td>1162.814061</td>\n",
       "      <td>7469.139637</td>\n",
       "      <td>0.759941</td>\n",
       "      <td>4404.086304</td>\n",
       "      <td>64.858695</td>\n",
       "      <td>0.712222</td>\n",
       "      <td>0.274894</td>\n",
       "      <td>0.159997</td>\n",
       "      <td>0.840003</td>\n",
       "    </tr>\n",
       "    <tr>\n",
       "      <th>std</th>\n",
       "      <td>3.690378e+07</td>\n",
       "      <td>8.016814</td>\n",
       "      <td>1.298908</td>\n",
       "      <td>7.986416</td>\n",
       "      <td>1.554408</td>\n",
       "      <td>1.010622</td>\n",
       "      <td>1.106225</td>\n",
       "      <td>9088.776650</td>\n",
       "      <td>814.987335</td>\n",
       "      <td>9090.685324</td>\n",
       "      <td>0.219207</td>\n",
       "      <td>3397.129254</td>\n",
       "      <td>23.472570</td>\n",
       "      <td>0.238086</td>\n",
       "      <td>0.275691</td>\n",
       "      <td>0.365301</td>\n",
       "      <td>0.365301</td>\n",
       "    </tr>\n",
       "    <tr>\n",
       "      <th>min</th>\n",
       "      <td>7.080821e+08</td>\n",
       "      <td>26.000000</td>\n",
       "      <td>0.000000</td>\n",
       "      <td>13.000000</td>\n",
       "      <td>1.000000</td>\n",
       "      <td>0.000000</td>\n",
       "      <td>0.000000</td>\n",
       "      <td>1438.300000</td>\n",
       "      <td>0.000000</td>\n",
       "      <td>3.000000</td>\n",
       "      <td>0.000000</td>\n",
       "      <td>510.000000</td>\n",
       "      <td>10.000000</td>\n",
       "      <td>0.000000</td>\n",
       "      <td>0.000000</td>\n",
       "      <td>0.000008</td>\n",
       "      <td>0.000420</td>\n",
       "    </tr>\n",
       "    <tr>\n",
       "      <th>25%</th>\n",
       "      <td>7.130368e+08</td>\n",
       "      <td>41.000000</td>\n",
       "      <td>1.000000</td>\n",
       "      <td>31.000000</td>\n",
       "      <td>3.000000</td>\n",
       "      <td>2.000000</td>\n",
       "      <td>2.000000</td>\n",
       "      <td>2555.000000</td>\n",
       "      <td>359.000000</td>\n",
       "      <td>1324.500000</td>\n",
       "      <td>0.631000</td>\n",
       "      <td>2155.500000</td>\n",
       "      <td>45.000000</td>\n",
       "      <td>0.582000</td>\n",
       "      <td>0.023000</td>\n",
       "      <td>0.000099</td>\n",
       "      <td>0.999660</td>\n",
       "    </tr>\n",
       "    <tr>\n",
       "      <th>50%</th>\n",
       "      <td>7.179264e+08</td>\n",
       "      <td>46.000000</td>\n",
       "      <td>2.000000</td>\n",
       "      <td>36.000000</td>\n",
       "      <td>4.000000</td>\n",
       "      <td>2.000000</td>\n",
       "      <td>2.000000</td>\n",
       "      <td>4549.000000</td>\n",
       "      <td>1276.000000</td>\n",
       "      <td>3474.000000</td>\n",
       "      <td>0.736000</td>\n",
       "      <td>3899.000000</td>\n",
       "      <td>67.000000</td>\n",
       "      <td>0.702000</td>\n",
       "      <td>0.176000</td>\n",
       "      <td>0.000181</td>\n",
       "      <td>0.999820</td>\n",
       "    </tr>\n",
       "    <tr>\n",
       "      <th>75%</th>\n",
       "      <td>7.731435e+08</td>\n",
       "      <td>52.000000</td>\n",
       "      <td>3.000000</td>\n",
       "      <td>40.000000</td>\n",
       "      <td>5.000000</td>\n",
       "      <td>3.000000</td>\n",
       "      <td>3.000000</td>\n",
       "      <td>11067.500000</td>\n",
       "      <td>1784.000000</td>\n",
       "      <td>9859.000000</td>\n",
       "      <td>0.859000</td>\n",
       "      <td>4741.000000</td>\n",
       "      <td>81.000000</td>\n",
       "      <td>0.818000</td>\n",
       "      <td>0.503000</td>\n",
       "      <td>0.000337</td>\n",
       "      <td>0.999900</td>\n",
       "    </tr>\n",
       "    <tr>\n",
       "      <th>max</th>\n",
       "      <td>8.283431e+08</td>\n",
       "      <td>73.000000</td>\n",
       "      <td>5.000000</td>\n",
       "      <td>56.000000</td>\n",
       "      <td>6.000000</td>\n",
       "      <td>6.000000</td>\n",
       "      <td>6.000000</td>\n",
       "      <td>34516.000000</td>\n",
       "      <td>2517.000000</td>\n",
       "      <td>34516.000000</td>\n",
       "      <td>3.397000</td>\n",
       "      <td>18484.000000</td>\n",
       "      <td>139.000000</td>\n",
       "      <td>3.714000</td>\n",
       "      <td>0.999000</td>\n",
       "      <td>0.999580</td>\n",
       "      <td>0.999990</td>\n",
       "    </tr>\n",
       "  </tbody>\n",
       "</table>\n",
       "</div>"
      ],
      "text/plain": [
       "              phone           age  Dependent_count  Months_on_book  \\\n",
       "count  1.012700e+04  10127.000000     10127.000000    10127.000000   \n",
       "mean   7.391776e+08     46.325960         2.346203       35.928409   \n",
       "std    3.690378e+07      8.016814         1.298908        7.986416   \n",
       "min    7.080821e+08     26.000000         0.000000       13.000000   \n",
       "25%    7.130368e+08     41.000000         1.000000       31.000000   \n",
       "50%    7.179264e+08     46.000000         2.000000       36.000000   \n",
       "75%    7.731435e+08     52.000000         3.000000       40.000000   \n",
       "max    8.283431e+08     73.000000         5.000000       56.000000   \n",
       "\n",
       "       Total_Relationship_Count  Months_Inactive_12_mon  \\\n",
       "count              10127.000000            10127.000000   \n",
       "mean                   3.812580                2.341167   \n",
       "std                    1.554408                1.010622   \n",
       "min                    1.000000                0.000000   \n",
       "25%                    3.000000                2.000000   \n",
       "50%                    4.000000                2.000000   \n",
       "75%                    5.000000                3.000000   \n",
       "max                    6.000000                6.000000   \n",
       "\n",
       "       Contacts_Count_12_mon  Credit_Limit  Total_Revolving_Bal  \\\n",
       "count           10127.000000  10127.000000         10127.000000   \n",
       "mean                2.455317   8631.953698          1162.814061   \n",
       "std                 1.106225   9088.776650           814.987335   \n",
       "min                 0.000000   1438.300000             0.000000   \n",
       "25%                 2.000000   2555.000000           359.000000   \n",
       "50%                 2.000000   4549.000000          1276.000000   \n",
       "75%                 3.000000  11067.500000          1784.000000   \n",
       "max                 6.000000  34516.000000          2517.000000   \n",
       "\n",
       "       Avg_Open_To_Buy  Total_Amt_Chng_Q4_Q1  Total_Trans_Amt  Total_Trans_Ct  \\\n",
       "count     10127.000000          10127.000000     10127.000000    10127.000000   \n",
       "mean       7469.139637              0.759941      4404.086304       64.858695   \n",
       "std        9090.685324              0.219207      3397.129254       23.472570   \n",
       "min           3.000000              0.000000       510.000000       10.000000   \n",
       "25%        1324.500000              0.631000      2155.500000       45.000000   \n",
       "50%        3474.000000              0.736000      3899.000000       67.000000   \n",
       "75%        9859.000000              0.859000      4741.000000       81.000000   \n",
       "max       34516.000000              3.397000     18484.000000      139.000000   \n",
       "\n",
       "       Total_Ct_Chng_Q4_Q1  Avg_Utilization_Ratio  naive_bayes_month_1  \\\n",
       "count         10127.000000           10127.000000         10127.000000   \n",
       "mean              0.712222               0.274894             0.159997   \n",
       "std               0.238086               0.275691             0.365301   \n",
       "min               0.000000               0.000000             0.000008   \n",
       "25%               0.582000               0.023000             0.000099   \n",
       "50%               0.702000               0.176000             0.000181   \n",
       "75%               0.818000               0.503000             0.000337   \n",
       "max               3.714000               0.999000             0.999580   \n",
       "\n",
       "       naive_bayes_month_2  \n",
       "count         10127.000000  \n",
       "mean              0.840003  \n",
       "std               0.365301  \n",
       "min               0.000420  \n",
       "25%               0.999660  \n",
       "50%               0.999820  \n",
       "75%               0.999900  \n",
       "max               0.999990  "
      ]
     },
     "execution_count": 8,
     "metadata": {},
     "output_type": "execute_result"
    }
   ],
   "source": [
    "df.describe()#descriptive summary"
   ]
  },
  {
   "cell_type": "markdown",
   "metadata": {
    "papermill": {
     "duration": 0.042528,
     "end_time": "2021-02-12T12:39:28.544131",
     "exception": false,
     "start_time": "2021-02-12T12:39:28.501603",
     "status": "completed"
    },
    "tags": []
   },
   "source": [
    "credit limit, avg oepn to buy, total_trans_amt seems to have outliers"
   ]
  },
  {
   "cell_type": "code",
   "execution_count": 9,
   "metadata": {
    "execution": {
     "iopub.execute_input": "2021-02-12T12:39:28.643455Z",
     "iopub.status.busy": "2021-02-12T12:39:28.642452Z",
     "iopub.status.idle": "2021-02-12T12:39:28.652438Z",
     "shell.execute_reply": "2021-02-12T12:39:28.651919Z"
    },
    "papermill": {
     "duration": 0.065508,
     "end_time": "2021-02-12T12:39:28.652601",
     "exception": false,
     "start_time": "2021-02-12T12:39:28.587093",
     "status": "completed"
    },
    "tags": []
   },
   "outputs": [
    {
     "data": {
      "text/plain": [
       "phone                       0\n",
       "Attrition_Flag              0\n",
       "age                         0\n",
       "Gender                      0\n",
       "Dependent_count             0\n",
       "Education_Level             0\n",
       "Marital_Status              0\n",
       "Income_Category             0\n",
       "Card_Category               0\n",
       "Months_on_book              0\n",
       "Total_Relationship_Count    0\n",
       "Months_Inactive_12_mon      0\n",
       "Contacts_Count_12_mon       0\n",
       "Credit_Limit                0\n",
       "Total_Revolving_Bal         0\n",
       "Avg_Open_To_Buy             0\n",
       "Total_Amt_Chng_Q4_Q1        0\n",
       "Total_Trans_Amt             0\n",
       "Total_Trans_Ct              0\n",
       "Total_Ct_Chng_Q4_Q1         0\n",
       "Avg_Utilization_Ratio       0\n",
       "naive_bayes_month_1         0\n",
       "naive_bayes_month_2         0\n",
       "dtype: int64"
      ]
     },
     "execution_count": 9,
     "metadata": {},
     "output_type": "execute_result"
    }
   ],
   "source": [
    "df.isnull().sum()#checking for null or missing values"
   ]
  },
  {
   "cell_type": "markdown",
   "metadata": {
    "papermill": {
     "duration": 0.045807,
     "end_time": "2021-02-12T12:39:28.741682",
     "exception": false,
     "start_time": "2021-02-12T12:39:28.695875",
     "status": "completed"
    },
    "tags": []
   },
   "source": [
    "there are no null/missing values SIGH!"
   ]
  },
  {
   "cell_type": "code",
   "execution_count": 10,
   "metadata": {
    "execution": {
     "iopub.execute_input": "2021-02-12T12:39:28.841295Z",
     "iopub.status.busy": "2021-02-12T12:39:28.840475Z",
     "iopub.status.idle": "2021-02-12T12:39:28.845474Z",
     "shell.execute_reply": "2021-02-12T12:39:28.844811Z"
    },
    "papermill": {
     "duration": 0.060326,
     "end_time": "2021-02-12T12:39:28.845650",
     "exception": false,
     "start_time": "2021-02-12T12:39:28.785324",
     "status": "completed"
    },
    "tags": []
   },
   "outputs": [
    {
     "data": {
      "text/plain": [
       "Existing Customer    8500\n",
       "Attrited Customer    1627\n",
       "Name: Attrition_Flag, dtype: int64"
      ]
     },
     "execution_count": 10,
     "metadata": {},
     "output_type": "execute_result"
    }
   ],
   "source": [
    "#attrition flag is our target variable\n",
    "df[\"Attrition_Flag\"].value_counts()"
   ]
  },
  {
   "cell_type": "code",
   "execution_count": 11,
   "metadata": {
    "execution": {
     "iopub.execute_input": "2021-02-12T12:39:28.943321Z",
     "iopub.status.busy": "2021-02-12T12:39:28.942666Z",
     "iopub.status.idle": "2021-02-12T12:39:29.165429Z",
     "shell.execute_reply": "2021-02-12T12:39:29.164641Z"
    },
    "papermill": {
     "duration": 0.276099,
     "end_time": "2021-02-12T12:39:29.165597",
     "exception": false,
     "start_time": "2021-02-12T12:39:28.889498",
     "status": "completed"
    },
    "tags": []
   },
   "outputs": [
    {
     "data": {
      "image/png": "[encoded data removed]",
      "text/plain": [
       "<Figure size 576x432 with 1 Axes>"
      ]
     },
     "metadata": {},
     "output_type": "display_data"
    }
   ],
   "source": [
    "colors=('#453CC9', '#22AFF1')\n",
    "explode=[0,0.1]\n",
    "df[\"Attrition_Flag\"].value_counts().plot(kind='pie',shadow=True,explode=explode,colors=colors,autopct='%.2f',figsize=(8,6))\n",
    "plt.title('Ratio of class')\n",
    "plt.show()"
   ]
  },
  {
   "cell_type": "markdown",
   "metadata": {
    "papermill": {
     "duration": 0.045603,
     "end_time": "2021-02-12T12:39:29.256209",
     "exception": false,
     "start_time": "2021-02-12T12:39:29.210606",
     "status": "completed"
    },
    "tags": []
   },
   "source": [
    "We can see that there are very few rows for 'attrited customer' we might need to oversample the data"
   ]
  },
  {
   "cell_type": "code",
   "execution_count": 12,
   "metadata": {
    "execution": {
     "iopub.execute_input": "2021-02-12T12:39:29.377152Z",
     "iopub.status.busy": "2021-02-12T12:39:29.376432Z",
     "iopub.status.idle": "2021-02-12T12:39:29.475851Z",
     "shell.execute_reply": "2021-02-12T12:39:29.475084Z"
    },
    "papermill": {
     "duration": 0.174272,
     "end_time": "2021-02-12T12:39:29.476019",
     "exception": false,
     "start_time": "2021-02-12T12:39:29.301747",
     "status": "completed"
    },
    "tags": []
   },
   "outputs": [
    {
     "data": {
      "image/png": "[encoded data removed]",
      "text/plain": [
       "<Figure size 576x432 with 1 Axes>"
      ]
     },
     "metadata": {},
     "output_type": "display_data"
    }
   ],
   "source": [
    "colors=('#165081', '#29ABF4')\n",
    "explode=[0,0.1]\n",
    "df[\"Gender\"].value_counts().plot(kind='pie',shadow=True,explode=explode,colors=colors,autopct='%.2f',figsize=(8,6))\n",
    "plt.title('Ratio of Gender')\n",
    "plt.show()"
   ]
  },
  {
   "cell_type": "markdown",
   "metadata": {
    "papermill": {
     "duration": 0.046622,
     "end_time": "2021-02-12T12:39:29.570010",
     "exception": false,
     "start_time": "2021-02-12T12:39:29.523388",
     "status": "completed"
    },
    "tags": []
   },
   "source": [
    "We can see that there are more number of female who uses the card than males"
   ]
  },
  {
   "cell_type": "code",
   "execution_count": 13,
   "metadata": {
    "execution": {
     "iopub.execute_input": "2021-02-12T12:39:29.776122Z",
     "iopub.status.busy": "2021-02-12T12:39:29.766429Z",
     "iopub.status.idle": "2021-02-12T12:39:29.938034Z",
     "shell.execute_reply": "2021-02-12T12:39:29.937343Z"
    },
    "papermill": {
     "duration": 0.320728,
     "end_time": "2021-02-12T12:39:29.938199",
     "exception": false,
     "start_time": "2021-02-12T12:39:29.617471",
     "status": "completed"
    },
    "tags": []
   },
   "outputs": [
    {
     "data": {
      "text/plain": [
       "Text(0.5, 1.0, 'Frequency of Education')"
      ]
     },
     "execution_count": 13,
     "metadata": {},
     "output_type": "execute_result"
    },
    {
     "data": {
      "image/png": "[encoded data removed]",
      "text/plain": [
       "<Figure size 1080x360 with 1 Axes>"
      ]
     },
     "metadata": {
      "needs_background": "light"
     },
     "output_type": "display_data"
    }
   ],
   "source": [
    "df['Education_Level'].value_counts().plot(kind='bar',colormap='winter',figsize=(15,5))\n",
    "plt.title('Frequency of Education')"
   ]
  },
  {
   "cell_type": "markdown",
   "metadata": {
    "papermill": {
     "duration": 0.054676,
     "end_time": "2021-02-12T12:39:30.040236",
     "exception": false,
     "start_time": "2021-02-12T12:39:29.985560",
     "status": "completed"
    },
    "tags": []
   },
   "source": [
    "We can see that graduate holds the maximum no of credit cards followed by high school "
   ]
  },
  {
   "cell_type": "code",
   "execution_count": 14,
   "metadata": {
    "execution": {
     "iopub.execute_input": "2021-02-12T12:39:30.166236Z",
     "iopub.status.busy": "2021-02-12T12:39:30.165111Z",
     "iopub.status.idle": "2021-02-12T12:39:30.316284Z",
     "shell.execute_reply": "2021-02-12T12:39:30.315552Z"
    },
    "papermill": {
     "duration": 0.218613,
     "end_time": "2021-02-12T12:39:30.316454",
     "exception": false,
     "start_time": "2021-02-12T12:39:30.097841",
     "status": "completed"
    },
    "tags": []
   },
   "outputs": [
    {
     "data": {
      "image/png": "[encoded data removed]",
      "text/plain": [
       "<Figure size 576x432 with 1 Axes>"
      ]
     },
     "metadata": {},
     "output_type": "display_data"
    }
   ],
   "source": [
    "colors=('#031B88', '#6096FD', '#AAB6FB','#FB7B8E')\n",
    "explode=[0.02,0.04,0.06,0.08]\n",
    "df[\"Marital_Status\"].value_counts().plot(kind='pie',shadow=True,explode=explode,colors=colors,autopct='%.2f',figsize=(8,6))\n",
    "plt.title('Ratio of Maritial Status')\n",
    "plt.show()"
   ]
  },
  {
   "cell_type": "markdown",
   "metadata": {
    "papermill": {
     "duration": 0.048446,
     "end_time": "2021-02-12T12:39:30.415041",
     "exception": false,
     "start_time": "2021-02-12T12:39:30.366595",
     "status": "completed"
    },
    "tags": []
   },
   "source": [
    "Married people use the credit card more than single people followed by unknown."
   ]
  },
  {
   "cell_type": "code",
   "execution_count": 15,
   "metadata": {
    "execution": {
     "iopub.execute_input": "2021-02-12T12:39:30.545409Z",
     "iopub.status.busy": "2021-02-12T12:39:30.544713Z",
     "iopub.status.idle": "2021-02-12T12:39:30.947364Z",
     "shell.execute_reply": "2021-02-12T12:39:30.946659Z"
    },
    "papermill": {
     "duration": 0.483467,
     "end_time": "2021-02-12T12:39:30.947526",
     "exception": false,
     "start_time": "2021-02-12T12:39:30.464059",
     "status": "completed"
    },
    "tags": []
   },
   "outputs": [
    {
     "data": {
      "image/png": "[encoded data removed]",
      "text/plain": [
       "<Figure size 576x432 with 1 Axes>"
      ]
     },
     "metadata": {},
     "output_type": "display_data"
    }
   ],
   "source": [
    "colors=('#192e5b', '#1d65a6', '#72a2c0','#00743f','#FB7B8E','#AAB6FB')\n",
    "explode=[0.1,0.08,0.06,0.05,0.04,0]\n",
    "df[\"Income_Category\"].value_counts().plot(kind='pie',shadow=True,explode=explode,colors=colors,autopct='%.2f',figsize=(8,6))\n",
    "plt.title('Ratio of Income  Category')\n",
    "plt.show()"
   ]
  },
  {
   "cell_type": "markdown",
   "metadata": {
    "papermill": {
     "duration": 0.050259,
     "end_time": "2021-02-12T12:39:31.048403",
     "exception": false,
     "start_time": "2021-02-12T12:39:30.998144",
     "status": "completed"
    },
    "tags": []
   },
   "source": [
    "We can see that the people with less income are the ones who uses credit card the most"
   ]
  },
  {
   "cell_type": "code",
   "execution_count": 16,
   "metadata": {
    "execution": {
     "iopub.execute_input": "2021-02-12T12:39:31.177122Z",
     "iopub.status.busy": "2021-02-12T12:39:31.174929Z",
     "iopub.status.idle": "2021-02-12T12:39:31.183236Z",
     "shell.execute_reply": "2021-02-12T12:39:31.182571Z"
    },
    "papermill": {
     "duration": 0.084128,
     "end_time": "2021-02-12T12:39:31.183399",
     "exception": false,
     "start_time": "2021-02-12T12:39:31.099271",
     "status": "completed"
    },
    "tags": []
   },
   "outputs": [
    {
     "data": {
      "text/html": [
       "<div>\n",
       "<style scoped>\n",
       "    .dataframe tbody tr th:only-of-type {\n",
       "        vertical-align: middle;\n",
       "    }\n",
       "\n",
       "    .dataframe tbody tr th {\n",
       "        vertical-align: top;\n",
       "    }\n",
       "\n",
       "    .dataframe thead th {\n",
       "        text-align: right;\n",
       "    }\n",
       "</style>\n",
       "<table border=\"1\" class=\"dataframe\">\n",
       "  <thead>\n",
       "    <tr style=\"text-align: right;\">\n",
       "      <th></th>\n",
       "      <th>phone</th>\n",
       "      <th>Attrition_Flag</th>\n",
       "      <th>age</th>\n",
       "      <th>Gender</th>\n",
       "      <th>Dependent_count</th>\n",
       "      <th>Education_Level</th>\n",
       "      <th>Marital_Status</th>\n",
       "      <th>Income_Category</th>\n",
       "      <th>Card_Category</th>\n",
       "      <th>Months_on_book</th>\n",
       "      <th>Total_Relationship_Count</th>\n",
       "      <th>Months_Inactive_12_mon</th>\n",
       "      <th>Contacts_Count_12_mon</th>\n",
       "      <th>Credit_Limit</th>\n",
       "      <th>Total_Revolving_Bal</th>\n",
       "      <th>Avg_Open_To_Buy</th>\n",
       "      <th>Total_Amt_Chng_Q4_Q1</th>\n",
       "      <th>Total_Trans_Amt</th>\n",
       "      <th>Total_Trans_Ct</th>\n",
       "      <th>Total_Ct_Chng_Q4_Q1</th>\n",
       "      <th>Avg_Utilization_Ratio</th>\n",
       "      <th>naive_bayes_month_1</th>\n",
       "      <th>naive_bayes_month_2</th>\n",
       "    </tr>\n",
       "  </thead>\n",
       "  <tbody>\n",
       "    <tr>\n",
       "      <th>0</th>\n",
       "      <td>768805383</td>\n",
       "      <td>Existing Customer</td>\n",
       "      <td>45</td>\n",
       "      <td>M</td>\n",
       "      <td>3</td>\n",
       "      <td>High School</td>\n",
       "      <td>Married</td>\n",
       "      <td>$60K - $80K</td>\n",
       "      <td>Blue</td>\n",
       "      <td>39</td>\n",
       "      <td>5</td>\n",
       "      <td>1</td>\n",
       "      <td>3</td>\n",
       "      <td>12691.0</td>\n",
       "      <td>777</td>\n",
       "      <td>11914.0</td>\n",
       "      <td>1.335</td>\n",
       "      <td>1144</td>\n",
       "      <td>42</td>\n",
       "      <td>1.625</td>\n",
       "      <td>0.061</td>\n",
       "      <td>0.000093</td>\n",
       "      <td>0.99991</td>\n",
       "    </tr>\n",
       "    <tr>\n",
       "      <th>1</th>\n",
       "      <td>818770008</td>\n",
       "      <td>Existing Customer</td>\n",
       "      <td>49</td>\n",
       "      <td>F</td>\n",
       "      <td>5</td>\n",
       "      <td>Graduate</td>\n",
       "      <td>Single</td>\n",
       "      <td>Less than $40K</td>\n",
       "      <td>Blue</td>\n",
       "      <td>44</td>\n",
       "      <td>6</td>\n",
       "      <td>1</td>\n",
       "      <td>2</td>\n",
       "      <td>8256.0</td>\n",
       "      <td>864</td>\n",
       "      <td>7392.0</td>\n",
       "      <td>1.541</td>\n",
       "      <td>1291</td>\n",
       "      <td>33</td>\n",
       "      <td>3.714</td>\n",
       "      <td>0.105</td>\n",
       "      <td>0.000057</td>\n",
       "      <td>0.99994</td>\n",
       "    </tr>\n",
       "    <tr>\n",
       "      <th>2</th>\n",
       "      <td>713982108</td>\n",
       "      <td>Existing Customer</td>\n",
       "      <td>51</td>\n",
       "      <td>M</td>\n",
       "      <td>3</td>\n",
       "      <td>Graduate</td>\n",
       "      <td>Married</td>\n",
       "      <td>$80K - $120K</td>\n",
       "      <td>Blue</td>\n",
       "      <td>36</td>\n",
       "      <td>4</td>\n",
       "      <td>1</td>\n",
       "      <td>0</td>\n",
       "      <td>3418.0</td>\n",
       "      <td>0</td>\n",
       "      <td>3418.0</td>\n",
       "      <td>2.594</td>\n",
       "      <td>1887</td>\n",
       "      <td>20</td>\n",
       "      <td>2.333</td>\n",
       "      <td>0.000</td>\n",
       "      <td>0.000021</td>\n",
       "      <td>0.99998</td>\n",
       "    </tr>\n",
       "    <tr>\n",
       "      <th>3</th>\n",
       "      <td>769911858</td>\n",
       "      <td>Existing Customer</td>\n",
       "      <td>40</td>\n",
       "      <td>F</td>\n",
       "      <td>4</td>\n",
       "      <td>High School</td>\n",
       "      <td>Unknown</td>\n",
       "      <td>Less than $40K</td>\n",
       "      <td>Blue</td>\n",
       "      <td>34</td>\n",
       "      <td>3</td>\n",
       "      <td>4</td>\n",
       "      <td>1</td>\n",
       "      <td>3313.0</td>\n",
       "      <td>2517</td>\n",
       "      <td>796.0</td>\n",
       "      <td>1.405</td>\n",
       "      <td>1171</td>\n",
       "      <td>20</td>\n",
       "      <td>2.333</td>\n",
       "      <td>0.760</td>\n",
       "      <td>0.000134</td>\n",
       "      <td>0.99987</td>\n",
       "    </tr>\n",
       "    <tr>\n",
       "      <th>4</th>\n",
       "      <td>709106358</td>\n",
       "      <td>Existing Customer</td>\n",
       "      <td>40</td>\n",
       "      <td>M</td>\n",
       "      <td>3</td>\n",
       "      <td>Uneducated</td>\n",
       "      <td>Married</td>\n",
       "      <td>$60K - $80K</td>\n",
       "      <td>Blue</td>\n",
       "      <td>21</td>\n",
       "      <td>5</td>\n",
       "      <td>1</td>\n",
       "      <td>0</td>\n",
       "      <td>4716.0</td>\n",
       "      <td>0</td>\n",
       "      <td>4716.0</td>\n",
       "      <td>2.175</td>\n",
       "      <td>816</td>\n",
       "      <td>28</td>\n",
       "      <td>2.500</td>\n",
       "      <td>0.000</td>\n",
       "      <td>0.000022</td>\n",
       "      <td>0.99998</td>\n",
       "    </tr>\n",
       "  </tbody>\n",
       "</table>\n",
       "</div>"
      ],
      "text/plain": [
       "       phone     Attrition_Flag  age Gender  Dependent_count Education_Level  \\\n",
       "0  768805383  Existing Customer   45      M                3     High School   \n",
       "1  818770008  Existing Customer   49      F                5        Graduate   \n",
       "2  713982108  Existing Customer   51      M                3        Graduate   \n",
       "3  769911858  Existing Customer   40      F                4     High School   \n",
       "4  709106358  Existing Customer   40      M                3      Uneducated   \n",
       "\n",
       "  Marital_Status Income_Category Card_Category  Months_on_book  \\\n",
       "0        Married     $60K - $80K          Blue              39   \n",
       "1         Single  Less than $40K          Blue              44   \n",
       "2        Married    $80K - $120K          Blue              36   \n",
       "3        Unknown  Less than $40K          Blue              34   \n",
       "4        Married     $60K - $80K          Blue              21   \n",
       "\n",
       "   Total_Relationship_Count  Months_Inactive_12_mon  Contacts_Count_12_mon  \\\n",
       "0                         5                       1                      3   \n",
       "1                         6                       1                      2   \n",
       "2                         4                       1                      0   \n",
       "3                         3                       4                      1   \n",
       "4                         5                       1                      0   \n",
       "\n",
       "   Credit_Limit  Total_Revolving_Bal  Avg_Open_To_Buy  Total_Amt_Chng_Q4_Q1  \\\n",
       "0       12691.0                  777          11914.0                 1.335   \n",
       "1        8256.0                  864           7392.0                 1.541   \n",
       "2        3418.0                    0           3418.0                 2.594   \n",
       "3        3313.0                 2517            796.0                 1.405   \n",
       "4        4716.0                    0           4716.0                 2.175   \n",
       "\n",
       "   Total_Trans_Amt  Total_Trans_Ct  Total_Ct_Chng_Q4_Q1  \\\n",
       "0             1144              42                1.625   \n",
       "1             1291              33                3.714   \n",
       "2             1887              20                2.333   \n",
       "3             1171              20                2.333   \n",
       "4              816              28                2.500   \n",
       "\n",
       "   Avg_Utilization_Ratio  naive_bayes_month_1  naive_bayes_month_2  \n",
       "0                  0.061             0.000093              0.99991  \n",
       "1                  0.105             0.000057              0.99994  \n",
       "2                  0.000             0.000021              0.99998  \n",
       "3                  0.760             0.000134              0.99987  \n",
       "4                  0.000             0.000022              0.99998  "
      ]
     },
     "execution_count": 16,
     "metadata": {},
     "output_type": "execute_result"
    }
   ],
   "source": [
    "df.head()"
   ]
  },
  {
   "cell_type": "code",
   "execution_count": 17,
   "metadata": {
    "execution": {
     "iopub.execute_input": "2021-02-12T12:39:31.295819Z",
     "iopub.status.busy": "2021-02-12T12:39:31.295036Z",
     "iopub.status.idle": "2021-02-12T12:39:31.300386Z",
     "shell.execute_reply": "2021-02-12T12:39:31.299827Z"
    },
    "papermill": {
     "duration": 0.066442,
     "end_time": "2021-02-12T12:39:31.300562",
     "exception": false,
     "start_time": "2021-02-12T12:39:31.234120",
     "status": "completed"
    },
    "tags": []
   },
   "outputs": [
    {
     "data": {
      "text/plain": [
       "Blue        9436\n",
       "Silver       555\n",
       "Gold         116\n",
       "Platinum      20\n",
       "Name: Card_Category, dtype: int64"
      ]
     },
     "execution_count": 17,
     "metadata": {},
     "output_type": "execute_result"
    }
   ],
   "source": [
    "df['Card_Category'].value_counts()"
   ]
  },
  {
   "cell_type": "code",
   "execution_count": 18,
   "metadata": {
    "execution": {
     "iopub.execute_input": "2021-02-12T12:39:31.437846Z",
     "iopub.status.busy": "2021-02-12T12:39:31.437109Z",
     "iopub.status.idle": "2021-02-12T12:39:31.582973Z",
     "shell.execute_reply": "2021-02-12T12:39:31.583490Z"
    },
    "papermill": {
     "duration": 0.231134,
     "end_time": "2021-02-12T12:39:31.583728",
     "exception": false,
     "start_time": "2021-02-12T12:39:31.352594",
     "status": "completed"
    },
    "tags": []
   },
   "outputs": [
    {
     "data": {
      "image/png": "[encoded data removed]",
      "text/plain": [
       "<Figure size 576x432 with 1 Axes>"
      ]
     },
     "metadata": {},
     "output_type": "display_data"
    }
   ],
   "source": [
    "colors=('#0000CD', '#C0C0C0', '#FFD700','#e5e4e2')\n",
    "explode=[0,0.2,0.2,0.3]\n",
    "df[\"Card_Category\"].value_counts().plot(kind='pie',shadow=True,explode=explode,colors=colors,autopct='%.2f',figsize=(8,6))\n",
    "plt.title('Ratio of Card Category')\n",
    "plt.show()"
   ]
  },
  {
   "cell_type": "markdown",
   "metadata": {
    "papermill": {
     "duration": 0.056515,
     "end_time": "2021-02-12T12:39:31.693320",
     "exception": false,
     "start_time": "2021-02-12T12:39:31.636805",
     "status": "completed"
    },
    "tags": []
   },
   "source": [
    "Blue cardholders are maximum."
   ]
  },
  {
   "cell_type": "code",
   "execution_count": 19,
   "metadata": {
    "execution": {
     "iopub.execute_input": "2021-02-12T12:39:31.804115Z",
     "iopub.status.busy": "2021-02-12T12:39:31.803388Z",
     "iopub.status.idle": "2021-02-12T12:39:31.814299Z",
     "shell.execute_reply": "2021-02-12T12:39:31.813550Z"
    },
    "papermill": {
     "duration": 0.068344,
     "end_time": "2021-02-12T12:39:31.814468",
     "exception": false,
     "start_time": "2021-02-12T12:39:31.746124",
     "status": "completed"
    },
    "tags": []
   },
   "outputs": [
    {
     "data": {
      "text/plain": [
       "Less than $40K    3561\n",
       "$40K - $60K       1790\n",
       "$80K - $120K      1535\n",
       "$60K - $80K       1402\n",
       "Unknown           1112\n",
       "$120K +            727\n",
       "Name: Income_Category, dtype: int64"
      ]
     },
     "execution_count": 19,
     "metadata": {},
     "output_type": "execute_result"
    }
   ],
   "source": [
    "df['Income_Category'].value_counts()"
   ]
  },
  {
   "cell_type": "code",
   "execution_count": 20,
   "metadata": {
    "collapsed": true,
    "execution": {
     "iopub.execute_input": "2021-02-12T12:39:31.933301Z",
     "iopub.status.busy": "2021-02-12T12:39:31.932614Z",
     "iopub.status.idle": "2021-02-12T12:39:31.987866Z",
     "shell.execute_reply": "2021-02-12T12:39:31.988336Z"
    },
    "papermill": {
     "duration": 0.118576,
     "end_time": "2021-02-12T12:39:31.988550",
     "exception": false,
     "start_time": "2021-02-12T12:39:31.869974",
     "status": "completed"
    },
    "tags": []
   },
   "outputs": [],
   "source": [
    "#encoding categorical columns\n",
    "df['Attrition_Flag']=df['Attrition_Flag'].replace({'Existing Customer':0, 'Attrited Customer':1})\n",
    "df['Gender']=df['Gender'].replace({'M':1,'F':0})\n",
    "df['Education_Level']=df['Education_Level'].replace({'Uneducated':0, 'High School':1, 'College':2, 'Graduate':3, 'Post-Graduate':4, 'Doctorate':5, 'Unknown':6})\n",
    "df['Marital_Status']=df['Marital_Status'].replace({'Single':0, 'Married':1, 'Divorced':2, 'Unknown':3})\n",
    "df['Income_Category']=df['Income_Category'].replace({'Less than $40K':0, '$40K - $60K':1, '$60K - $80K':2, '$80K - $120K':3, '$120K +':4, 'Unknown':5})\n",
    "df['Card_Category']=df['Card_Category'].replace({'Blue': 0, 'Silver':1,'Gold':2,'Platinum':3})"
   ]
  },
  {
   "cell_type": "code",
   "execution_count": 21,
   "metadata": {
    "execution": {
     "iopub.execute_input": "2021-02-12T12:39:32.098810Z",
     "iopub.status.busy": "2021-02-12T12:39:32.098158Z",
     "iopub.status.idle": "2021-02-12T12:39:32.104906Z",
     "shell.execute_reply": "2021-02-12T12:39:32.105385Z"
    },
    "papermill": {
     "duration": 0.063906,
     "end_time": "2021-02-12T12:39:32.105573",
     "exception": false,
     "start_time": "2021-02-12T12:39:32.041667",
     "status": "completed"
    },
    "tags": []
   },
   "outputs": [
    {
     "data": {
      "text/plain": [
       "phone                         int64\n",
       "Attrition_Flag                int64\n",
       "age                           int64\n",
       "Gender                        int64\n",
       "Dependent_count               int64\n",
       "Education_Level               int64\n",
       "Marital_Status                int64\n",
       "Income_Category               int64\n",
       "Card_Category                 int64\n",
       "Months_on_book                int64\n",
       "Total_Relationship_Count      int64\n",
       "Months_Inactive_12_mon        int64\n",
       "Contacts_Count_12_mon         int64\n",
       "Credit_Limit                float64\n",
       "Total_Revolving_Bal           int64\n",
       "Avg_Open_To_Buy             float64\n",
       "Total_Amt_Chng_Q4_Q1        float64\n",
       "Total_Trans_Amt               int64\n",
       "Total_Trans_Ct                int64\n",
       "Total_Ct_Chng_Q4_Q1         float64\n",
       "Avg_Utilization_Ratio       float64\n",
       "naive_bayes_month_1         float64\n",
       "naive_bayes_month_2         float64\n",
       "dtype: object"
      ]
     },
     "execution_count": 21,
     "metadata": {},
     "output_type": "execute_result"
    }
   ],
   "source": [
    "df.dtypes#verifying dtypes"
   ]
  },
  {
   "cell_type": "code",
   "execution_count": 22,
   "metadata": {
    "execution": {
     "iopub.execute_input": "2021-02-12T12:39:32.216129Z",
     "iopub.status.busy": "2021-02-12T12:39:32.215365Z",
     "iopub.status.idle": "2021-02-12T12:39:36.077751Z",
     "shell.execute_reply": "2021-02-12T12:39:36.078247Z"
    },
    "papermill": {
     "duration": 3.919723,
     "end_time": "2021-02-12T12:39:36.078439",
     "exception": false,
     "start_time": "2021-02-12T12:39:32.158716",
     "status": "completed"
    },
    "tags": []
   },
   "outputs": [
    {
     "data": {
      "text/plain": [
       "<AxesSubplot:title={'center':'Correlation between variables'}>"
      ]
     },
     "execution_count": 22,
     "metadata": {},
     "output_type": "execute_result"
    },
    {
     "data": {
      "image/png": "[encoded data removed]",
      "text/plain": [
       "<Figure size 1080x576 with 2 Axes>"
      ]
     },
     "metadata": {
      "needs_background": "light"
     },
     "output_type": "display_data"
    }
   ],
   "source": [
    "plt.subplots(figsize=(15,8))\n",
    "plt.title('Correlation between variables')\n",
    "sns.heatmap(df.corr(),annot=True,cmap='YlGnBu')"
   ]
  },
  {
   "cell_type": "code",
   "execution_count": 23,
   "metadata": {
    "execution": {
     "iopub.execute_input": "2021-02-12T12:39:36.209732Z",
     "iopub.status.busy": "2021-02-12T12:39:36.209080Z",
     "iopub.status.idle": "2021-02-12T12:39:41.438092Z",
     "shell.execute_reply": "2021-02-12T12:39:41.437346Z"
    },
    "papermill": {
     "duration": 5.298473,
     "end_time": "2021-02-12T12:39:41.438290",
     "exception": false,
     "start_time": "2021-02-12T12:39:36.139817",
     "status": "completed"
    },
    "tags": []
   },
   "outputs": [
    {
     "data": {
      "text/plain": [
       "array([[<AxesSubplot:title={'center':'phone'}>,\n",
       "        <AxesSubplot:title={'center':'Attrition_Flag'}>,\n",
       "        <AxesSubplot:title={'center':'age'}>,\n",
       "        <AxesSubplot:title={'center':'Gender'}>,\n",
       "        <AxesSubplot:title={'center':'Dependent_count'}>],\n",
       "       [<AxesSubplot:title={'center':'Education_Level'}>,\n",
       "        <AxesSubplot:title={'center':'Marital_Status'}>,\n",
       "        <AxesSubplot:title={'center':'Income_Category'}>,\n",
       "        <AxesSubplot:title={'center':'Card_Category'}>,\n",
       "        <AxesSubplot:title={'center':'Months_on_book'}>],\n",
       "       [<AxesSubplot:title={'center':'Total_Relationship_Count'}>,\n",
       "        <AxesSubplot:title={'center':'Months_Inactive_12_mon'}>,\n",
       "        <AxesSubplot:title={'center':'Contacts_Count_12_mon'}>,\n",
       "        <AxesSubplot:title={'center':'Credit_Limit'}>,\n",
       "        <AxesSubplot:title={'center':'Total_Revolving_Bal'}>],\n",
       "       [<AxesSubplot:title={'center':'Avg_Open_To_Buy'}>,\n",
       "        <AxesSubplot:title={'center':'Total_Amt_Chng_Q4_Q1'}>,\n",
       "        <AxesSubplot:title={'center':'Total_Trans_Amt'}>,\n",
       "        <AxesSubplot:title={'center':'Total_Trans_Ct'}>,\n",
       "        <AxesSubplot:title={'center':'Total_Ct_Chng_Q4_Q1'}>],\n",
       "       [<AxesSubplot:title={'center':'Avg_Utilization_Ratio'}>,\n",
       "        <AxesSubplot:title={'center':'naive_bayes_month_1'}>,\n",
       "        <AxesSubplot:title={'center':'naive_bayes_month_2'}>,\n",
       "        <AxesSubplot:>, <AxesSubplot:>]], dtype=object)"
      ]
     },
     "execution_count": 23,
     "metadata": {},
     "output_type": "execute_result"
    },
    {
     "data": {
      "image/png": "[encoded data removed]",
      "text/plain": [
       "<Figure size 1440x1440 with 25 Axes>"
      ]
     },
     "metadata": {
      "needs_background": "light"
     },
     "output_type": "display_data"
    }
   ],
   "source": [
    "df.hist(bins=50, figsize=(20,20))"
   ]
  },
  {
   "cell_type": "code",
   "execution_count": 24,
   "metadata": {
    "collapsed": true,
    "execution": {
     "iopub.execute_input": "2021-02-12T12:39:41.583432Z",
     "iopub.status.busy": "2021-02-12T12:39:41.582395Z",
     "iopub.status.idle": "2021-02-12T12:39:41.586033Z",
     "shell.execute_reply": "2021-02-12T12:39:41.585358Z"
    },
    "papermill": {
     "duration": 0.079574,
     "end_time": "2021-02-12T12:39:41.586194",
     "exception": false,
     "start_time": "2021-02-12T12:39:41.506620",
     "status": "completed"
    },
    "tags": []
   },
   "outputs": [],
   "source": [
    "#dropping unncecessary columns\n",
    "df.drop(['naive_bayes_month_1','naive_bayes_month_2'], axis =1, inplace=True)"
   ]
  },
  {
   "cell_type": "code",
   "execution_count": 25,
   "metadata": {
    "execution": {
     "iopub.execute_input": "2021-02-12T12:39:41.721365Z",
     "iopub.status.busy": "2021-02-12T12:39:41.720661Z",
     "iopub.status.idle": "2021-02-12T12:39:41.725594Z",
     "shell.execute_reply": "2021-02-12T12:39:41.724885Z"
    },
    "papermill": {
     "duration": 0.074749,
     "end_time": "2021-02-12T12:39:41.725762",
     "exception": false,
     "start_time": "2021-02-12T12:39:41.651013",
     "status": "completed"
    },
    "tags": []
   },
   "outputs": [
    {
     "data": {
      "text/plain": [
       "(10127, 21)"
      ]
     },
     "execution_count": 25,
     "metadata": {},
     "output_type": "execute_result"
    }
   ],
   "source": [
    "df.shape"
   ]
  },
  {
   "cell_type": "markdown",
   "metadata": {
    "papermill": {
     "duration": 0.079166,
     "end_time": "2021-02-12T12:39:41.872959",
     "exception": false,
     "start_time": "2021-02-12T12:39:41.793793",
     "status": "completed"
    },
    "tags": []
   },
   "source": [
    "# 3. Splitting data into train and test,scaling and oversampling"
   ]
  },
  {
   "cell_type": "markdown",
   "metadata": {
    "papermill": {
     "duration": 0.074499,
     "end_time": "2021-02-12T12:39:42.025015",
     "exception": false,
     "start_time": "2021-02-12T12:39:41.950516",
     "status": "completed"
    },
    "tags": []
   },
   "source": []
  },
  {
   "cell_type": "code",
   "execution_count": 26,
   "metadata": {
    "collapsed": true,
    "execution": {
     "iopub.execute_input": "2021-02-12T12:39:42.171197Z",
     "iopub.status.busy": "2021-02-12T12:39:42.170511Z",
     "iopub.status.idle": "2021-02-12T12:39:42.912411Z",
     "shell.execute_reply": "2021-02-12T12:39:42.911830Z"
    },
    "papermill": {
     "duration": 0.818101,
     "end_time": "2021-02-12T12:39:42.912583",
     "exception": false,
     "start_time": "2021-02-12T12:39:42.094482",
     "status": "completed"
    },
    "tags": []
   },
   "outputs": [],
   "source": [
    "from sklearn.model_selection import train_test_split\n",
    "from imblearn.over_sampling import SMOTE\n",
    "from sklearn.preprocessing import MinMaxScaler"
   ]
  },
  {
   "cell_type": "code",
   "execution_count": 27,
   "metadata": {
    "execution": {
     "iopub.execute_input": "2021-02-12T12:39:43.053072Z",
     "iopub.status.busy": "2021-02-12T12:39:43.051998Z",
     "iopub.status.idle": "2021-02-12T12:39:43.056873Z",
     "shell.execute_reply": "2021-02-12T12:39:43.056218Z"
    },
    "papermill": {
     "duration": 0.077132,
     "end_time": "2021-02-12T12:39:43.057047",
     "exception": false,
     "start_time": "2021-02-12T12:39:42.979915",
     "status": "completed"
    },
    "tags": []
   },
   "outputs": [
    {
     "data": {
      "text/plain": [
       "Index(['phone', 'Attrition_Flag', 'age', 'Gender', 'Dependent_count',\n",
       "       'Education_Level', 'Marital_Status', 'Income_Category', 'Card_Category',\n",
       "       'Months_on_book', 'Total_Relationship_Count', 'Months_Inactive_12_mon',\n",
       "       'Contacts_Count_12_mon', 'Credit_Limit', 'Total_Revolving_Bal',\n",
       "       'Avg_Open_To_Buy', 'Total_Amt_Chng_Q4_Q1', 'Total_Trans_Amt',\n",
       "       'Total_Trans_Ct', 'Total_Ct_Chng_Q4_Q1', 'Avg_Utilization_Ratio'],\n",
       "      dtype='object')"
      ]
     },
     "execution_count": 27,
     "metadata": {},
     "output_type": "execute_result"
    }
   ],
   "source": [
    "df.columns"
   ]
  },
  {
   "cell_type": "code",
   "execution_count": 28,
   "metadata": {
    "collapsed": true,
    "execution": {
     "iopub.execute_input": "2021-02-12T12:39:43.200880Z",
     "iopub.status.busy": "2021-02-12T12:39:43.199894Z",
     "iopub.status.idle": "2021-02-12T12:39:43.203781Z",
     "shell.execute_reply": "2021-02-12T12:39:43.203229Z"
    },
    "papermill": {
     "duration": 0.080011,
     "end_time": "2021-02-12T12:39:43.203943",
     "exception": false,
     "start_time": "2021-02-12T12:39:43.123932",
     "status": "completed"
    },
    "tags": []
   },
   "outputs": [],
   "source": [
    "X=df[['phone', 'age', 'Gender', 'Dependent_count',\n",
    "       'Education_Level', 'Marital_Status', 'Income_Category', 'Card_Category',\n",
    "       'Months_on_book', 'Total_Relationship_Count', 'Months_Inactive_12_mon',\n",
    "       'Contacts_Count_12_mon', 'Credit_Limit', 'Total_Revolving_Bal',\n",
    "       'Avg_Open_To_Buy', 'Total_Amt_Chng_Q4_Q1', 'Total_Trans_Amt',\n",
    "       'Total_Trans_Ct', 'Total_Ct_Chng_Q4_Q1', 'Avg_Utilization_Ratio']]\n",
    "y=df['Attrition_Flag']"
   ]
  },
  {
   "cell_type": "code",
   "execution_count": 29,
   "metadata": {
    "collapsed": true,
    "execution": {
     "iopub.execute_input": "2021-02-12T12:39:43.346359Z",
     "iopub.status.busy": "2021-02-12T12:39:43.345624Z",
     "iopub.status.idle": "2021-02-12T12:39:43.386139Z",
     "shell.execute_reply": "2021-02-12T12:39:43.385370Z"
    },
    "papermill": {
     "duration": 0.115591,
     "end_time": "2021-02-12T12:39:43.386349",
     "exception": false,
     "start_time": "2021-02-12T12:39:43.270758",
     "status": "completed"
    },
    "tags": []
   },
   "outputs": [],
   "source": [
    "oversample = SMOTE()\n",
    "X, y = oversample.fit_resample(X, y)"
   ]
  },
  {
   "cell_type": "code",
   "execution_count": 30,
   "metadata": {
    "collapsed": true,
    "execution": {
     "iopub.execute_input": "2021-02-12T12:39:43.527004Z",
     "iopub.status.busy": "2021-02-12T12:39:43.526211Z",
     "iopub.status.idle": "2021-02-12T12:39:43.535551Z",
     "shell.execute_reply": "2021-02-12T12:39:43.534906Z"
    },
    "papermill": {
     "duration": 0.082545,
     "end_time": "2021-02-12T12:39:43.535733",
     "exception": false,
     "start_time": "2021-02-12T12:39:43.453188",
     "status": "completed"
    },
    "tags": []
   },
   "outputs": [],
   "source": [
    "# 80% training set 20% percent test set\n",
    "X_train, X_test, y_train, y_test = train_test_split(X, y, test_size=0.20,shuffle=True)"
   ]
  },
  {
   "cell_type": "code",
   "execution_count": 31,
   "metadata": {
    "collapsed": true,
    "execution": {
     "iopub.execute_input": "2021-02-12T12:39:43.681062Z",
     "iopub.status.busy": "2021-02-12T12:39:43.680371Z",
     "iopub.status.idle": "2021-02-12T12:39:43.691448Z",
     "shell.execute_reply": "2021-02-12T12:39:43.690728Z"
    },
    "papermill": {
     "duration": 0.086916,
     "end_time": "2021-02-12T12:39:43.691625",
     "exception": false,
     "start_time": "2021-02-12T12:39:43.604709",
     "status": "completed"
    },
    "tags": []
   },
   "outputs": [],
   "source": [
    "scaler=MinMaxScaler()\n",
    "scaler.fit(X_train)\n",
    "X_train=scaler.transform(X_train)\n",
    "X_test=scaler.transform(X_test)"
   ]
  },
  {
   "cell_type": "code",
   "execution_count": 32,
   "metadata": {
    "execution": {
     "iopub.execute_input": "2021-02-12T12:39:43.833551Z",
     "iopub.status.busy": "2021-02-12T12:39:43.832880Z",
     "iopub.status.idle": "2021-02-12T12:39:43.837440Z",
     "shell.execute_reply": "2021-02-12T12:39:43.837966Z"
    },
    "papermill": {
     "duration": 0.078416,
     "end_time": "2021-02-12T12:39:43.838157",
     "exception": false,
     "start_time": "2021-02-12T12:39:43.759741",
     "status": "completed"
    },
    "tags": []
   },
   "outputs": [
    {
     "name": "stdout",
     "output_type": "stream",
     "text": [
      "Shape of Training data:  (13600, 20) (13600,) Shape of test data:  (3400, 20) (3400,)\n"
     ]
    }
   ],
   "source": [
    "print('Shape of Training data: ',X_train.shape, y_train.shape,\n",
    "     'Shape of test data: ',X_test.shape, y_test.shape)"
   ]
  },
  {
   "cell_type": "markdown",
   "metadata": {
    "papermill": {
     "duration": 0.065852,
     "end_time": "2021-02-12T12:39:43.971264",
     "exception": false,
     "start_time": "2021-02-12T12:39:43.905412",
     "status": "completed"
    },
    "tags": []
   },
   "source": [
    "# 4. Model Building"
   ]
  },
  {
   "cell_type": "markdown",
   "metadata": {
    "papermill": {
     "duration": 0.06582,
     "end_time": "2021-02-12T12:39:44.102927",
     "exception": false,
     "start_time": "2021-02-12T12:39:44.037107",
     "status": "completed"
    },
    "tags": []
   },
   "source": [
    "## 4.1 Logistic Regression"
   ]
  },
  {
   "cell_type": "code",
   "execution_count": 33,
   "metadata": {
    "collapsed": true,
    "execution": {
     "iopub.execute_input": "2021-02-12T12:39:44.240581Z",
     "iopub.status.busy": "2021-02-12T12:39:44.239980Z",
     "iopub.status.idle": "2021-02-12T12:39:44.244134Z",
     "shell.execute_reply": "2021-02-12T12:39:44.243126Z"
    },
    "papermill": {
     "duration": 0.075176,
     "end_time": "2021-02-12T12:39:44.244306",
     "exception": false,
     "start_time": "2021-02-12T12:39:44.169130",
     "status": "completed"
    },
    "tags": []
   },
   "outputs": [],
   "source": [
    "from sklearn.linear_model import LogisticRegression\n",
    "from sklearn.metrics import classification_report, f1_score, confusion_matrix, accuracy_score"
   ]
  },
  {
   "cell_type": "code",
   "execution_count": 34,
   "metadata": {
    "execution": {
     "iopub.execute_input": "2021-02-12T12:39:44.386955Z",
     "iopub.status.busy": "2021-02-12T12:39:44.386215Z",
     "iopub.status.idle": "2021-02-12T12:39:44.706073Z",
     "shell.execute_reply": "2021-02-12T12:39:44.707091Z"
    },
    "papermill": {
     "duration": 0.395166,
     "end_time": "2021-02-12T12:39:44.707392",
     "exception": false,
     "start_time": "2021-02-12T12:39:44.312226",
     "status": "completed"
    },
    "tags": []
   },
   "outputs": [
    {
     "data": {
      "text/plain": [
       "LogisticRegression()"
      ]
     },
     "execution_count": 34,
     "metadata": {},
     "output_type": "execute_result"
    }
   ],
   "source": [
    "lr=LogisticRegression()\n",
    "lr.fit(X_train,y_train)"
   ]
  },
  {
   "cell_type": "code",
   "execution_count": 35,
   "metadata": {
    "collapsed": true,
    "execution": {
     "iopub.execute_input": "2021-02-12T12:39:44.902501Z",
     "iopub.status.busy": "2021-02-12T12:39:44.901333Z",
     "iopub.status.idle": "2021-02-12T12:39:44.903845Z",
     "shell.execute_reply": "2021-02-12T12:39:44.904842Z"
    },
    "papermill": {
     "duration": 0.077895,
     "end_time": "2021-02-12T12:39:44.905131",
     "exception": false,
     "start_time": "2021-02-12T12:39:44.827236",
     "status": "completed"
    },
    "tags": []
   },
   "outputs": [],
   "source": [
    "lr_pred=lr.predict(X_test)"
   ]
  },
  {
   "cell_type": "code",
   "execution_count": 36,
   "metadata": {
    "execution": {
     "iopub.execute_input": "2021-02-12T12:39:45.100442Z",
     "iopub.status.busy": "2021-02-12T12:39:45.099446Z",
     "iopub.status.idle": "2021-02-12T12:39:45.107347Z",
     "shell.execute_reply": "2021-02-12T12:39:45.107882Z"
    },
    "papermill": {
     "duration": 0.083007,
     "end_time": "2021-02-12T12:39:45.108077",
     "exception": false,
     "start_time": "2021-02-12T12:39:45.025070",
     "status": "completed"
    },
    "tags": []
   },
   "outputs": [
    {
     "name": "stdout",
     "output_type": "stream",
     "text": [
      "F1-Score:  0.8783702816057519\n"
     ]
    }
   ],
   "source": [
    "print('F1-Score: ',f1_score(y_test,lr_pred))"
   ]
  },
  {
   "cell_type": "code",
   "execution_count": 37,
   "metadata": {
    "execution": {
     "iopub.execute_input": "2021-02-12T12:39:45.250283Z",
     "iopub.status.busy": "2021-02-12T12:39:45.249578Z",
     "iopub.status.idle": "2021-02-12T12:39:45.266093Z",
     "shell.execute_reply": "2021-02-12T12:39:45.267046Z"
    },
    "papermill": {
     "duration": 0.089933,
     "end_time": "2021-02-12T12:39:45.267322",
     "exception": false,
     "start_time": "2021-02-12T12:39:45.177389",
     "status": "completed"
    },
    "tags": []
   },
   "outputs": [
    {
     "name": "stdout",
     "output_type": "stream",
     "text": [
      "Report:                precision    recall  f1-score   support\n",
      "\n",
      "           0       0.88      0.88      0.88      1733\n",
      "           1       0.88      0.88      0.88      1667\n",
      "\n",
      "    accuracy                           0.88      3400\n",
      "   macro avg       0.88      0.88      0.88      3400\n",
      "weighted avg       0.88      0.88      0.88      3400\n",
      "\n"
     ]
    }
   ],
   "source": [
    "print('Report: ',classification_report(y_test,lr_pred))"
   ]
  },
  {
   "cell_type": "code",
   "execution_count": 38,
   "metadata": {
    "execution": {
     "iopub.execute_input": "2021-02-12T12:39:45.413028Z",
     "iopub.status.busy": "2021-02-12T12:39:45.412170Z",
     "iopub.status.idle": "2021-02-12T12:39:45.427739Z",
     "shell.execute_reply": "2021-02-12T12:39:45.426995Z"
    },
    "papermill": {
     "duration": 0.088659,
     "end_time": "2021-02-12T12:39:45.427936",
     "exception": false,
     "start_time": "2021-02-12T12:39:45.339277",
     "status": "completed"
    },
    "tags": []
   },
   "outputs": [
    {
     "data": {
      "text/plain": [
       "array([[1528,  205],\n",
       "       [ 201, 1466]])"
      ]
     },
     "execution_count": 38,
     "metadata": {},
     "output_type": "execute_result"
    }
   ],
   "source": [
    "confusion_matrix(y_test,lr_pred)"
   ]
  },
  {
   "cell_type": "code",
   "execution_count": 39,
   "metadata": {
    "execution": {
     "iopub.execute_input": "2021-02-12T12:39:45.577571Z",
     "iopub.status.busy": "2021-02-12T12:39:45.576898Z",
     "iopub.status.idle": "2021-02-12T12:39:45.582947Z",
     "shell.execute_reply": "2021-02-12T12:39:45.583401Z"
    },
    "papermill": {
     "duration": 0.082586,
     "end_time": "2021-02-12T12:39:45.583588",
     "exception": false,
     "start_time": "2021-02-12T12:39:45.501002",
     "status": "completed"
    },
    "tags": []
   },
   "outputs": [
    {
     "data": {
      "text/plain": [
       "0.8805882352941177"
      ]
     },
     "execution_count": 39,
     "metadata": {},
     "output_type": "execute_result"
    }
   ],
   "source": [
    "accuracy_score(y_test,lr_pred)"
   ]
  },
  {
   "cell_type": "markdown",
   "metadata": {
    "papermill": {
     "duration": 0.07017,
     "end_time": "2021-02-12T12:39:45.723082",
     "exception": false,
     "start_time": "2021-02-12T12:39:45.652912",
     "status": "completed"
    },
    "tags": []
   },
   "source": [
    "## 4.2 Decision Tree"
   ]
  },
  {
   "cell_type": "code",
   "execution_count": 40,
   "metadata": {
    "collapsed": true,
    "execution": {
     "iopub.execute_input": "2021-02-12T12:39:45.866789Z",
     "iopub.status.busy": "2021-02-12T12:39:45.866105Z",
     "iopub.status.idle": "2021-02-12T12:39:45.871759Z",
     "shell.execute_reply": "2021-02-12T12:39:45.871097Z"
    },
    "papermill": {
     "duration": 0.078689,
     "end_time": "2021-02-12T12:39:45.871898",
     "exception": false,
     "start_time": "2021-02-12T12:39:45.793209",
     "status": "completed"
    },
    "tags": []
   },
   "outputs": [],
   "source": [
    "from sklearn.tree import DecisionTreeClassifier"
   ]
  },
  {
   "cell_type": "code",
   "execution_count": 41,
   "metadata": {
    "execution": {
     "iopub.execute_input": "2021-02-12T12:39:46.013899Z",
     "iopub.status.busy": "2021-02-12T12:39:46.013221Z",
     "iopub.status.idle": "2021-02-12T12:39:46.213943Z",
     "shell.execute_reply": "2021-02-12T12:39:46.213331Z"
    },
    "papermill": {
     "duration": 0.273244,
     "end_time": "2021-02-12T12:39:46.214103",
     "exception": false,
     "start_time": "2021-02-12T12:39:45.940859",
     "status": "completed"
    },
    "tags": []
   },
   "outputs": [
    {
     "data": {
      "text/plain": [
       "DecisionTreeClassifier(criterion='entropy', max_depth=11)"
      ]
     },
     "execution_count": 41,
     "metadata": {},
     "output_type": "execute_result"
    }
   ],
   "source": [
    "#after pruning\n",
    "dt=DecisionTreeClassifier(criterion='entropy',max_depth=11)\n",
    "dt.fit(X_train,y_train)"
   ]
  },
  {
   "cell_type": "code",
   "execution_count": 42,
   "metadata": {
    "collapsed": true,
    "execution": {
     "iopub.execute_input": "2021-02-12T12:39:46.361235Z",
     "iopub.status.busy": "2021-02-12T12:39:46.360539Z",
     "iopub.status.idle": "2021-02-12T12:39:46.364821Z",
     "shell.execute_reply": "2021-02-12T12:39:46.364269Z"
    },
    "papermill": {
     "duration": 0.080184,
     "end_time": "2021-02-12T12:39:46.364996",
     "exception": false,
     "start_time": "2021-02-12T12:39:46.284812",
     "status": "completed"
    },
    "tags": []
   },
   "outputs": [],
   "source": [
    "dt_pred=dt.predict(X_test)"
   ]
  },
  {
   "cell_type": "code",
   "execution_count": 43,
   "metadata": {
    "execution": {
     "iopub.execute_input": "2021-02-12T12:39:46.509720Z",
     "iopub.status.busy": "2021-02-12T12:39:46.508783Z",
     "iopub.status.idle": "2021-02-12T12:39:46.527401Z",
     "shell.execute_reply": "2021-02-12T12:39:46.526755Z"
    },
    "papermill": {
     "duration": 0.092141,
     "end_time": "2021-02-12T12:39:46.527547",
     "exception": false,
     "start_time": "2021-02-12T12:39:46.435406",
     "status": "completed"
    },
    "tags": []
   },
   "outputs": [
    {
     "name": "stdout",
     "output_type": "stream",
     "text": [
      "Report:                precision    recall  f1-score   support\n",
      "\n",
      "           0       0.95      0.93      0.94      1733\n",
      "           1       0.93      0.95      0.94      1667\n",
      "\n",
      "    accuracy                           0.94      3400\n",
      "   macro avg       0.94      0.94      0.94      3400\n",
      "weighted avg       0.94      0.94      0.94      3400\n",
      "\n"
     ]
    }
   ],
   "source": [
    "print('Report: ',classification_report(y_test,dt_pred))"
   ]
  },
  {
   "cell_type": "code",
   "execution_count": 44,
   "metadata": {
    "execution": {
     "iopub.execute_input": "2021-02-12T12:39:46.676422Z",
     "iopub.status.busy": "2021-02-12T12:39:46.675571Z",
     "iopub.status.idle": "2021-02-12T12:39:46.681783Z",
     "shell.execute_reply": "2021-02-12T12:39:46.681128Z"
    },
    "papermill": {
     "duration": 0.083755,
     "end_time": "2021-02-12T12:39:46.681924",
     "exception": false,
     "start_time": "2021-02-12T12:39:46.598169",
     "status": "completed"
    },
    "tags": []
   },
   "outputs": [
    {
     "name": "stdout",
     "output_type": "stream",
     "text": [
      "Accuracy:  0.94\n"
     ]
    }
   ],
   "source": [
    "print('Accuracy: ',accuracy_score(y_test,dt_pred))\n"
   ]
  },
  {
   "cell_type": "code",
   "execution_count": 45,
   "metadata": {
    "execution": {
     "iopub.execute_input": "2021-02-12T12:39:46.830838Z",
     "iopub.status.busy": "2021-02-12T12:39:46.830174Z",
     "iopub.status.idle": "2021-02-12T12:39:46.842892Z",
     "shell.execute_reply": "2021-02-12T12:39:46.842357Z"
    },
    "papermill": {
     "duration": 0.088128,
     "end_time": "2021-02-12T12:39:46.843037",
     "exception": false,
     "start_time": "2021-02-12T12:39:46.754909",
     "status": "completed"
    },
    "tags": []
   },
   "outputs": [
    {
     "data": {
      "text/plain": [
       "array([[1620,  113],\n",
       "       [  91, 1576]])"
      ]
     },
     "execution_count": 45,
     "metadata": {},
     "output_type": "execute_result"
    }
   ],
   "source": [
    "confusion_matrix(y_test,dt_pred)"
   ]
  },
  {
   "cell_type": "markdown",
   "metadata": {
    "papermill": {
     "duration": 0.071276,
     "end_time": "2021-02-12T12:39:46.985269",
     "exception": false,
     "start_time": "2021-02-12T12:39:46.913993",
     "status": "completed"
    },
    "tags": []
   },
   "source": [
    "### 4.2.1 Decision Tree Pruning"
   ]
  },
  {
   "cell_type": "code",
   "execution_count": 46,
   "metadata": {
    "execution": {
     "iopub.execute_input": "2021-02-12T12:39:47.138286Z",
     "iopub.status.busy": "2021-02-12T12:39:47.137571Z",
     "iopub.status.idle": "2021-02-12T12:39:50.740077Z",
     "shell.execute_reply": "2021-02-12T12:39:50.740614Z"
    },
    "papermill": {
     "duration": 3.68447,
     "end_time": "2021-02-12T12:39:50.740835",
     "exception": false,
     "start_time": "2021-02-12T12:39:47.056365",
     "status": "completed"
    },
    "tags": []
   },
   "outputs": [
    {
     "data": {
      "text/plain": [
       "<matplotlib.legend.Legend at 0x7fcd5a8f84d0>"
      ]
     },
     "execution_count": 46,
     "metadata": {},
     "output_type": "execute_result"
    },
    {
     "data": {
      "image/png": "[encoded data removed]",
      "text/plain": [
       "<Figure size 432x288 with 1 Axes>"
      ]
     },
     "metadata": {
      "needs_background": "light"
     },
     "output_type": "display_data"
    }
   ],
   "source": [
    "#decision tree pruning\n",
    "max_depth=[]\n",
    "acc_gini=[]\n",
    "acc_entropy=[]\n",
    "for i in range(1,50,5):\n",
    "    dtree=DecisionTreeClassifier(criterion='gini',max_depth=i)\n",
    "    dtree.fit(X_train,y_train)\n",
    "    pred=dtree.predict(X_test)\n",
    "    \n",
    "    acc_gini.append(accuracy_score(y_test,pred))\n",
    "    \n",
    "    dtree=DecisionTreeClassifier(criterion='entropy',max_depth=i)\n",
    "    dtree.fit(X_train,y_train)\n",
    "    pred=dtree.predict(X_test)\n",
    "    \n",
    "    acc_entropy.append(accuracy_score(y_test,pred))\n",
    "    \n",
    "    max_depth.append(i)\n",
    "    \n",
    "    d=pd.DataFrame({'acc_gini': pd.Series(acc_gini),\n",
    "                   'acc_entropy': pd.Series(acc_entropy),\n",
    "                   'max_depth': pd.Series(max_depth)})\n",
    "    \n",
    "plt.plot('max_depth','acc_gini', data=d, label='gini')\n",
    "plt.plot('max_depth','acc_entropy', data=d, label='entropy')\n",
    "plt.xlabel('max_depth')\n",
    "plt.ylabel('accuracy')\n",
    "plt.grid()\n",
    "plt.legend()"
   ]
  },
  {
   "cell_type": "markdown",
   "metadata": {
    "papermill": {
     "duration": 0.074645,
     "end_time": "2021-02-12T12:39:50.889651",
     "exception": false,
     "start_time": "2021-02-12T12:39:50.815006",
     "status": "completed"
    },
    "tags": []
   },
   "source": [
    "### criterion= 'entropy' and max _depth=11 gives the accuracy upto 95%"
   ]
  },
  {
   "cell_type": "markdown",
   "metadata": {
    "papermill": {
     "duration": 0.075724,
     "end_time": "2021-02-12T12:39:51.041912",
     "exception": false,
     "start_time": "2021-02-12T12:39:50.966188",
     "status": "completed"
    },
    "tags": []
   },
   "source": [
    "\n",
    "<table >\n",
    "  <tr>\n",
    "    <th>Accuracy before pruning</th>\n",
    "    <th>Accuracy after pruning</th> \n",
    "  \n",
    "  </tr>\n",
    "  <tr>\n",
    "    <td>93 %</td>\n",
    "    <td>94 %</td>\n",
    "  </tr>\n",
    "  \n",
    "</table>"
   ]
  },
  {
   "cell_type": "markdown",
   "metadata": {
    "papermill": {
     "duration": 0.073306,
     "end_time": "2021-02-12T12:39:51.188735",
     "exception": false,
     "start_time": "2021-02-12T12:39:51.115429",
     "status": "completed"
    },
    "tags": []
   },
   "source": [
    "## 4.3 Random Forest\n"
   ]
  },
  {
   "cell_type": "code",
   "execution_count": 47,
   "metadata": {
    "collapsed": true,
    "execution": {
     "iopub.execute_input": "2021-02-12T12:39:51.339280Z",
     "iopub.status.busy": "2021-02-12T12:39:51.338614Z",
     "iopub.status.idle": "2021-02-12T12:39:51.343981Z",
     "shell.execute_reply": "2021-02-12T12:39:51.343440Z"
    },
    "papermill": {
     "duration": 0.08197,
     "end_time": "2021-02-12T12:39:51.344144",
     "exception": false,
     "start_time": "2021-02-12T12:39:51.262174",
     "status": "completed"
    },
    "tags": []
   },
   "outputs": [],
   "source": [
    "from sklearn.ensemble import RandomForestClassifier"
   ]
  },
  {
   "cell_type": "code",
   "execution_count": 48,
   "metadata": {
    "execution": {
     "iopub.execute_input": "2021-02-12T12:39:51.497137Z",
     "iopub.status.busy": "2021-02-12T12:39:51.496374Z",
     "iopub.status.idle": "2021-02-12T12:39:54.309021Z",
     "shell.execute_reply": "2021-02-12T12:39:54.309510Z"
    },
    "papermill": {
     "duration": 2.891609,
     "end_time": "2021-02-12T12:39:54.309721",
     "exception": false,
     "start_time": "2021-02-12T12:39:51.418112",
     "status": "completed"
    },
    "tags": []
   },
   "outputs": [
    {
     "data": {
      "text/plain": [
       "RandomForestClassifier()"
      ]
     },
     "execution_count": 48,
     "metadata": {},
     "output_type": "execute_result"
    }
   ],
   "source": [
    "rf=RandomForestClassifier()\n",
    "rf.fit(X_train,y_train)"
   ]
  },
  {
   "cell_type": "code",
   "execution_count": 49,
   "metadata": {
    "collapsed": true,
    "execution": {
     "iopub.execute_input": "2021-02-12T12:39:54.468843Z",
     "iopub.status.busy": "2021-02-12T12:39:54.468140Z",
     "iopub.status.idle": "2021-02-12T12:39:54.535973Z",
     "shell.execute_reply": "2021-02-12T12:39:54.536519Z"
    },
    "papermill": {
     "duration": 0.149626,
     "end_time": "2021-02-12T12:39:54.536756",
     "exception": false,
     "start_time": "2021-02-12T12:39:54.387130",
     "status": "completed"
    },
    "tags": []
   },
   "outputs": [],
   "source": [
    "rf_pred=rf.predict(X_test)"
   ]
  },
  {
   "cell_type": "code",
   "execution_count": 50,
   "metadata": {
    "execution": {
     "iopub.execute_input": "2021-02-12T12:39:54.696993Z",
     "iopub.status.busy": "2021-02-12T12:39:54.696031Z",
     "iopub.status.idle": "2021-02-12T12:39:54.713600Z",
     "shell.execute_reply": "2021-02-12T12:39:54.712865Z"
    },
    "papermill": {
     "duration": 0.100102,
     "end_time": "2021-02-12T12:39:54.713831",
     "exception": false,
     "start_time": "2021-02-12T12:39:54.613729",
     "status": "completed"
    },
    "tags": []
   },
   "outputs": [
    {
     "name": "stdout",
     "output_type": "stream",
     "text": [
      "Report:                precision    recall  f1-score   support\n",
      "\n",
      "           0       0.98      0.96      0.97      1733\n",
      "           1       0.96      0.98      0.97      1667\n",
      "\n",
      "    accuracy                           0.97      3400\n",
      "   macro avg       0.97      0.97      0.97      3400\n",
      "weighted avg       0.97      0.97      0.97      3400\n",
      "\n"
     ]
    }
   ],
   "source": [
    "print('Report: ',classification_report(y_test,rf_pred))"
   ]
  },
  {
   "cell_type": "code",
   "execution_count": 51,
   "metadata": {
    "execution": {
     "iopub.execute_input": "2021-02-12T12:39:54.872057Z",
     "iopub.status.busy": "2021-02-12T12:39:54.871423Z",
     "iopub.status.idle": "2021-02-12T12:39:54.885583Z",
     "shell.execute_reply": "2021-02-12T12:39:54.884909Z"
    },
    "papermill": {
     "duration": 0.095095,
     "end_time": "2021-02-12T12:39:54.885745",
     "exception": false,
     "start_time": "2021-02-12T12:39:54.790650",
     "status": "completed"
    },
    "tags": []
   },
   "outputs": [
    {
     "data": {
      "text/plain": [
       "array([[1668,   65],\n",
       "       [  36, 1631]])"
      ]
     },
     "execution_count": 51,
     "metadata": {},
     "output_type": "execute_result"
    }
   ],
   "source": [
    "confusion_matrix(y_test,rf_pred)"
   ]
  },
  {
   "cell_type": "markdown",
   "metadata": {
    "papermill": {
     "duration": 0.076116,
     "end_time": "2021-02-12T12:39:55.038786",
     "exception": false,
     "start_time": "2021-02-12T12:39:54.962670",
     "status": "completed"
    },
    "tags": []
   },
   "source": [
    "# 5. Result Comparison"
   ]
  },
  {
   "cell_type": "markdown",
   "metadata": {
    "papermill": {
     "duration": 0.076102,
     "end_time": "2021-02-12T12:39:55.191289",
     "exception": false,
     "start_time": "2021-02-12T12:39:55.115187",
     "status": "completed"
    },
    "tags": []
   },
   "source": [
    "<table >\n",
    "  <tr>\n",
    "    <th>Algorithm</th>\n",
    "    <th>Accuracy</th> \n",
    "  \n",
    "  </tr>\n",
    "  <tr>\n",
    "    <td>Logistic Regression</td>\n",
    "    <td>88.6 %</td>\n",
    "  </tr>\n",
    "    <tr>\n",
    "    <td>Decision Tree</td>\n",
    "    <td>94 %</td>\n",
    "  </tr>\n",
    "    <tr>\n",
    "    <td>Random Forest </td>\n",
    "    <td>97 %</td>\n",
    "  </tr>\n",
    "  \n",
    "</table>\n",
    "<br>\n",
    "<br>\n",
    "<center> Out of all Random Forest outperformed other algorithms with accuracy of 97%<center>"
   ]
  },
  {
   "cell_type": "markdown",
   "metadata": {
    "papermill": {
     "duration": 0.074441,
     "end_time": "2021-02-12T12:39:55.342345",
     "exception": false,
     "start_time": "2021-02-12T12:39:55.267904",
     "status": "completed"
    },
    "tags": []
   },
   "source": [
    "# <center> Thank you! </center>"
   ]
  }
 ],
 "metadata": {
  "kernelspec": {
   "display_name": "Python 3",
   "language": "python",
   "name": "python3"
  },
  "language_info": {
   "codemirror_mode": {
    "name": "ipython",
    "version": 3
   },
   "file_extension": ".py",
   "mimetype": "text/x-python",
   "name": "python",
   "nbconvert_exporter": "python",
   "pygments_lexer": "ipython3",
   "version": "3.6.3"
  },
  "papermill": {
   "default_parameters": {},
   "duration": 35.38648,
   "end_time": "2021-02-12T12:39:56.329081",
   "environment_variables": {},
   "exception": null,
   "input_path": "__notebook__.ipynb",
   "output_path": "__notebook__.ipynb",
   "parameters": {},
   "start_time": "2021-02-12T12:39:20.942601",
   "version": "2.2.2"
  }
 },
 "nbformat": 4,
 "nbformat_minor": 4
}
